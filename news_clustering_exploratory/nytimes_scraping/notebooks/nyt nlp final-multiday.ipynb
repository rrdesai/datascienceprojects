{
 "cells": [
  {
   "cell_type": "code",
   "execution_count": 1,
   "metadata": {
    "collapsed": true
   },
   "outputs": [],
   "source": [
    "import json\n",
    "import numpy as np\n",
    "import pandas as pd\n",
    "import sys, os\n",
    "#!/usr/bin/python\n",
    "# parent = os.path.dirname(os.path.realpath(__file__))\n",
    "sys.path.append('~/mitie')\n",
    "\n",
    "from mitie import *\n",
    "from collections import defaultdict\n",
    "\n",
    "ner = named_entity_extractor('../../../mitie/mitie-v0.2-python-2.7-windows-or-linux64/MITIE-models/english/ner_model.dat')"
   ]
  },
  {
   "cell_type": "code",
   "execution_count": 2,
   "metadata": {
    "collapsed": false
   },
   "outputs": [
    {
     "name": "stderr",
     "output_type": "stream",
     "text": [
      "/home/ec2-user/anaconda2/lib/python2.7/site-packages/gensim/utils.py:1015: UserWarning: Pattern library is not installed, lemmatization won't be available.\n",
      "  warnings.warn(\"Pattern library is not installed, lemmatization won't be available.\")\n"
     ]
    }
   ],
   "source": [
    "from sklearn.feature_extraction.text import CountVectorizer, TfidfTransformer, TfidfVectorizer\n",
    "from sklearn.decomposition import TruncatedSVD\n",
    "from sklearn.preprocessing import Normalizer\n",
    "from sklearn.cluster import KMeans\n",
    "from gensim import matutils\n",
    "from nltk.stem import WordNetLemmatizer\n",
    "import nltk\n",
    "from nltk.tokenize import word_tokenize\n"
   ]
  },
  {
   "cell_type": "code",
   "execution_count": 3,
   "metadata": {
    "collapsed": true
   },
   "outputs": [],
   "source": [
    "from multiprocessing import Pool"
   ]
  },
  {
   "cell_type": "code",
   "execution_count": 4,
   "metadata": {
    "collapsed": true
   },
   "outputs": [],
   "source": [
    "from collections import defaultdict\n",
    "pd.options.display.max_colwidth = 250"
   ]
  },
  {
   "cell_type": "code",
   "execution_count": 5,
   "metadata": {
    "collapsed": false
   },
   "outputs": [],
   "source": [
    "vocabdict = defaultdict(int)"
   ]
  },
  {
   "cell_type": "markdown",
   "metadata": {},
   "source": [
    "\n",
    "### Open and read file"
   ]
  },
  {
   "cell_type": "code",
   "execution_count": 6,
   "metadata": {
    "collapsed": false
   },
   "outputs": [
    {
     "name": "stdout",
     "output_type": "stream",
     "text": [
      "161102_times.json\t\t\t kmeans_test_3.csv\r\n",
      "161103_times.json\t\t\t kmeans_test_4.csv\r\n",
      "161105e_nyt.json\t\t\t kmeans_test.csv\r\n",
      "161107e_nyt.json\t\t\t news\r\n",
      "161109_nytm2.json\t\t\t nytimes_extended.csv\r\n",
      "161109_nytm.json\t\t\t nyt nlp final.ipynb\r\n",
      "161110_nytm.json\t\t\t nyt nlp final-multiday-Copy1.ipynb\r\n",
      "161111_nytm.json\t\t\t nyt nlp final-multiday.ipynb\r\n",
      "161112_nytm.json\t\t\t parse_nyt_data-Copy1.ipynb\r\n",
      "161114_nytm.json\t\t\t parse_nyt_data.ipynb\r\n",
      "161116_nytimes_extended_clusters_50.csv  scrapy.cfg\r\n",
      "161116_nytimes_extended_clusters.csv\t tfidf_docsimilarity.ipynb\r\n",
      "161121nyt2.json\t\t\t\t ward_clusters.png\r\n",
      "161121nyt.json\t\t\t\t withspec2.csv\r\n",
      "Clusters.png\t\t\t\t withspec.csv\r\n",
      "kmeans_test_2.csv\r\n"
     ]
    }
   ],
   "source": [
    "!ls"
   ]
  },
  {
   "cell_type": "code",
   "execution_count": 7,
   "metadata": {
    "collapsed": true
   },
   "outputs": [],
   "source": [
    "files = ['161102_times.json','161103_times.json','161105e_nyt.json','161105e_nyt.json','161107e_nyt.json','161109_nytm2.json','161110_nytm.json','161114_nytm.json']\n",
    "splits = []\n",
    "for file_ in files:\n",
    "    f = open(file_,'r')\n",
    "    filestring = f.read()\n",
    "    split = filestring.replace(']\\n','').replace('[\\n','').split('\\n')\n",
    "    splits.extend(split)\n",
    "final_dict = {}"
   ]
  },
  {
   "cell_type": "code",
   "execution_count": 8,
   "metadata": {
    "collapsed": false
   },
   "outputs": [
    {
     "name": "stdout",
     "output_type": "stream",
     "text": [
      "40472\n"
     ]
    }
   ],
   "source": [
    "print len(splits)"
   ]
  },
  {
   "cell_type": "markdown",
   "metadata": {},
   "source": [
    "### Preprocess text"
   ]
  },
  {
   "cell_type": "code",
   "execution_count": 132,
   "metadata": {
    "collapsed": false
   },
   "outputs": [],
   "source": [
    "for i in splits:\n",
    "    try:\n",
    "        temp = json.loads(i[:-1])\n",
    "    except:\n",
    "        continue   \n",
    "     \n",
    "    key = temp.keys()[0].split('?')[0]\n",
    "    if '?' in key:\n",
    "        print key\n",
    "        break\n",
    "    val = temp.values()[0].encode('utf-8').replace(\"\\xe2\\x80\\x99\",\"'\").replace(\"\\xe2\\x80\\x9c\",'\"').replace(\"\\xe2\\x80\\x9d\",'\"').replace('\\xe2\\x80\\x94',\"'\").replace('\\xe2\\x80\\x98',\"'\")\n",
    "    if val != '':\n",
    "        final_dict[key] = val\n",
    "    else:\n",
    "        continue"
   ]
  },
  {
   "cell_type": "code",
   "execution_count": 131,
   "metadata": {
    "collapsed": false
   },
   "outputs": [
    {
     "data": {
      "text/plain": [
       "[u'http://www.nytimes.com/2014/01/10/world/middleeast/syrian-groups-try-to-recruit-us-travelers.html',\n",
       " u'http://www.nytimes.com/2014/03/19/sports/baseball/a-fast-growing-fraternity-in-the-game-tommy-john-patients.html',\n",
       " u'http://www.nytimes.com/2009/07/04/us/politics/04alaska.html',\n",
       " u'http://www.nytimes.com/2015/08/01/business/into-the-family-business-at-perdue.html',\n",
       " u'http://www.nytimes.com/2010/03/08/world/middleeast/08sunnis.html',\n",
       " u'http://www.nytimes.com/2009/06/17/world/middleeast/17tehran.html',\n",
       " u'http://www.nytimes.com/2015/04/25/opinion/laurent-fabius-our-climate-imperatives.html',\n",
       " u'http://www.nytimes.com/2015/02/17/opinion/yanis-varoufakis-no-time-for-games-in-europe.html',\n",
       " u'http://www.nytimes.com/2014/02/11/nyregion/de-blasio-state-of-the-city-speech.html',\n",
       " u'http://www.nytimes.com/2015/07/10/us/politics/jeb-bush-races-past-rivals-in-fund-raising-aided-by-super-pac-cash.html']"
      ]
     },
     "execution_count": 131,
     "metadata": {},
     "output_type": "execute_result"
    }
   ],
   "source": [
    "final_dict.keys()[:10]"
   ]
  },
  {
   "cell_type": "markdown",
   "metadata": {},
   "source": [
    "### Create dataframe"
   ]
  },
  {
   "cell_type": "code",
   "execution_count": 34,
   "metadata": {
    "collapsed": false
   },
   "outputs": [],
   "source": [
    "dump_dict = json.dumps(final_dict)\n",
    "df = pd.read_json(dump_dict, typ = 'series')\n",
    "df = pd.DataFrame(df).reset_index()\n",
    "df.columns  = [['url','text']]\n",
    "df['date'] = df['url'].apply(lambda x: x.split('.com/')[1].split('/')[:3])\n",
    "df['section'] = df['url'].apply(lambda x: x.split('.com/')[1].split('/')[3])\n",
    "df['length'] = df['text'].apply(lambda x: len(x))"
   ]
  },
  {
   "cell_type": "code",
   "execution_count": 35,
   "metadata": {
    "collapsed": false
   },
   "outputs": [
    {
     "data": {
      "text/plain": [
       "155974508"
      ]
     },
     "execution_count": 35,
     "metadata": {},
     "output_type": "execute_result"
    }
   ],
   "source": [
    "df['length'].sum()"
   ]
  },
  {
   "cell_type": "markdown",
   "metadata": {},
   "source": [
    "### Named Entitiy Recognition"
   ]
  },
  {
   "cell_type": "code",
   "execution_count": 13,
   "metadata": {
    "collapsed": true
   },
   "outputs": [],
   "source": [
    "import time"
   ]
  },
  {
   "cell_type": "code",
   "execution_count": 14,
   "metadata": {
    "collapsed": false
   },
   "outputs": [],
   "source": [
    "t0 = time.time()"
   ]
  },
  {
   "cell_type": "code",
   "execution_count": 15,
   "metadata": {
    "collapsed": false
   },
   "outputs": [],
   "source": [
    "cv2 = CountVectorizer(stop_words='english',max_df = 0.15, min_df = 0.01, strip_accents = 'unicode',analyzer='word').fit(df['text'])"
   ]
  },
  {
   "cell_type": "code",
   "execution_count": 16,
   "metadata": {
    "collapsed": true
   },
   "outputs": [],
   "source": [
    "t1 = time.time()"
   ]
  },
  {
   "cell_type": "code",
   "execution_count": 17,
   "metadata": {
    "collapsed": false
   },
   "outputs": [
    {
     "name": "stdout",
     "output_type": "stream",
     "text": [
      "45.7455041409\n"
     ]
    }
   ],
   "source": [
    "print t1-t0"
   ]
  },
  {
   "cell_type": "markdown",
   "metadata": {},
   "source": [
    "# THIS IS WHERE YOU LEFT OFF DUMMY"
   ]
  },
  {
   "cell_type": "code",
   "execution_count": 53,
   "metadata": {
    "collapsed": false
   },
   "outputs": [],
   "source": [
    "## Data should be pre-tokenized within a dataframe, this is intended to be applied to that column of the dataframe and will output  \n",
    "entities_set = set()\n",
    "\n",
    "\n",
    "def get_ent_simp(x, entities_set = entities_set):\n",
    "        entities = ner.extract_entities(x)\n",
    "        temp_ent = set()\n",
    "        for e in entities:\n",
    "            rangee = e[0]\n",
    "            entity_text = \" \".join(x[i] for i in rangee)\n",
    "            temp_ent.update([entity_text])\n",
    "        \n",
    "        entities_set.update(set(temp_ent))\n",
    "#         print len(set(entities_list))\n",
    "\n"
   ]
  },
  {
   "cell_type": "code",
   "execution_count": 28,
   "metadata": {
    "collapsed": false
   },
   "outputs": [
    {
     "data": {
      "text/plain": [
       "u'hop F'"
      ]
     },
     "execution_count": 28,
     "metadata": {},
     "output_type": "execute_result"
    }
   ],
   "source": [
    "df['text'][0][26:31]"
   ]
  },
  {
   "cell_type": "code",
   "execution_count": 47,
   "metadata": {
    "collapsed": true
   },
   "outputs": [],
   "source": [
    "final_set = set()"
   ]
  },
  {
   "cell_type": "code",
   "execution_count": 48,
   "metadata": {
    "collapsed": false
   },
   "outputs": [
    {
     "name": "stdout",
     "output_type": "stream",
     "text": [
      "xrange(2)\n",
      "HONG KONG\n",
      "xrange(7, 11)\n",
      "Bishop Francis X. Ford\n",
      "xrange(12, 13)\n",
      "Brooklyn-born\n",
      "xrange(15, 16)\n",
      "Meihsien\n",
      "xrange(18, 20)\n",
      "Kwangtung Province\n",
      "xrange(27, 28)\n",
      "Canton\n",
      "xrange(36, 37)\n",
      "Chinese\n",
      "xrange(37, 38)\n",
      "Communist\n"
     ]
    }
   ],
   "source": [
    "\n",
    "test_set = set()\n",
    "test_ent = ner.extract_entities(df['tokens'][0])\n",
    "for e in test_ent:\n",
    "    rangee = e[0]\n",
    "    print rangee\n",
    "    entity_text = \" \".join(df['tokens'][0][i] for i in rangee)\n",
    "    print entity_text\n",
    "    test_set.update(entity_text)\n",
    "final_set.update(test_set)"
   ]
  },
  {
   "cell_type": "code",
   "execution_count": null,
   "metadata": {
    "collapsed": false
   },
   "outputs": [],
   "source": [
    "vocabdict= {i:0 for i in cv2.vocabulary_.keys()}"
   ]
  },
  {
   "cell_type": "code",
   "execution_count": null,
   "metadata": {
    "collapsed": false
   },
   "outputs": [],
   "source": [
    "cv2.vocabulary_.keys()"
   ]
  },
  {
   "cell_type": "code",
   "execution_count": null,
   "metadata": {
    "collapsed": false
   },
   "outputs": [],
   "source": [
    "def get_vocab(x):\n",
    "    vocabdict = defaultdict(int)\n",
    "    for i in x:\n",
    "        try:\n",
    "            j = list(set([i]).intersection(set(cv2.vocabulary_.keys())))\n",
    "            vocabdict[j[0]]+=1\n",
    "        except:\n",
    "            continue\n",
    "            \n",
    "    returnlist = []\n",
    "    for k, v in vocabdict.iteritems():\n",
    "        returnlist.append((k+' ')*v)\n",
    "    return ' '.join(returnlist)"
   ]
  },
  {
   "cell_type": "code",
   "execution_count": 36,
   "metadata": {
    "collapsed": true
   },
   "outputs": [],
   "source": [
    "df['tokens'] = df['text'].apply(lambda x: tokenize(x))"
   ]
  },
  {
   "cell_type": "code",
   "execution_count": 54,
   "metadata": {
    "collapsed": false
   },
   "outputs": [],
   "source": [
    "t0 = time.time()\n",
    "df['tokens'].apply(lambda x: get_ent_simp(x))\n",
    "t1 = time.time()"
   ]
  },
  {
   "cell_type": "code",
   "execution_count": 55,
   "metadata": {
    "collapsed": false
   },
   "outputs": [
    {
     "data": {
      "text/plain": [
       "447.7204670906067"
      ]
     },
     "execution_count": 55,
     "metadata": {},
     "output_type": "execute_result"
    }
   ],
   "source": [
    "t1-t0"
   ]
  },
  {
   "cell_type": "code",
   "execution_count": 65,
   "metadata": {
    "collapsed": true
   },
   "outputs": [],
   "source": [
    "entities_list = list(entities_set)"
   ]
  },
  {
   "cell_type": "code",
   "execution_count": 66,
   "metadata": {
    "collapsed": false
   },
   "outputs": [],
   "source": [
    "entities_list.extend(cv2.vocabulary_.keys())"
   ]
  },
  {
   "cell_type": "code",
   "execution_count": 70,
   "metadata": {
    "collapsed": false
   },
   "outputs": [
    {
     "data": {
      "text/plain": [
       "207401"
      ]
     },
     "execution_count": 70,
     "metadata": {},
     "output_type": "execute_result"
    }
   ],
   "source": [
    "len(entities_set)"
   ]
  },
  {
   "cell_type": "code",
   "execution_count": 71,
   "metadata": {
    "collapsed": false
   },
   "outputs": [
    {
     "data": {
      "text/plain": [
       "5711"
      ]
     },
     "execution_count": 71,
     "metadata": {},
     "output_type": "execute_result"
    }
   ],
   "source": [
    "len(cv2.vocabulary_.keys())"
   ]
  },
  {
   "cell_type": "code",
   "execution_count": 140,
   "metadata": {
    "collapsed": false
   },
   "outputs": [
    {
     "data": {
      "text/plain": [
       "212996"
      ]
     },
     "execution_count": 140,
     "metadata": {},
     "output_type": "execute_result"
    }
   ],
   "source": [
    "entities_list = list(set(entities_list))\n",
    "len(entities_list)"
   ]
  },
  {
   "cell_type": "code",
   "execution_count": 141,
   "metadata": {
    "collapsed": false
   },
   "outputs": [],
   "source": [
    "final_vocab = [i.decode(\"utf-8\").encode(\"ascii\",\"ignore\") for i in entities_list]"
   ]
  },
  {
   "cell_type": "code",
   "execution_count": 145,
   "metadata": {
    "collapsed": false
   },
   "outputs": [],
   "source": [
    "final_vocab = list(set(final_vocab))"
   ]
  },
  {
   "cell_type": "code",
   "execution_count": null,
   "metadata": {
    "collapsed": true
   },
   "outputs": [],
   "source": [
    "t0 = time.time()"
   ]
  },
  {
   "cell_type": "code",
   "execution_count": null,
   "metadata": {
    "collapsed": false
   },
   "outputs": [],
   "source": [
    "df['vocab'] = df['tokens'].apply(lambda x: get_vocab(x))"
   ]
  },
  {
   "cell_type": "code",
   "execution_count": null,
   "metadata": {
    "collapsed": false,
    "scrolled": true
   },
   "outputs": [],
   "source": [
    "t1 = time.time()\n",
    "print t1-t0"
   ]
  },
  {
   "cell_type": "code",
   "execution_count": null,
   "metadata": {
    "collapsed": false
   },
   "outputs": [],
   "source": [
    "print t1-t0\n",
    "print '29246.0247421'"
   ]
  },
  {
   "cell_type": "code",
   "execution_count": null,
   "metadata": {
    "collapsed": false
   },
   "outputs": [],
   "source": [
    "df['vocab'][0] + df['entities'][0]"
   ]
  },
  {
   "cell_type": "code",
   "execution_count": null,
   "metadata": {
    "collapsed": false
   },
   "outputs": [],
   "source": [
    "from datetime import datetime\n",
    "print datetime.fromtimestamp(t0)\n",
    "print datetime.fromtimestamp(t1)"
   ]
  },
  {
   "cell_type": "code",
   "execution_count": null,
   "metadata": {
    "collapsed": false
   },
   "outputs": [],
   "source": [
    "def get_entities(x, cw=cv2.vocabulary_.keys()):\n",
    "    x = tokenize(x)\n",
    "    entities = ner.extract_entities(x)\n",
    "    entities_list = []\n",
    "    for e in entities:\n",
    "        rangee = e[0]\n",
    "        entity_text = \" \".join(x[i] for i in rangee)\n",
    "        entities_list.append(entity_text)\n",
    "    for i in x:\n",
    "        if i.lower() in cw:\n",
    "            entities_list.append(i)\n",
    "    return entities_list\n",
    "        "
   ]
  },
  {
   "cell_type": "markdown",
   "metadata": {},
   "source": [
    "#### Lemmatization for Count Vectorizer"
   ]
  },
  {
   "cell_type": "code",
   "execution_count": null,
   "metadata": {
    "collapsed": false
   },
   "outputs": [],
   "source": [
    "lemmatizer = WordNetLemmatizer()\n",
    "def lemmatize_me(x):\n",
    "    x = word_tokenize(x)\n",
    "    x_tagged = nltk.pos_tag(x)\n",
    "    return_list = []\n",
    "    for i in x_tagged:\n",
    "        if 'V' in i[1]:\n",
    "            value = 'v'\n",
    "        else:\n",
    "            value = 'n'\n",
    "        return_list.append(lemmatizer.lemmatize(i[0], pos = value))\n",
    "    return return_list"
   ]
  },
  {
   "cell_type": "markdown",
   "metadata": {},
   "source": [
    "\n",
    "#### create countvectorizer object, transform text to sparse matrix using named entitiy processor"
   ]
  },
  {
   "cell_type": "code",
   "execution_count": null,
   "metadata": {
    "collapsed": false
   },
   "outputs": [],
   "source": [
    "import gc\n",
    "gc.collect()"
   ]
  },
  {
   "cell_type": "code",
   "execution_count": null,
   "metadata": {
    "collapsed": true
   },
   "outputs": [],
   "source": [
    "t0 = time.time()"
   ]
  },
  {
   "cell_type": "code",
   "execution_count": null,
   "metadata": {
    "collapsed": false
   },
   "outputs": [],
   "source": [
    "cv = CountVectorizer(stop_words='english', max_df = 0.15, strip_accents='unicode').fit(df['vocab'])"
   ]
  },
  {
   "cell_type": "code",
   "execution_count": null,
   "metadata": {
    "collapsed": true
   },
   "outputs": [],
   "source": [
    "t1 = time.time()"
   ]
  },
  {
   "cell_type": "code",
   "execution_count": null,
   "metadata": {
    "collapsed": false
   },
   "outputs": [],
   "source": [
    "t1-t0"
   ]
  },
  {
   "cell_type": "code",
   "execution_count": null,
   "metadata": {
    "collapsed": true
   },
   "outputs": [],
   "source": [
    "t0 = time.time()"
   ]
  },
  {
   "cell_type": "code",
   "execution_count": null,
   "metadata": {
    "collapsed": false,
    "scrolled": true
   },
   "outputs": [],
   "source": [
    "sm = cv.transform(df['vocab'])"
   ]
  },
  {
   "cell_type": "code",
   "execution_count": null,
   "metadata": {
    "collapsed": true
   },
   "outputs": [],
   "source": [
    "t1 = time.time()"
   ]
  },
  {
   "cell_type": "code",
   "execution_count": null,
   "metadata": {
    "collapsed": false
   },
   "outputs": [],
   "source": [
    "t1-t0"
   ]
  },
  {
   "cell_type": "markdown",
   "metadata": {},
   "source": [
    "### Fit TF IDF and transform sparse matrix from count vectorizer"
   ]
  },
  {
   "cell_type": "code",
   "execution_count": null,
   "metadata": {
    "collapsed": true
   },
   "outputs": [],
   "source": [
    "t0 = time.time()"
   ]
  },
  {
   "cell_type": "code",
   "execution_count": null,
   "metadata": {
    "collapsed": true
   },
   "outputs": [],
   "source": [
    "tt = TfidfTransformer(sm)"
   ]
  },
  {
   "cell_type": "code",
   "execution_count": null,
   "metadata": {
    "collapsed": true
   },
   "outputs": [],
   "source": [
    "t1 = time.time()"
   ]
  },
  {
   "cell_type": "code",
   "execution_count": null,
   "metadata": {
    "collapsed": false
   },
   "outputs": [],
   "source": [
    "t1-t0"
   ]
  },
  {
   "cell_type": "code",
   "execution_count": null,
   "metadata": {
    "collapsed": false
   },
   "outputs": [],
   "source": [
    "tt"
   ]
  },
  {
   "cell_type": "code",
   "execution_count": 158,
   "metadata": {
    "collapsed": true
   },
   "outputs": [],
   "source": [
    "t0 = time.time()"
   ]
  },
  {
   "cell_type": "code",
   "execution_count": 164,
   "metadata": {
    "collapsed": false
   },
   "outputs": [],
   "source": [
    "tv = TfidfVectorizer( stop_words='english',vocabulary=final_vocab).fit(df['text'])"
   ]
  },
  {
   "cell_type": "code",
   "execution_count": 165,
   "metadata": {
    "collapsed": false
   },
   "outputs": [],
   "source": [
    "tfidf = tv.transform(df['text'])"
   ]
  },
  {
   "cell_type": "code",
   "execution_count": 166,
   "metadata": {
    "collapsed": true
   },
   "outputs": [],
   "source": [
    "t1 = time.time()"
   ]
  },
  {
   "cell_type": "code",
   "execution_count": 167,
   "metadata": {
    "collapsed": false
   },
   "outputs": [
    {
     "data": {
      "text/plain": [
       "192.42994904518127"
      ]
     },
     "execution_count": 167,
     "metadata": {},
     "output_type": "execute_result"
    }
   ],
   "source": [
    "t1-t0"
   ]
  },
  {
   "cell_type": "code",
   "execution_count": 168,
   "metadata": {
    "collapsed": false,
    "scrolled": true
   },
   "outputs": [
    {
     "data": {
      "text/plain": [
       "<25759x212275 sparse matrix of type '<type 'numpy.float64'>'\n",
       "\twith 5245638 stored elements in Compressed Sparse Row format>"
      ]
     },
     "execution_count": 168,
     "metadata": {},
     "output_type": "execute_result"
    }
   ],
   "source": [
    "tfidf"
   ]
  },
  {
   "cell_type": "code",
   "execution_count": 202,
   "metadata": {
    "collapsed": false
   },
   "outputs": [],
   "source": [
    "import pickle\n",
    "pickle.dump(final_vocab,open('nytimes_test_vocab.pkl','wb'))"
   ]
  },
  {
   "cell_type": "code",
   "execution_count": 205,
   "metadata": {
    "collapsed": false
   },
   "outputs": [
    {
     "data": {
      "text/plain": [
       "['',\n",
       " 'Mark Sisson',\n",
       " 'Mr Cortez',\n",
       " 'Wexner Center',\n",
       " 'Barry Berke',\n",
       " 'Mr Cortes',\n",
       " 'Fulton Fish Market',\n",
       " 'Safarova',\n",
       " 'Nampo',\n",
       " 'Mr Van Haeften',\n",
       " 'Paul McGill',\n",
       " 'Yousef Zemmouri',\n",
       " 'Elise Landgraf',\n",
       " 'Janice Sage',\n",
       " 'Dr Vianna',\n",
       " 'Archuleta',\n",
       " 'Lincoln Town Car',\n",
       " 'Gravesend',\n",
       " 'Howyis',\n",
       " \"Xi 'an Environmental Protection Bureau\",\n",
       " 'S-5',\n",
       " 'Euro',\n",
       " 'Loc Tran',\n",
       " 'Valli',\n",
       " 'Andrew D. Hamingson',\n",
       " 'Bill Mazer',\n",
       " 'Valle',\n",
       " \"Luhansk People 's Republics\",\n",
       " 'Willow Song',\n",
       " 'Nicole Walden',\n",
       " 'Picture ,',\n",
       " 'Johns Hopkins Nitze School of Advanced International Studies',\n",
       " 'PORTLAND',\n",
       " 'Mr Jimenez',\n",
       " 'DeGrom',\n",
       " 'Ms Brownstein',\n",
       " 'Valls',\n",
       " 'receiving',\n",
       " 'Saca',\n",
       " 'Mike Holloway',\n",
       " 'Housing and Urban Development',\n",
       " 'R.V.s',\n",
       " 'Miers',\n",
       " 'Leonard Fournette',\n",
       " 'Sergeants',\n",
       " 'Sack',\n",
       " 'Caesar Cella',\n",
       " 'John Battelle',\n",
       " 'Tomas Plekanec',\n",
       " 'Pinkerton',\n",
       " 'Cagelle',\n",
       " 'Qin Guangrong',\n",
       " 'Mr Lambert',\n",
       " \"Urban Institute 's Health Policy Center\",\n",
       " 'Tommy Moore',\n",
       " 'Daw Kyi Kyi Tun',\n",
       " 'Bassanio',\n",
       " 'Daphni Leef',\n",
       " 'Tom Villante',\n",
       " 'Mr Salarzai',\n",
       " 'Paul Graham',\n",
       " 'Papagou',\n",
       " 'Callas',\n",
       " 'milie',\n",
       " 'Teresa C. Younger',\n",
       " 'Wikipedian',\n",
       " 'Clare Hall Laboratory',\n",
       " 'Tsai Jia',\n",
       " 'Mr Sparks',\n",
       " 'Mavis Staples',\n",
       " 'Meike Peters',\n",
       " 'Jang Song Thaek',\n",
       " 'Mr McCaffrey',\n",
       " 'NewYork Times',\n",
       " 'Enzo',\n",
       " 'Efrat Orbach',\n",
       " 'Jesse Peretz',\n",
       " 'Magdalena Choglio Zambrano',\n",
       " 'wagyu',\n",
       " 'elite Special Projects department',\n",
       " 'Mohammad Musa',\n",
       " 'El Ms Loco',\n",
       " 'CNNon Fridaythat',\n",
       " 'Mr Meyer',\n",
       " 'Bandier',\n",
       " 'Cassanova McKinzy',\n",
       " 'kids',\n",
       " 'Mr Kingston',\n",
       " 'Mr Fulcher',\n",
       " 'Der Spiegel',\n",
       " 'Chris Wilton',\n",
       " 'controversy',\n",
       " 'Margot Carlson Delogne',\n",
       " 'Bill Groom;',\n",
       " 'Sokolniki',\n",
       " 'Shelbourne',\n",
       " 'LAUGHTER',\n",
       " 'Pamela Nyberg',\n",
       " 'Xibaipo',\n",
       " 'Red panda',\n",
       " 'Mr Kiriyenko',\n",
       " 'Abigail Klem',\n",
       " 'Walter Natynczyk',\n",
       " 'Technical High School',\n",
       " 'U.C.L.A. Dorsett',\n",
       " 'Capital Grille',\n",
       " 'Pukhov',\n",
       " 'Sana International Airport',\n",
       " 'Laurie Morton',\n",
       " 'AT&T Bell Laboratories',\n",
       " 'Vernor',\n",
       " 'Jay Varma',\n",
       " 'Vernon',\n",
       " 'Bon and Man',\n",
       " 'Skidmore College',\n",
       " 'Wilson Bridges',\n",
       " 'Scott G. Kunselman',\n",
       " 'Dumbarton Oaks Park',\n",
       " 'Connie Francis',\n",
       " 'Lonnie Donaho',\n",
       " 'populations',\n",
       " 'Harsh Crowd',\n",
       " 'Anthony E. Shorris',\n",
       " 'yahoo',\n",
       " 'Management Vision',\n",
       " 'Federal Motor Transport Authority',\n",
       " 'Mr Sayon',\n",
       " 'U.S.-E',\n",
       " 'McMath',\n",
       " 'Cooper Tires',\n",
       " 'Kirkus Reviews',\n",
       " 'F.B.I. Apple',\n",
       " 'Mount Sugarloaf State Reservation',\n",
       " 'Tom Ads',\n",
       " 'Alpina Foods',\n",
       " 'Terry Gross',\n",
       " 'Mr Ament',\n",
       " 'FREITAL',\n",
       " 'old-guard',\n",
       " 'Natural Parenthood',\n",
       " 'Jim Sweeney',\n",
       " 'Physical Health',\n",
       " 'Zhejiang Province',\n",
       " 'Ficus',\n",
       " 'Warren M. Christopher',\n",
       " 'Jennifer Kay',\n",
       " 'Fragale',\n",
       " 'University of Bologna',\n",
       " 'Mr Rufyikiri',\n",
       " 'Canadian Tire Centre',\n",
       " 'Jason Rezaian',\n",
       " 'Ben Kallos',\n",
       " 'Halimis',\n",
       " 'Club for Growth become',\n",
       " 'Steve McMahon',\n",
       " 'Mr Hmoud',\n",
       " 'Mandalay Bay',\n",
       " 'Oberon',\n",
       " 'Oberoi',\n",
       " 'Ostinato',\n",
       " 'Editorials',\n",
       " 'Mr Scheck',\n",
       " 'anti-North Korean',\n",
       " 'Zikr',\n",
       " 'Annette La Rocque Fitzsimmons',\n",
       " 'Duncan Watts',\n",
       " 'Khadiza Sultana',\n",
       " 'Nussbaum',\n",
       " 'Home Run Derby',\n",
       " 'Arnold D. Kassoy',\n",
       " 'Spanish Basque Country',\n",
       " 'Extell Marketing Group',\n",
       " 'Zika',\n",
       " 'Bates',\n",
       " 'Norman Brosterman',\n",
       " 'Richard Gephardt',\n",
       " 'Chen Ziming',\n",
       " 'Manfred Ohrenstein',\n",
       " 'David Garth',\n",
       " 'wrong',\n",
       " 'Combat Outpost Shukvani',\n",
       " 'Lucas Near-Verbrugghe',\n",
       " 'Li Dongsheng',\n",
       " 'Kabuki-like',\n",
       " 'Romina Picolotti',\n",
       " 'Shaye Omar',\n",
       " 'Thank God',\n",
       " 'Kenneth S. Kasprisin',\n",
       " 'Carlos de haber sido criado en Santander',\n",
       " 'Federal Express',\n",
       " 'Anjali',\n",
       " 'Nawa District',\n",
       " 'Fred Simmons',\n",
       " 'Hunton & Williams',\n",
       " 'Shimon',\n",
       " 'Ministry of Civil Affairs',\n",
       " 'Tom Petri',\n",
       " 'Frank C. Guinta',\n",
       " 'Nicholas M. Fahrenkopf',\n",
       " 'welcomed',\n",
       " 'Ipanema Beach',\n",
       " 'Institute for Strategic Studies',\n",
       " 'Mr Wainer',\n",
       " 'Afghanistan Analysts Network',\n",
       " 'Soviet-trained',\n",
       " 'Dale Denton',\n",
       " 'Testament of Mary',\n",
       " 'Dr Albert',\n",
       " 'Pa OVER',\n",
       " 'Mina Yahia',\n",
       " 'Sebastian Currier',\n",
       " 'His',\n",
       " 'Hit',\n",
       " 'Mobile Mom',\n",
       " 'fit',\n",
       " 'Schroeder',\n",
       " 'screaming',\n",
       " 'fix',\n",
       " 'Rubino',\n",
       " 'BLACKSBURG',\n",
       " 'Windows , Office',\n",
       " 'Bahujan Samaj Party',\n",
       " 'FramesDirect',\n",
       " 'Rubins',\n",
       " 'Angelo Damante',\n",
       " 'Jon Stewart',\n",
       " 'ODESSA',\n",
       " 'Adnan al-Betehi',\n",
       " 'J. B. Vowell',\n",
       " 'Mike Devlin',\n",
       " 'Alon',\n",
       " 'Bao',\n",
       " 'Carlos Nuzman',\n",
       " 'A. Syrian',\n",
       " 'Alou',\n",
       " 'Christopher Walken',\n",
       " 'Mr Kundnani',\n",
       " 'Dave Ward',\n",
       " 'Harry Bradley Foundation',\n",
       " 'HSBC Group',\n",
       " 'Juan C. Zarate',\n",
       " 'Mandarin-speaking',\n",
       " 'Mr Masmoudi',\n",
       " 'Bundeswehr',\n",
       " 'John Romita Jr',\n",
       " 'Abby',\n",
       " 'Andrew Levander',\n",
       " 'Mr Ainsworth',\n",
       " 'Tatiana von Furstenberg',\n",
       " 'Jeff Sugg',\n",
       " 'Sach',\n",
       " 'C.L.O.',\n",
       " 'Pearl Jam',\n",
       " 'tablespoon muscovado',\n",
       " 'Lutsk',\n",
       " 'Terry Swenson',\n",
       " 'SELMA',\n",
       " 'Titanfall',\n",
       " 'Ellen Langer',\n",
       " 'German BMW',\n",
       " \"Joan ' '\",\n",
       " \"St Peter 's Square\",\n",
       " 'Thomas \" \\'',\n",
       " 'Dr Vedder',\n",
       " 'Chivas',\n",
       " 'Rosenzweig',\n",
       " 'Mr Zhu',\n",
       " 'Dorothys',\n",
       " 'Criminal-law',\n",
       " 'Jamie Hampton',\n",
       " 'Corinne',\n",
       " 'Every Day',\n",
       " 'Corinna',\n",
       " 'Mr Sugule',\n",
       " 'Bundini',\n",
       " 'Nancy Gertner',\n",
       " 'Nigel',\n",
       " 'Ibrahimi',\n",
       " 'Mr McDonough',\n",
       " 'Rafiah Yam',\n",
       " 'Bond New York',\n",
       " 'William Lewis',\n",
       " 'James Cavanaugh',\n",
       " 'Ralph Rucci',\n",
       " 'Cuzco',\n",
       " 'Michael Wetzel',\n",
       " 'Lunatic Express',\n",
       " 'Harry Houdini',\n",
       " 'David Raz',\n",
       " 'Niger',\n",
       " 'David Ray',\n",
       " 'Salekh Azizov',\n",
       " 'Regis University',\n",
       " 'Margaret Brown',\n",
       " 'Mr Conlow',\n",
       " 'Continental Hockey League',\n",
       " 'Karen Hamilton',\n",
       " 'Star Athletica',\n",
       " 'Diane von Furstenberg',\n",
       " 'Mr Conlon',\n",
       " 'Apple-esque',\n",
       " 'Radio Iowa',\n",
       " 'lakewater Popsicles',\n",
       " 'Corey Olcsvary',\n",
       " 'Kathleen Kennedy',\n",
       " 'LANE',\n",
       " 'Vasily Kashin',\n",
       " 'Hamida Akbari',\n",
       " 'Institute for International Peace Studies',\n",
       " 'Dennis J. Willis',\n",
       " 'Brian De Groat',\n",
       " 'Roaa Salem',\n",
       " 'Bendima',\n",
       " 'Donald Young',\n",
       " 'Matt DeVries',\n",
       " 'Sianoa Smit-McPhee',\n",
       " 'Toivo',\n",
       " 'Bolgheri',\n",
       " 'Bohumil Hrabal',\n",
       " 'Hammerstein',\n",
       " 'Joint Forces Command',\n",
       " 'Mr Mattarella',\n",
       " 'Bertha Lee',\n",
       " 'Lukyanovich',\n",
       " 'Biologics Evaluation and Research',\n",
       " 'Delta Air Lines Flight',\n",
       " 'Tauhid Mahmud',\n",
       " 'Mr Gallone',\n",
       " 'Reggie Joule',\n",
       " 'CenturyLink',\n",
       " 'Rania',\n",
       " 'Rahman Malik',\n",
       " 'Yondainer Gutirrez',\n",
       " 'Sprint Cup',\n",
       " 'Weisinger Company',\n",
       " 'Charlotte Scott',\n",
       " 'New Jersey Diamond Gloves Competition',\n",
       " 'Scotts Miracle-Gro',\n",
       " 'Michael Brockers',\n",
       " 'Kander and Mr Ebb',\n",
       " 'Gill Fund',\n",
       " 'Mr Wolfers',\n",
       " 'Field Company',\n",
       " 'Dias Kadyrbayev',\n",
       " 'Caesar R. Goodson Jr',\n",
       " 'Hand Central Station',\n",
       " 'Chicago',\n",
       " 'Caribou Coffee',\n",
       " 'Edward J. Mandery',\n",
       " 'Belarussian',\n",
       " 'Miguel Gil',\n",
       " 'Adam Medros',\n",
       " 'Abdulwahab Dhaifallah',\n",
       " 'Los Angeles Chargers',\n",
       " 'Theo',\n",
       " 'Thek',\n",
       " 'Bill Stabile',\n",
       " 'Cheesehead TV',\n",
       " 'Lawrence H. Summers',\n",
       " 'Thea',\n",
       " 'Adnan Abdul Dayem',\n",
       " 'Heather Whaley',\n",
       " 'Tom Wolf',\n",
       " 'Sabitha Altin',\n",
       " 'They',\n",
       " 'Giuliana Adamo',\n",
       " 'Stewart-Cousins',\n",
       " 'kremlin',\n",
       " 'Graham Skipper',\n",
       " 'Catherine Hardwicke',\n",
       " 'Mali-based',\n",
       " 'Bien Cuit',\n",
       " 'British Medical Journal',\n",
       " 'Bill Graves',\n",
       " 'Philip Anschutz',\n",
       " 'Tuckers',\n",
       " 'CBS Sports Network',\n",
       " 'Jantar Mantar',\n",
       " 'Howie Carr',\n",
       " 'Grifols',\n",
       " 'John Shadegg',\n",
       " 'Saint George',\n",
       " 'THE Pan-American Exposition',\n",
       " 'Shooters Committee',\n",
       " 'Maria Eugenia Sueiro;',\n",
       " 'Edward Scissorhands',\n",
       " 'Borgata Hotel Casino and Spa',\n",
       " 'William Julius Wilson',\n",
       " 'Ben Mendelsohn',\n",
       " 'Cameron Crowe',\n",
       " 'U-4',\n",
       " 'Christina Weiss',\n",
       " 'John Geiger',\n",
       " 'Ari Kalfayan',\n",
       " 'Carmelo Mesa-Lago',\n",
       " 'Next Fall',\n",
       " 'Beeswax',\n",
       " 'Basinger',\n",
       " 'Mr Waszczykowski',\n",
       " 'Eregvi',\n",
       " 'Dana Weems',\n",
       " 'Jehangir Mehta',\n",
       " 'Ben Boulware',\n",
       " 'Ramon Paje',\n",
       " 'Michael Cervone',\n",
       " 'Mr Kelman',\n",
       " 'Paula Radcliffe',\n",
       " 'Jimmy Silber',\n",
       " 'David M. Walker',\n",
       " 'Criterion Collection',\n",
       " 'John W. Byers',\n",
       " 'Kenneth Park',\n",
       " 'Mary Martin',\n",
       " 'Tourist/Freelancer/Radio Host',\n",
       " 'Mr Kildee',\n",
       " 'Timothy White',\n",
       " 'Bauhinia Villa',\n",
       " 'Mr Yashin',\n",
       " 'Zhidao',\n",
       " 'Andrea Franchetti',\n",
       " 'Chambers , Maritime',\n",
       " 'Troublemakers',\n",
       " 'FLORENCE',\n",
       " 'Tennessee Democrat',\n",
       " 'People Express',\n",
       " 'Erich Stegich',\n",
       " 'Ecology',\n",
       " 'JP Morgan',\n",
       " 'Dancel',\n",
       " 'Andover',\n",
       " 'Ahmed Rashid',\n",
       " 'Hossein Amini',\n",
       " 'Israel/Palestine',\n",
       " 'Carlos nunca se haba',\n",
       " 'Stephen L. Green',\n",
       " 'Institute of Chartered Accountants',\n",
       " 'Chinese Military Strategy',\n",
       " 'Mammoth Lakes',\n",
       " 'Croat',\n",
       " 'Pepto-Bismol-hued',\n",
       " 'VisitBritain',\n",
       " 'gray slacks',\n",
       " 'Saraiva',\n",
       " 'Subcommittee on Primary Health and Aging',\n",
       " 'Maiden Lane',\n",
       " 'Brian Rogers',\n",
       " 'Anderson',\n",
       " 'James Blaine',\n",
       " 'Jrmy Chardy',\n",
       " 'Safe Climate Campaign',\n",
       " 'Luke Jensen',\n",
       " 'Mr Swig',\n",
       " 'Martin Lidegaard',\n",
       " 'Longer-Range Future',\n",
       " 'St Cecilia',\n",
       " 'Nadezhda Prusenkova',\n",
       " 'Carl Tannenbaum',\n",
       " \"Westminster Magistrates ' Court\",\n",
       " 'Adam LaRoche',\n",
       " 'Massachusetts Bar Association',\n",
       " 'Brendan Sharkey',\n",
       " 'Ivan Vanko/Whiplash',\n",
       " 'Haras Rafiq',\n",
       " 'guided-missile',\n",
       " 'John B. Poindexter',\n",
       " 'Mr Van Anden',\n",
       " 'Dexedrine',\n",
       " 'Lush Life',\n",
       " 'Alki L.P.',\n",
       " 'Y.M.C.A',\n",
       " 'Thomas Farley',\n",
       " 'Hurst',\n",
       " 'wage',\n",
       " 'extend',\n",
       " 'nature',\n",
       " 'Hamsho International Group',\n",
       " 'Glasgow Caledonian University',\n",
       " 'Taihong',\n",
       " 'extent',\n",
       " 'Mr Howarth',\n",
       " 'Haskell Wexler',\n",
       " 'Christopher Hampton',\n",
       " 'Mergim Bajraliu',\n",
       " 'Sweida',\n",
       " 'Demolition Man',\n",
       " 'San Joaquin Valley',\n",
       " 'David Gunnlaugsson',\n",
       " 'Gary Dudich',\n",
       " 'Arab Spring-style',\n",
       " 'Antonio Monago',\n",
       " 'Daw Khin Kyi',\n",
       " 'Ben Richardson',\n",
       " 'Stephen J. Obie',\n",
       " 'Pebble',\n",
       " 'Jennifer Lauren',\n",
       " 'Dennis J. FitzSimons',\n",
       " 'Makluf Ramadan Salim',\n",
       " 'Balko',\n",
       " 'Dwyane Wade',\n",
       " 'Balkh',\n",
       " 'Mikhail Piotrovsky',\n",
       " 'BBC Africa',\n",
       " 'affiliated',\n",
       " 'Paul Hillen',\n",
       " 'Iraq Shia',\n",
       " 'Balky',\n",
       " 'MullenLowe',\n",
       " 'Montagne',\n",
       " 'Stig Jarle Hansen',\n",
       " 'Zalmay M. Khalilzad',\n",
       " 'Dalila B. Megherbi',\n",
       " 'Kima Greggs',\n",
       " 'Alice Bruno',\n",
       " 'Cucumber',\n",
       " 'anti-Vietnam War',\n",
       " 'Tywanza',\n",
       " 'United States Conference of Catholic',\n",
       " 'Ingrid W. Reed',\n",
       " 'Krista Williams;',\n",
       " 'Martin Brodeur',\n",
       " 'Palestinian Arabs',\n",
       " 'Mr Fulton',\n",
       " 'Alec Hardy',\n",
       " 'Hearst Magazines',\n",
       " 'Spencer Stone',\n",
       " 'Rana Rahimpour',\n",
       " 'Gallacher',\n",
       " 'Jean-Marie Delarue',\n",
       " 'Eli Gold',\n",
       " 'Colorado State Patrol',\n",
       " 'Bridgewater Associates',\n",
       " 'Chippy',\n",
       " 'Gregory Mankiw',\n",
       " 'doubts',\n",
       " 'Hangzhou Telecom',\n",
       " 'Musaga',\n",
       " 'Edwin Hernandez',\n",
       " 'Mount Yuelu',\n",
       " 'Aaron Judge',\n",
       " 'Eric Metaxas',\n",
       " 'Marybeth',\n",
       " 'Ben-Gurion',\n",
       " 'Wan Gang',\n",
       " 'Orit Struck',\n",
       " 'Jonathan D. Gray',\n",
       " 'BBDO',\n",
       " 'Irish Times',\n",
       " 'Annales school of historians',\n",
       " 'Juan R. Carlos',\n",
       " 'Dr Weaver',\n",
       " 'Crusaders',\n",
       " 'Kit Bond',\n",
       " 'Ahmad Shuja Pasha',\n",
       " 'Silvestre Arcos',\n",
       " 'Sunflower Seeds',\n",
       " 'Elizabeth Avenue',\n",
       " 'Allen Jerkens',\n",
       " 'Mr Nast',\n",
       " 'Thomas L. Whitten',\n",
       " 'Lawrence Cannon',\n",
       " 'Alain Coudert',\n",
       " 'ben Hassine',\n",
       " 'Mr Chandler',\n",
       " 'Pippa Bennett-Warner',\n",
       " 'memorial',\n",
       " 'Mazher Mahmood',\n",
       " 'Blake DeLong',\n",
       " 'Old Stone House',\n",
       " 'John Myhre',\n",
       " 'Mr Ghalioun',\n",
       " 'Steve Marpman',\n",
       " 'First Quarter The Cowboys',\n",
       " \"Homeland Security 's Office\",\n",
       " 'Jesus Montero',\n",
       " 'Robert W. Ray',\n",
       " 'Advocating',\n",
       " 'Ella Fitzgerald',\n",
       " 'Admiral Smith',\n",
       " 'Romanian Cultural Institute',\n",
       " 'Le Reine Importing',\n",
       " 'Marjorie Leonard',\n",
       " 'Glenn Ferrell',\n",
       " 'Rebus',\n",
       " 'New York Central Railroads',\n",
       " 'Huston Plan',\n",
       " 'Maud Daudon',\n",
       " 'Corsair Capital',\n",
       " 'HourlyNerd',\n",
       " 'Manhattan Construction',\n",
       " 'Kot Lakhpat',\n",
       " 'Kevin Curren',\n",
       " 'Eisner',\n",
       " 'Fredric Harman',\n",
       " 'Kylie Minogue',\n",
       " 'Mangel',\n",
       " 'Debra Dion Krischke',\n",
       " 'corporate',\n",
       " 'Queen Catherine',\n",
       " 'Trip Murphy',\n",
       " \"Royal Canadian Mounted Police '\",\n",
       " 'Nuzzo',\n",
       " 'Royal Canadian Mounted Police .',\n",
       " 'Panchen Lama',\n",
       " 'Nuri al-Maliki',\n",
       " 'south Brooklyn',\n",
       " 'Samuel Walker',\n",
       " 'Harry Cato',\n",
       " 'Anne DeSalvo',\n",
       " 'Scot Hall',\n",
       " 'Marina del Rey',\n",
       " 'Roger Dubuis',\n",
       " 'Lew Burdette',\n",
       " 'Mercy Ojelade',\n",
       " 'McLay',\n",
       " 'Ben Koyack',\n",
       " 'George Galloway',\n",
       " 'Al Alamein Street',\n",
       " 'Andrew Thurman',\n",
       " 'Jean-Franois Larramendy',\n",
       " 'Babolat USA',\n",
       " 'Fardig',\n",
       " 'Michael Hill',\n",
       " 'SPRING VALLEY',\n",
       " 'James McClean',\n",
       " 'Denting',\n",
       " 'Snake Pit',\n",
       " 'National Republicans',\n",
       " 'Mr Nakazawa',\n",
       " 'Mitchell Van Dyk',\n",
       " 'Rocco Contento',\n",
       " 'PSA Peugeot Citron',\n",
       " 'Rpublicains',\n",
       " 'Federal Office for Migration and Refugees',\n",
       " 'Aleksandr Ostrovsky',\n",
       " 'Labor of Love',\n",
       " 'Jarkko Immonen',\n",
       " 'National Paleontological Resources Preservation Act',\n",
       " 'Brenda',\n",
       " 'Ushiwakamaru',\n",
       " 'Wild Tales',\n",
       " 'Victor E. Salerno',\n",
       " 'Ross Maghielse',\n",
       " 'Osbaugh',\n",
       " 'Mr Jacoub',\n",
       " 'National Basketball Association in labor',\n",
       " 'Frames',\n",
       " 'Mr Crowell',\n",
       " 'Syria-type',\n",
       " 'Pentagon',\n",
       " 'Bushehr Province',\n",
       " 'Human Rights',\n",
       " 'Susie Mayou',\n",
       " 'Mr Daisi',\n",
       " 'Viamedia',\n",
       " 'U.S.-Nigeria',\n",
       " 'Laks Srini',\n",
       " 'Cameco Corporation',\n",
       " 'General Trust',\n",
       " 'crown',\n",
       " 'Caroline McCarthy',\n",
       " 'McKean County',\n",
       " 'Julie Hotchkiss',\n",
       " 'Mukhtar Mirzakeyev',\n",
       " 'Department of the Environment',\n",
       " 'Martha M. Walz',\n",
       " 'Laters',\n",
       " 'Vivaldi Partners Group',\n",
       " 'Special Operations Forces',\n",
       " 'North Woods',\n",
       " 'DAGA',\n",
       " \"Orange County Sheriff 's Department\",\n",
       " 'Huang Dahui',\n",
       " 'Arab Center for Human Rights',\n",
       " 'Simon-Pierre Delord',\n",
       " 'Afghan National Security Force',\n",
       " 'Todd Feinberg',\n",
       " 'Ira Magaziner',\n",
       " 'Mr Tanner',\n",
       " 'Raymond Cappomaggi',\n",
       " 'Brian Orakpo',\n",
       " 'Josh Bivens',\n",
       " \"Women 's Auxiliary Territorial Service\",\n",
       " 'Malgorzata Sadurska',\n",
       " 'Stewie',\n",
       " 'Muaz',\n",
       " 'Calle',\n",
       " 'Sawyer Nelson',\n",
       " 'Sparazza',\n",
       " 'Joseph M. Tucci',\n",
       " 'Darick Robertson',\n",
       " 'Radio Free Europe-Radio Liberty',\n",
       " 'Hank Williams Jr',\n",
       " 'Anna Dadeko',\n",
       " 'Herb Kline',\n",
       " 'Font',\n",
       " \"Lyin ' Ted\",\n",
       " 'Colm Kelleher',\n",
       " 'Lobsang',\n",
       " 'Hossein Mohseni Ejei',\n",
       " 'Soderberghian',\n",
       " 'Jeffrey Holyfield',\n",
       " 'Syndrome Sufferers',\n",
       " 'Mary Louise Wilson',\n",
       " 'Eric Bogosian',\n",
       " 'Antonio Andrews',\n",
       " 'Perry Norton',\n",
       " 'Mr Biel',\n",
       " 'Nina L. Khrushcheva',\n",
       " 'Rami Anis',\n",
       " 'Anna Filkina',\n",
       " 'Carmelos',\n",
       " 'Sitka',\n",
       " 'David A. Strauss',\n",
       " 'Rakuten Eagles',\n",
       " 'Ramona Quimby',\n",
       " 'Yuri Zhirkov',\n",
       " 'Gojra',\n",
       " 'Troughton',\n",
       " 'Kwoka',\n",
       " 'Vadim Prokhorov',\n",
       " 'Snotlout',\n",
       " 'Mr Velayati',\n",
       " 'Mindy Macready/Hit-Girl',\n",
       " 'Inherently',\n",
       " 'Enda',\n",
       " 'Van der Kolk',\n",
       " 'National Association of Evangelicals;',\n",
       " 'James Coburn',\n",
       " 'Carl Goerdeler',\n",
       " 'Endo',\n",
       " 'Rockland County',\n",
       " 'Guillaume Aretos;',\n",
       " 'Dzhakishev',\n",
       " 'John Grass',\n",
       " 'PERRY FEWELL',\n",
       " 'Kulluk',\n",
       " 'Joe Trippi',\n",
       " 'Faron Paramore',\n",
       " 'Guede',\n",
       " 'Raiz Ahmad',\n",
       " 'Wrigley Field',\n",
       " 'Sarah Palin-Hillary Clinton',\n",
       " 'Household',\n",
       " 'Zabiullah Mujahid',\n",
       " 'NEVIN Corvallis',\n",
       " 'open-air',\n",
       " 'Abdul-Wahab Mabrouk',\n",
       " 'J. B. Dickey',\n",
       " 'Vera Caslavska',\n",
       " 'Muzammel Huq',\n",
       " 'Daniel Doron',\n",
       " 'passenger',\n",
       " '173rd Airborne Brigade',\n",
       " 'Ernie Anderson',\n",
       " 'mirror',\n",
       " 'Kevin C. Kobylinski',\n",
       " 'Parliamentary Assembly of the Council of Europe',\n",
       " 'Standing Committee on Plants , Animals',\n",
       " 'Steve Sammut',\n",
       " 'Daniel F. Akerson',\n",
       " '*All',\n",
       " 'Barbara Coleman',\n",
       " 'Alexander Veprik',\n",
       " '12-nation Trans-Pacific Partnership',\n",
       " 'Pipedream Products',\n",
       " 'Brooklyn Prep',\n",
       " 'Aquash',\n",
       " 'Rafael Martinez',\n",
       " 'Francesca Connolly',\n",
       " 'Vaping',\n",
       " 'Yelena Vasilyeva',\n",
       " 'Muthanna',\n",
       " 'Earl Campbell',\n",
       " 'True Wetsuits',\n",
       " 'Roman Polanski',\n",
       " 'Buranovo',\n",
       " 'randy Manhattan',\n",
       " 'Security Council Resolution',\n",
       " 'Rhine valley',\n",
       " 'Mr Netanyahu',\n",
       " 'Lt Amadou Konar',\n",
       " 'Ernst Lubitsch',\n",
       " 'Michael R.',\n",
       " 'Ismael Hussein Ali',\n",
       " 'Ide',\n",
       " 'Africa-meets-Avenue-Montaigne',\n",
       " 'Ida',\n",
       " 'Ahmad Abd Allah',\n",
       " 'Mr McKnight',\n",
       " \"Fell 's Point\",\n",
       " 'Miss Ghoncheh Ghavami',\n",
       " 'Mr Steers',\n",
       " 'Nicole Beharie',\n",
       " 'Robert Browning',\n",
       " 'Jorge poda',\n",
       " 'Arvind Murthy',\n",
       " 'Jamar Summers',\n",
       " 'Mr Dromm',\n",
       " 'E-ZPass',\n",
       " 'Nazre',\n",
       " 'Darius Charney',\n",
       " 'Left Party',\n",
       " 'S O S',\n",
       " 'Trending',\n",
       " 'Artisan',\n",
       " 'Margaret E. Goodman',\n",
       " 'chair',\n",
       " 'villainous Claudius',\n",
       " 'Trillo',\n",
       " 'Austin Witter',\n",
       " 'Rohan Oza',\n",
       " 'TV/DVD',\n",
       " 'Internal State Department',\n",
       " 'Mets Construction Team',\n",
       " 'Global Change Biology',\n",
       " 'Royal Netherlands Navy',\n",
       " 'Midsummer is',\n",
       " 'trails his',\n",
       " 'Los Feliz',\n",
       " 'Alumni Factor',\n",
       " 'DVD of \" Mad Men',\n",
       " 'Ahmedabad',\n",
       " 'Austin McAllister',\n",
       " 'Mr Krmer',\n",
       " 'Granollers',\n",
       " 'Kimberly Elise',\n",
       " 'Toggenburg',\n",
       " 'Ruddy',\n",
       " 'Bedouins',\n",
       " 'Marlon Marshall',\n",
       " 'W. Patrick Swanton',\n",
       " 'franchise  la detonator-wielding Crazy Harry',\n",
       " 'exact',\n",
       " 'Kevin H. White',\n",
       " 'State Division of Criminal Justice Services',\n",
       " 'Glengarry Glen Ross',\n",
       " 'Jerry W. Burgess',\n",
       " 'Sahab',\n",
       " 'John L. Dorrian',\n",
       " 'Houston Grand Opera',\n",
       " 'Jorge recaudaba',\n",
       " \"F 'N Wook\",\n",
       " 'Kinloch',\n",
       " 'Pat Bowie',\n",
       " 'Matthew Millus',\n",
       " 'Katrina',\n",
       " 'Sahar',\n",
       " 'Sovietize America',\n",
       " 'Dr Marcia Canto',\n",
       " 'Raymond A. Davis',\n",
       " 'Boris who',\n",
       " 'Mr Carville',\n",
       " 'Ronnie Brown',\n",
       " 'La Sagrada Familia',\n",
       " 'Silvio',\n",
       " 'Salah al-Robaei',\n",
       " 'M.',\n",
       " 'Istrabadi',\n",
       " 'M5',\n",
       " 'J. Prescott Johnson',\n",
       " 'R. J. Pollard',\n",
       " 'Ty Jones',\n",
       " 'National Security Act',\n",
       " 'National Doral',\n",
       " 'Boomer Esiason',\n",
       " 'Jade Mountain',\n",
       " 'Pravin Togadia',\n",
       " 'Fasi Zaka',\n",
       " 'Kenyan Parliament',\n",
       " 'Vadim Yedvokimov',\n",
       " 'Gerald Fields',\n",
       " 'Flesch-Kincaid',\n",
       " 'Bassam',\n",
       " 'Marianne Schmidt',\n",
       " 'Saunder Jurriaans',\n",
       " 'Elisa Dahlberg',\n",
       " 'Patrick Cockburn',\n",
       " 'Mr Hinrikus',\n",
       " 'Mr Scheuer',\n",
       " 'Rahm has',\n",
       " 'Md',\n",
       " 'Ma',\n",
       " 'Alexander Varshavsky',\n",
       " 'Farooq Sobhan',\n",
       " 'Bulatov',\n",
       " 'Mi',\n",
       " 'Mu',\n",
       " 'Masjid Al Quran',\n",
       " 'Tuba Kent',\n",
       " 'Jones Soda Company',\n",
       " 'My',\n",
       " 'Mx',\n",
       " 'Michael Jackson',\n",
       " 'UConn jersey',\n",
       " 'Baiya',\n",
       " 'Mr Angelo',\n",
       " 'Azdaliq',\n",
       " 'Urbinas',\n",
       " 'MH',\n",
       " 'Athens Games',\n",
       " 'MT',\n",
       " 'Scott Hemphill',\n",
       " 'Zhang Qinsheng',\n",
       " 'Mr Chagoury',\n",
       " 'Steve Pederson',\n",
       " 'Judge Griffith',\n",
       " 'Offit Capital',\n",
       " 'Quinshad Davis',\n",
       " 'Dear Leader',\n",
       " 'Close Big Oil Tax Loopholes Act',\n",
       " 'Brotherhood of Manikins',\n",
       " 'proportion',\n",
       " 'Paul Taubman',\n",
       " 'Akhundzada',\n",
       " 'Ali al-Dabbagh',\n",
       " 'Ryan Venneman',\n",
       " 'Mr Kirkos',\n",
       " 'Mr Soliman',\n",
       " 'Horatio Alger',\n",
       " 'Ty Burrell',\n",
       " 'Hangzhou Bay',\n",
       " 'wang',\n",
       " 'Peace of the Brave',\n",
       " 'Forastero',\n",
       " 'Sherif Fouad',\n",
       " 'August',\n",
       " 'Silva',\n",
       " 'Ramzi Kassem',\n",
       " 'Ryan Boyko',\n",
       " 'Syria Human Rights Commission',\n",
       " 'Afzal Tarar',\n",
       " 'Pew Center for Global Climate Change',\n",
       " 'Itabora',\n",
       " 'Long Island Bar',\n",
       " 'Mr Gottelier',\n",
       " 'Mualavi Qalanmudin',\n",
       " 'Carli Lloyd',\n",
       " 'Giovanna Randall',\n",
       " 'Shanxi Province',\n",
       " 'Thierry Mugler;',\n",
       " 'same heights',\n",
       " 'Abu Hiadar',\n",
       " 'FloridaState',\n",
       " 'Telvent',\n",
       " 'Vitaly Nayda',\n",
       " 'Aleksandr Kots',\n",
       " 'Peter Ustinov',\n",
       " 'Amber Rudd',\n",
       " 'Abdul Aziz Ibn Saud',\n",
       " 'Otis Bantum Correctional Center',\n",
       " 'Bacchanalia',\n",
       " 'Peking University HSBC Business School',\n",
       " 'Shivshankar Menon',\n",
       " 'Master of Science',\n",
       " 'Glenn',\n",
       " 'Fillets',\n",
       " 'Hershey',\n",
       " 'Mohammed Mouldi Kefi',\n",
       " 'Laotian',\n",
       " 'TV-show Colbert',\n",
       " 'Hershel',\n",
       " 'Paolo Gioli',\n",
       " 'Qaddafi government',\n",
       " 'Robin Maynard',\n",
       " 'Tara Brown',\n",
       " 'Whois',\n",
       " 'Friendly Temple Missionary Baptist Church',\n",
       " 'Nicolle Wallace',\n",
       " 'Fox Nation',\n",
       " 'Makarova',\n",
       " 'Pichet',\n",
       " 'Bishop Robinson',\n",
       " 'Brownstein',\n",
       " 'Estonian Internal Security Service',\n",
       " 'Symphony',\n",
       " 'Robin Leach',\n",
       " 'Douglas J. McCauley',\n",
       " 'Huang Rongrui',\n",
       " 'Zebrafish',\n",
       " 'W.H.O.',\n",
       " 'Madison Avenue-esque',\n",
       " 'Ptrus',\n",
       " 'Elizabeth Lederer',\n",
       " 'Wesley Snipes',\n",
       " 'del organismo de vivienda',\n",
       " 'Roosevelt Room',\n",
       " 'Theodor Dreiser',\n",
       " 'Lamont Peterson',\n",
       " 'Landmark Productions',\n",
       " 'Munch',\n",
       " 'Lemony Snicket;',\n",
       " 'Rachelle Rak',\n",
       " 'Blue Cross Blue Shield',\n",
       " 'Vanessa Spaeth',\n",
       " 'Leviathan',\n",
       " 'Walnut Creek Estates',\n",
       " 'Villeray',\n",
       " 'Allen Zhang',\n",
       " 'Muhammad Deif',\n",
       " 'Atlanta Ballet',\n",
       " ...]"
      ]
     },
     "execution_count": 205,
     "metadata": {},
     "output_type": "execute_result"
    }
   ],
   "source": [
    "final_vocab"
   ]
  },
  {
   "cell_type": "markdown",
   "metadata": {},
   "source": [
    "#### Latent Semantic Analysis"
   ]
  },
  {
   "cell_type": "code",
   "execution_count": null,
   "metadata": {
    "collapsed": true
   },
   "outputs": [],
   "source": []
  },
  {
   "cell_type": "markdown",
   "metadata": {},
   "source": [
    "##### Trained on count vectorizer sparse matrix, better explained variance ratio"
   ]
  },
  {
   "cell_type": "code",
   "execution_count": null,
   "metadata": {
    "collapsed": false
   },
   "outputs": [],
   "source": [
    "lsa = TruncatedSVD(n_components=20)\n",
    "nyt_lsa = lsa.fit_transform(sm)\n",
    "nyt_lsa = Normalizer(copy=False).fit_transform(nyt_lsa)"
   ]
  },
  {
   "cell_type": "code",
   "execution_count": null,
   "metadata": {
    "collapsed": false
   },
   "outputs": [],
   "source": [
    "nyt_lsa"
   ]
  },
  {
   "cell_type": "code",
   "execution_count": null,
   "metadata": {
    "collapsed": false
   },
   "outputs": [],
   "source": [
    "lsa.explained_variance_"
   ]
  },
  {
   "cell_type": "markdown",
   "metadata": {},
   "source": [
    "#### Let's do the damn thing. Kmeans "
   ]
  },
  {
   "cell_type": "code",
   "execution_count": null,
   "metadata": {
    "collapsed": false
   },
   "outputs": [],
   "source": [
    "kmeans = KMeans(n_clusters=7)\n",
    "km = kmeans.fit(tt)\n",
    "clusters = km.labels_.tolist()"
   ]
  },
  {
   "cell_type": "code",
   "execution_count": null,
   "metadata": {
    "collapsed": false
   },
   "outputs": [],
   "source": [
    "df['clusters'] = clusters\n",
    "df['clusters2'] = clusters2"
   ]
  },
  {
   "cell_type": "code",
   "execution_count": null,
   "metadata": {
    "collapsed": false
   },
   "outputs": [],
   "source": [
    "df[['url','clusters','clusters2','spec']].to_csv('withspec2.csv')"
   ]
  },
  {
   "cell_type": "code",
   "execution_count": null,
   "metadata": {
    "collapsed": false
   },
   "outputs": [],
   "source": [
    "kmeans2 = KMeans(n_clusters=50)\n",
    "km2 = kmeans2.fit(tfidf)\n",
    "clusters2 = km2.labels_.tolist()"
   ]
  },
  {
   "cell_type": "markdown",
   "metadata": {},
   "source": [
    "#### Spectral wtf is this shit?"
   ]
  },
  {
   "cell_type": "code",
   "execution_count": 169,
   "metadata": {
    "collapsed": false
   },
   "outputs": [
    {
     "data": {
      "text/plain": [
       "0"
      ]
     },
     "execution_count": 169,
     "metadata": {},
     "output_type": "execute_result"
    }
   ],
   "source": [
    "import gc\n",
    "gc.collect()"
   ]
  },
  {
   "cell_type": "code",
   "execution_count": 170,
   "metadata": {
    "collapsed": true
   },
   "outputs": [],
   "source": [
    "from sklearn.cluster import SpectralClustering"
   ]
  },
  {
   "cell_type": "code",
   "execution_count": 181,
   "metadata": {
    "collapsed": false
   },
   "outputs": [],
   "source": [
    "spec = SpectralClustering(n_clusters=100, affinity='cosine', n_init=50)"
   ]
  },
  {
   "cell_type": "code",
   "execution_count": 182,
   "metadata": {
    "collapsed": false
   },
   "outputs": [],
   "source": [
    "spec_fit = spec.fit(tfidf)\n",
    "spec_pred = spec.fit_predict(tfidf)\n",
    "df['spec'] = spec_pred"
   ]
  },
  {
   "cell_type": "code",
   "execution_count": 183,
   "metadata": {
    "collapsed": false
   },
   "outputs": [],
   "source": [
    "df_write = df.drop(['text'], axis=1)"
   ]
  },
  {
   "cell_type": "code",
   "execution_count": 184,
   "metadata": {
    "collapsed": true
   },
   "outputs": [],
   "source": [
    "# df_write.to_csv('161116_nytimes_extended_clusters_50.csv')"
   ]
  },
  {
   "cell_type": "code",
   "execution_count": 185,
   "metadata": {
    "collapsed": false,
    "scrolled": true
   },
   "outputs": [],
   "source": [
    "af_mat = pd.DataFrame(spec_fit.affinity_matrix_)"
   ]
  },
  {
   "cell_type": "code",
   "execution_count": 186,
   "metadata": {
    "collapsed": false
   },
   "outputs": [
    {
     "data": {
      "text/plain": [
       "83.60146422592064"
      ]
     },
     "execution_count": 186,
     "metadata": {},
     "output_type": "execute_result"
    }
   ],
   "source": [
    "df.groupby('spec')['url'].count().mean()- 0.5*df.groupby('spec')['url'].count().std()\n"
   ]
  },
  {
   "cell_type": "code",
   "execution_count": 195,
   "metadata": {
    "collapsed": false
   },
   "outputs": [
    {
     "name": "stdout",
     "output_type": "stream",
     "text": [
      "spec\n",
      "0      253\n",
      "1      392\n",
      "2       65\n",
      "3      203\n",
      "4      592\n",
      "5      210\n",
      "6      322\n",
      "7       54\n",
      "8      176\n",
      "9      212\n",
      "10     476\n",
      "11     196\n",
      "12     457\n",
      "13     395\n",
      "14      90\n",
      "15      94\n",
      "16     872\n",
      "17     269\n",
      "18     206\n",
      "19      98\n",
      "20     386\n",
      "21     177\n",
      "22     162\n",
      "23     158\n",
      "24     260\n",
      "25     185\n",
      "26     326\n",
      "27     201\n",
      "28      90\n",
      "29     209\n",
      "30     132\n",
      "31     155\n",
      "32    3390\n",
      "33      93\n",
      "34      97\n",
      "35     106\n",
      "36     152\n",
      "37     114\n",
      "38     165\n",
      "39     252\n",
      "40     285\n",
      "41     276\n",
      "42      72\n",
      "43     500\n",
      "44     250\n",
      "45     248\n",
      "46     268\n",
      "47     102\n",
      "48      86\n",
      "49      97\n",
      "50     539\n",
      "51     281\n",
      "52     346\n",
      "53     189\n",
      "54     234\n",
      "55     164\n",
      "56      55\n",
      "57     190\n",
      "58     177\n",
      "59     249\n",
      "60     124\n",
      "61     188\n",
      "62     364\n",
      "63     261\n",
      "64     153\n",
      "65     168\n",
      "66     107\n",
      "67     160\n",
      "68     298\n",
      "69     449\n",
      "70     205\n",
      "71     154\n",
      "72     149\n",
      "73     259\n",
      "74     171\n",
      "75     162\n",
      "76     173\n",
      "77      69\n",
      "78     368\n",
      "79     168\n",
      "80     284\n",
      "81     315\n",
      "82     171\n",
      "83     179\n",
      "84     789\n",
      "85     191\n",
      "86     115\n",
      "87      91\n",
      "88     103\n",
      "89     412\n",
      "90     184\n",
      "91      79\n",
      "92     323\n",
      "93     129\n",
      "94     118\n",
      "95     450\n",
      "96     207\n",
      "97     289\n",
      "98      38\n",
      "99      92\n",
      "Name: url, dtype: int64\n"
     ]
    }
   ],
   "source": [
    "print df.groupby('spec')['url'].count() "
   ]
  },
  {
   "cell_type": "markdown",
   "metadata": {
    "collapsed": false,
    "scrolled": false
   },
   "source": [
    "#### af_mat[5].sort(inplace=False, ascending=False)[:10].mean()"
   ]
  },
  {
   "cell_type": "code",
   "execution_count": 194,
   "metadata": {
    "collapsed": true
   },
   "outputs": [],
   "source": [
    "pd.options.display.max_colwidth = 250\n",
    "pd.options.display.max_rows = 250"
   ]
  },
  {
   "cell_type": "code",
   "execution_count": 196,
   "metadata": {
    "collapsed": false
   },
   "outputs": [
    {
     "name": "stdout",
     "output_type": "stream",
     "text": [
      "                                                                                                                                             url\n",
      "130                                                         http://www.nytimes.com/1999/08/07/sports/baseball-another-day-another-milestone.html\n",
      "8777                                 http://www.nytimes.com/2013/07/13/sports/baseball/daviss-35th-homer-helps-orioles-power-past-blue-jays.html\n",
      "11164                                  http://www.nytimes.com/2014/03/24/sports/baseball/dodgers-beat-diamondbacks-7-5-for-down-under-sweep.html\n",
      "11520                                                                    http://www.nytimes.com/2014/04/23/sports/baseball/baseball-roundup.html\n",
      "11570                                                                         http://www.nytimes.com/2014/04/26/sports/baseball/mlb-roundup.html\n",
      "11751                                                                         http://www.nytimes.com/2014/05/13/sports/baseball/mlb-roundup.html\n",
      "12274                                                                         http://www.nytimes.com/2014/06/19/sports/baseball/mlb-roundup.html\n",
      "12291                      http://www.nytimes.com/2014/06/20/sports/baseball/nick-swisher-lifts-indians-with-game-ending-grand-slam-in-10th.html\n",
      "12304                                                                         http://www.nytimes.com/2014/06/21/sports/baseball/mlb-roundup.html\n",
      "12368                                                                                  http://www.nytimes.com/2014/06/26/sports/mlb-roundup.html\n",
      "12414                                                                         http://www.nytimes.com/2014/06/29/sports/baseball/mlb-roundup.html\n",
      "12503                                                                         http://www.nytimes.com/2014/07/05/sports/baseball/mlb-roundup.html\n",
      "12546                                                                         http://www.nytimes.com/2014/07/08/sports/baseball/mlb-roundup.html\n",
      "12562                                                                         http://www.nytimes.com/2014/07/09/sports/baseball/mlb-roundup.html\n",
      "12579                                                                         http://www.nytimes.com/2014/07/10/sports/baseball/mlb-roundup.html\n",
      "12600                                                                         http://www.nytimes.com/2014/07/11/sports/baseball/mlb-roundup.html\n",
      "12625                   http://www.nytimes.com/2014/07/13/sports/baseball/a-look-back-at-the-first-half-of-the-major-league-baseball-season.html\n",
      "12639                                                                         http://www.nytimes.com/2014/07/14/sports/baseball/mlb-roundup.html\n",
      "12719                                                       http://www.nytimes.com/2014/07/19/sports/baseball/astros-fail-to-sign-no-1-pick.html\n",
      "12777                                                                         http://www.nytimes.com/2014/07/22/sports/baseball/mlb-roundup.html\n",
      "12805                                                                         http://www.nytimes.com/2014/07/23/sports/baseball/mlb-roundup.html\n",
      "12834                                                                         http://www.nytimes.com/2014/07/24/sports/baseball/MLB-roundup.html\n",
      "12853                                                                         http://www.nytimes.com/2014/07/25/sports/baseball/MLB-roundup.html\n",
      "12875                                                                         http://www.nytimes.com/2014/07/26/sports/baseball/MLB-Roundup.html\n",
      "12908                                                                         http://www.nytimes.com/2014/07/27/sports/baseball/MLB-roundup.html\n",
      "12930                             http://www.nytimes.com/2014/07/28/sports/baseball/sacrifice-fly-from-machado-lifts-orioles-past-mariners-.html\n",
      "12946                                                                         http://www.nytimes.com/2014/07/29/sports/baseball/mlb-roundup.html\n",
      "12962                                                                         http://www.nytimes.com/2014/07/30/sports/baseball/mlb-roundup.html\n",
      "12985                                                                         http://www.nytimes.com/2014/07/31/sports/baseball/MLB-Roundup.html\n",
      "13003                                                                         http://www.nytimes.com/2014/08/01/sports/baseball/MLB-roundup.html\n",
      "13019                                                                         http://www.nytimes.com/2014/08/02/sports/baseball/MLB-Roundup.html\n",
      "13044                                                                         http://www.nytimes.com/2014/08/03/sports/baseball/MLB-Roundup.html\n",
      "13059                                                                         http://www.nytimes.com/2014/08/04/sports/baseball/MLB-roundup.html\n",
      "13105                                                                         http://www.nytimes.com/2014/08/06/sports/baseball/mlb-roundup.html\n",
      "13133                                                                         http://www.nytimes.com/2014/08/07/sports/baseball/MLB-Roundup.html\n",
      "13159                                                                         http://www.nytimes.com/2014/08/08/sports/baseball/MLB-roundup.html\n",
      "13184                                                                         http://www.nytimes.com/2014/08/09/sports/baseball/MLB-Roundup.html\n",
      "13212                                                                         http://www.nytimes.com/2014/08/10/sports/baseball/MLB-Roundup.html\n",
      "13231  http://www.nytimes.com/2014/08/11/sports/baseball/blue-jays-rally-from-5-0-deficit-to-win-longest-game-in-their-history-in-the-19th-.html\n",
      "13251                                                                         http://www.nytimes.com/2014/08/12/sports/baseball/mlb-roundup.html\n",
      "13276                                                                         http://www.nytimes.com/2014/08/13/sports/baseball/mlb-roundup.html\n",
      "13302                                                                         http://www.nytimes.com/2014/08/14/sports/baseball/MLB-Roundup.html\n",
      "13327                                                                         http://www.nytimes.com/2014/08/15/sports/baseball/MLB-Roundup.html\n",
      "13329                http://www.nytimes.com/2014/08/15/sports/baseball/little-league-world-series-chicago-player-homers-three-times-in-win-.html\n",
      "13355                                                                         http://www.nytimes.com/2014/08/16/sports/baseball/MLB-Roundup.html\n",
      "13380                                                                         http://www.nytimes.com/2014/08/17/sports/baseball/MLB-Roundup.html\n",
      "13384                                                  http://www.nytimes.com/2014/08/17/sports/baseball/washington-eliminates-south-dakota.html\n",
      "13405                                                                         http://www.nytimes.com/2014/08/18/sports/baseball/MLB-Roundup.html\n",
      "13424                                                                         http://www.nytimes.com/2014/08/19/sports/baseball/mlb-roundup.html\n",
      "13451                                                                         http://www.nytimes.com/2014/08/20/sports/baseball/mlb-roundup.html\n",
      "13472                         http://www.nytimes.com/2014/08/21/sports/baseball/in-rare-win-of-protest-to-mlb-giants-will-have-game-resumed.html\n",
      "13499                                              http://www.nytimes.com/2014/08/22/sports/baseball/rays-manage-only-one-hit-but-top-price.html\n",
      "13521                           http://www.nytimes.com/2014/08/23/sports/baseball/red-sox-win-bidding-contest-in-deal-with-cuban-outfielder.html\n",
      "13588                                      http://www.nytimes.com/2014/08/25/sports/baseball/cubs-grab-rare-sweep-with-victory-over-orioles.html\n",
      "13617                                                                         http://www.nytimes.com/2014/08/26/sports/baseball/mlb-roundup.html\n",
      "13638                                                                         http://www.nytimes.com/2014/08/27/sports/baseball/mlb-roundup.html\n",
      "13734                                                                         http://www.nytimes.com/2014/08/31/sports/baseball/MLB-Roundup.html\n",
      "13766                                                                         http://www.nytimes.com/2014/09/01/sports/baseball/MLB-Roundup.html\n",
      "13782                                                                         http://www.nytimes.com/2014/09/02/sports/baseball/mlb-roundup.html\n",
      "13806                                                                         http://www.nytimes.com/2014/09/03/sports/baseball/mlb-roundup.html\n",
      "13831                             http://www.nytimes.com/2014/09/04/sports/baseball/players-five-rbi-off-bench-lift-nationals-in-14-innings.html\n",
      "14137                                          http://www.nytimes.com/2014/09/19/sports/baseball/athletics-lose-ground-in-al-wild-card-race.html\n",
      "14224                                   http://www.nytimes.com/2014/09/23/sports/baseball/white-sox-slow-tigers-pursuit-of-al-central-title.html\n",
      "14263                               http://www.nytimes.com/2014/09/25/sports/baseball/rally-keeps-cleveland-indians-alive-in-wild-card-race.html\n",
      "19263                              http://www.nytimes.com/2015/08/11/sports/baseball/johnny-cueto-shuts-out-tigers-in-home-debut-for-royals.html\n",
      "22331                                                                http://www.nytimes.com/2016/05/03/sports/baseball/mlb-baseball-roundup.html\n",
      "22342                               http://www.nytimes.com/2016/05/04/sports/baseball/cubs-arrieta-moves-to-6-0-shackling-the-pirates-again.html\n",
      "22361                             http://www.nytimes.com/2016/05/05/sports/baseball/washington-nationals-wallop-slumping-kansas-city-royals.html\n",
      "22385                                              http://www.nytimes.com/2016/05/07/sports/baseball/pirates-marlins-zika-virus-puerto-rico.html\n",
      "24410                                        http://www.nytimes.com/2016/11/01/sports/baseball/world-series-relievers-starters-tyler-kepner.html\n",
      "24517                                                              http://www.nytimes.com/2016/11/02/sports/world-series-score-cubs-indians.html\n",
      "24634                             http://www.nytimes.com/2016/11/03/sports/baseball/chicago-cubs-beat-cleveland-indians-world-series-game-7.html\n"
     ]
    }
   ],
   "source": [
    "print df[['url']][df['spec'] ==42]"
   ]
  },
  {
   "cell_type": "code",
   "execution_count": null,
   "metadata": {
    "collapsed": true
   },
   "outputs": [],
   "source": [
    "# spec = SpectralClustering(n_clusters=50, eigen_solver='arpack', affinity='sigmoid') #good clustering for certain topics mosul(7??) comey, clinton, trump, india 12, "
   ]
  },
  {
   "cell_type": "code",
   "execution_count": null,
   "metadata": {
    "collapsed": false
   },
   "outputs": [],
   "source": [
    "spec_fit.n_neighbors"
   ]
  },
  {
   "cell_type": "code",
   "execution_count": null,
   "metadata": {
    "collapsed": false
   },
   "outputs": [],
   "source": [
    "\"\"\"\n",
    "Visualization of matrix block structure\n",
    "(eg, pairwise similarity or co-occurrence)\n",
    "Requires scaledimage.py for intensity plots\n",
    "David Andrzejewski\n",
    "\"\"\"\n",
    "import numpy as NP\n",
    "import matplotlib.pyplot as P\n",
    "import matplotlib.lines as L\n",
    "import sklearn.cluster as SKLC\n",
    "\n",
    "# from scaledimage import scaledimage\n",
    "\n",
    "def blockviz(affinity, nclust, ax=None):\n",
    "    \"\"\" \n",
    "    Visualize block-structure of affinity matrix \n",
    "    affinity = NxN non-negative affinity matrix\n",
    "    nclust = number of clusters to use\n",
    "    ax = matplotlib Axes to draw on \n",
    "    Rely on caller to .show()\n",
    "    \"\"\"\n",
    "    # Activate the appropriate Axes in pyplot\n",
    "    if(ax == None):\n",
    "        ax = P.figure().gca()\n",
    "    # Do spectral clustering\n",
    "    ndata = affinity.shape[0]\n",
    "    c = SKLC.SpectralClustering(n_clusters=nclust, affinity='linear', random_state=1445)\n",
    "    c.fit(affinity)\n",
    "    # Extract cluster labels and sort indices to align with clusters\n",
    "    sortidx = []\n",
    "    for ki in range(nclust):\n",
    "        sortidx += getlabeled(c.labels_, ki)\n",
    "    sorted_affinity = affinity.copy()\n",
    "    sorted_affinity = sorted_affinity[sortidx,:]\n",
    "    sorted_affinity = sorted_affinity[:,sortidx]\n",
    "    # Intensity plot of affinity\n",
    "    width = 10\n",
    "    scaledimage(sorted_affinity,\n",
    "                pixwidth=width, grayscale=True, ax=ax)\n",
    "    # Draw recovered cluster boundaries\n",
    "    kstart = 0\n",
    "    for ki in range(nclust):    \n",
    "        clustki = getlabeled(c.labels_, ki)\n",
    "        drawClust(ax, \n",
    "                  kstart,\n",
    "                  kstart + len(clustki),\n",
    "                  ndata,\n",
    "                  scale=width)\n",
    "        kstart += len(clustki)\n",
    "    return c.labels_\n",
    "\n",
    "def logistic(val):\n",
    "    \"\"\" Logistic function \"\"\"\n",
    "    return float(1) / (1 + NP.exp(-1 * val))\n",
    "\n",
    "def getlabeled(labels, ki):\n",
    "    \"\"\" Get indices where labels==ki \"\"\"\n",
    "    return [idx for (idx, val) in \n",
    "            enumerate(labels) if val == ki]\n",
    "\n",
    "def drawH(ax, y, xstart, xend):\n",
    "    \"\"\" Draw horiztonal line \"\"\"\n",
    "    ax.add_line(L.Line2D([xstart, xend], \n",
    "                  [y, y],\n",
    "                  color='r'))\n",
    "\n",
    "def drawV(ax, x, ystart, yend):\n",
    "    \"\"\" Draw vertical line \"\"\"\n",
    "    ax.add_line(L.Line2D([x, x],\n",
    "                         [ystart, yend], \n",
    "                         color='r'))\n",
    "\n",
    "def drawClust(ax, kstart, kend, kmax, scale=1):\n",
    "    \"\"\" Draw bounding box for cluster \"\"\"\n",
    "    skstart = scale * kstart\n",
    "    skend = scale * kend\n",
    "    skmax = scale * kmax\n",
    "    if(skstart == 0):\n",
    "        # Upper-left cluster: only draw bottom-right borders\n",
    "        drawH(ax, skmax-skend, skstart, skend)\n",
    "        drawV(ax, skend, skmax-skstart, skmax-skend)\n",
    "    elif(skend == skmax):\n",
    "        # Lower-right cluster: only draw top-left borders\n",
    "        drawH(ax, skmax-skstart, skstart, skend)\n",
    "        drawV(ax, skstart, skmax-skstart, skmax-skend)\n",
    "    else:\n",
    "        # Otherwise, draw all 4 borders\n",
    "        drawH(ax, skmax-skend, skstart, skend)\n",
    "        drawV(ax, skend, skmax-skstart, skmax-skend)\n",
    "        drawH(ax, skmax-skstart, skstart, skend)\n",
    "        drawV(ax, skstart, skmax-skstart, skmax-skend)\n",
    "        \n",
    "import numpy as NP\n",
    "import matplotlib.pyplot as P\n",
    "import matplotlib.ticker as MT\n",
    "import matplotlib.cm as CM\n",
    " \n",
    "def scaledimage(W, pixwidth=20, ax=None, grayscale=True):\n",
    "    \"\"\"\n",
    "    Do intensity plot, similar to MATLAB imagesc()\n",
    " \n",
    "    W = intensity matrix to visualize\n",
    "    pixwidth = size of each W element\n",
    "    ax = matplotlib Axes to draw on \n",
    "    grayscale = use grayscale color map\n",
    " \n",
    "    Rely on caller to .show()\n",
    "    \"\"\"\n",
    "    # N = rows, M = column\n",
    "    (N, M) = W.shape \n",
    "    # Need to create a new Axes?\n",
    "    if(ax == None):\n",
    "        ax = P.figure(figsize=(20,20)).gca()\n",
    "    # extents = Left Right Bottom Top\n",
    "    exts = (0, pixwidth * M, 0, pixwidth * N)\n",
    "    if(grayscale):\n",
    "        ax.imshow(W,\n",
    "                  interpolation='nearest',\n",
    "                  cmap=CM.gray,\n",
    "                  extent=exts)\n",
    "    else:\n",
    "        ax.imshow(W,\n",
    "                  interpolation='nearest',\n",
    "                  extent=exts)\n",
    " \n",
    "    ax.xaxis.set_major_locator(MT.NullLocator())\n",
    "    ax.yaxis.set_major_locator(MT.NullLocator())\n",
    "    return ax\n",
    " \n",
    "if __name__ == '__main__':\n",
    "    # Define a synthetic test dataset\n",
    "     testweights = NP.array([[0.25, 0.50, 0.25, 0.00],\n",
    "                            [0.00, 0.50, 0.00, 0.00],\n",
    "                            [0.00, 0.10, 0.10, 0.00],\n",
    "                            [0.00, 0.00, 0.25, 0.75]])\n",
    "    # Display it\n",
    "#     ax = scaledimage(testweights)\n",
    "#     P.show()\n"
   ]
  },
  {
   "cell_type": "code",
   "execution_count": null,
   "metadata": {
    "collapsed": true
   },
   "outputs": [],
   "source": []
  },
  {
   "cell_type": "code",
   "execution_count": null,
   "metadata": {
    "collapsed": true
   },
   "outputs": [],
   "source": [
    "import matplotlib.pyplot as plt\n",
    "%matplotlib inline"
   ]
  },
  {
   "cell_type": "markdown",
   "metadata": {},
   "source": [
    "####  cosine, 25 clusters"
   ]
  },
  {
   "cell_type": "code",
   "execution_count": null,
   "metadata": {
    "collapsed": false
   },
   "outputs": [],
   "source": [
    "blockviz(np.matrix(af_mat), 25, ax=P.figure(figsize=(10,10)).gca())"
   ]
  },
  {
   "cell_type": "markdown",
   "metadata": {},
   "source": [
    "#### cosine 30^"
   ]
  },
  {
   "cell_type": "code",
   "execution_count": null,
   "metadata": {
    "collapsed": false
   },
   "outputs": [],
   "source": [
    "blockviz(np.matrix(af_mat), 20)"
   ]
  },
  {
   "cell_type": "markdown",
   "metadata": {},
   "source": [
    "#### cosine 20 ^"
   ]
  },
  {
   "cell_type": "code",
   "execution_count": null,
   "metadata": {
    "collapsed": false,
    "scrolled": false
   },
   "outputs": [],
   "source": [
    "blockviz(np.matrix(af_mat), 25, ax=P.figure(figsize=(100,100)).gca())\n"
   ]
  },
  {
   "cell_type": "markdown",
   "metadata": {},
   "source": [
    "#### cosine 25"
   ]
  },
  {
   "cell_type": "code",
   "execution_count": null,
   "metadata": {
    "collapsed": false
   },
   "outputs": [],
   "source": [
    "blockviz(np.matrix(af_mat), 20)"
   ]
  },
  {
   "cell_type": "markdown",
   "metadata": {},
   "source": [
    "#### poly 50 ^"
   ]
  },
  {
   "cell_type": "code",
   "execution_count": null,
   "metadata": {
    "collapsed": false
   },
   "outputs": [],
   "source": [
    "blockviz(np.matrix(af_mat), 20)"
   ]
  },
  {
   "cell_type": "markdown",
   "metadata": {},
   "source": [
    "#### poly 30"
   ]
  },
  {
   "cell_type": "code",
   "execution_count": null,
   "metadata": {
    "collapsed": false
   },
   "outputs": [],
   "source": [
    "blockviz(np.matrix(af_mat), 20)"
   ]
  },
  {
   "cell_type": "markdown",
   "metadata": {},
   "source": [
    "#### Poly 20"
   ]
  },
  {
   "cell_type": "code",
   "execution_count": null,
   "metadata": {
    "collapsed": false
   },
   "outputs": [],
   "source": [
    "import seaborn as sns"
   ]
  },
  {
   "cell_type": "code",
   "execution_count": null,
   "metadata": {
    "collapsed": false
   },
   "outputs": [],
   "source": []
  },
  {
   "cell_type": "code",
   "execution_count": null,
   "metadata": {
    "collapsed": false
   },
   "outputs": [],
   "source": []
  },
  {
   "cell_type": "code",
   "execution_count": null,
   "metadata": {
    "collapsed": true
   },
   "outputs": [],
   "source": [
    "df"
   ]
  },
  {
   "cell_type": "code",
   "execution_count": null,
   "metadata": {
    "collapsed": false
   },
   "outputs": [],
   "source": [
    "from multiprocessing import Pool\n",
    "\n",
    "def tfidf(x):\n",
    "    tfidf = TfidfVectorizer(analyzer= get_entities, stop_words='english', max_df=0.15, strip_accents='unicode').fit_transform(x)\n",
    "    return tfidf\n",
    "\n",
    "if __name__ == '__main__':\n",
    "    p = Pool(16)\n",
    "    print(p.map(tfidf, df['text'] ))"
   ]
  },
  {
   "cell_type": "code",
   "execution_count": null,
   "metadata": {
    "collapsed": true
   },
   "outputs": [],
   "source": [
    "6+7"
   ]
  },
  {
   "cell_type": "code",
   "execution_count": null,
   "metadata": {
    "collapsed": false
   },
   "outputs": [],
   "source": [
    "x = ['hi','there','my','name','is','what','the','actual','fuck']\n",
    "cw = ['hi','fuck','how','the','fuck','are','you']"
   ]
  },
  {
   "cell_type": "code",
   "execution_count": null,
   "metadata": {
    "collapsed": false
   },
   "outputs": [],
   "source": [
    "\" \".join(get_vocab(x, cw))"
   ]
  },
  {
   "cell_type": "code",
   "execution_count": null,
   "metadata": {
    "collapsed": false
   },
   "outputs": [],
   "source": [
    "' '.join(x)"
   ]
  },
  {
   "cell_type": "code",
   "execution_count": null,
   "metadata": {
    "collapsed": true
   },
   "outputs": [],
   "source": [
    "tv2 = TfidfVectorizer(stop_words='english', max_df=0.15, strip_accents='unicode').fit(df['final_str'])\n"
   ]
  },
  {
   "cell_type": "code",
   "execution_count": null,
   "metadata": {
    "collapsed": true
   },
   "outputs": [],
   "source": [
    "tfidf2 = tv2.transform(df['final_str'])"
   ]
  },
  {
   "cell_type": "code",
   "execution_count": null,
   "metadata": {
    "collapsed": false
   },
   "outputs": [],
   "source": [
    "spec2 = SpectralClustering(n_clusters=20, affinity='cosine', n_init=50)\n",
    "spec2_fit = spec.fit(tfidf2)\n",
    "spec2_pred = spec.fit_predict(tfidf2)\n",
    "df['spec2'] = spec2_pred"
   ]
  },
  {
   "cell_type": "code",
   "execution_count": null,
   "metadata": {
    "collapsed": true
   },
   "outputs": [],
   "source": [
    "pd.options.display.max_colwidth = 250\n"
   ]
  },
  {
   "cell_type": "code",
   "execution_count": null,
   "metadata": {
    "collapsed": false
   },
   "outputs": [],
   "source": [
    "print df[['url']][df['spec2'] ==28]"
   ]
  },
  {
   "cell_type": "code",
   "execution_count": null,
   "metadata": {
    "collapsed": true
   },
   "outputs": [],
   "source": []
  },
  {
   "cell_type": "code",
   "execution_count": null,
   "metadata": {
    "collapsed": false
   },
   "outputs": [],
   "source": [
    "df['final'] = df['tokens'].apply(lambda x: get_vocab(x))"
   ]
  },
  {
   "cell_type": "code",
   "execution_count": null,
   "metadata": {
    "collapsed": false
   },
   "outputs": [],
   "source": [
    "outlist = []\n",
    "for k, v in voc_dict.iteritems():\n",
    "        outlist.append((k+' ')*v)"
   ]
  },
  {
   "cell_type": "code",
   "execution_count": null,
   "metadata": {
    "collapsed": false
   },
   "outputs": [],
   "source": [
    "' '.join(outlist)"
   ]
  },
  {
   "cell_type": "code",
   "execution_count": null,
   "metadata": {
    "collapsed": false
   },
   "outputs": [],
   "source": [
    "list(set(df['tokens'][10]).intersection(set(cv2.vocabulary_.keys())))"
   ]
  },
  {
   "cell_type": "code",
   "execution_count": null,
   "metadata": {
    "collapsed": false
   },
   "outputs": [],
   "source": [
    "len(cv2.vocabulary_)"
   ]
  },
  {
   "cell_type": "code",
   "execution_count": null,
   "metadata": {
    "collapsed": true
   },
   "outputs": [],
   "source": [
    "set"
   ]
  },
  {
   "cell_type": "code",
   "execution_count": null,
   "metadata": {
    "collapsed": true
   },
   "outputs": [],
   "source": [
    "vocabdict = defaultdict(int)\n"
   ]
  },
  {
   "cell_type": "code",
   "execution_count": null,
   "metadata": {
    "collapsed": false
   },
   "outputs": [],
   "source": [
    "vocabdict['fuck'] +=1"
   ]
  },
  {
   "cell_type": "code",
   "execution_count": null,
   "metadata": {
    "collapsed": false
   },
   "outputs": [],
   "source": [
    "vocabdict['fuck']"
   ]
  },
  {
   "cell_type": "code",
   "execution_count": null,
   "metadata": {
    "collapsed": true
   },
   "outputs": [],
   "source": []
  }
 ],
 "metadata": {
  "anaconda-cloud": {},
  "kernelspec": {
   "display_name": "Python [default]",
   "language": "python",
   "name": "python2"
  },
  "language_info": {
   "codemirror_mode": {
    "name": "ipython",
    "version": 2
   },
   "file_extension": ".py",
   "mimetype": "text/x-python",
   "name": "python",
   "nbconvert_exporter": "python",
   "pygments_lexer": "ipython2",
   "version": "2.7.12"
  }
 },
 "nbformat": 4,
 "nbformat_minor": 1
}
