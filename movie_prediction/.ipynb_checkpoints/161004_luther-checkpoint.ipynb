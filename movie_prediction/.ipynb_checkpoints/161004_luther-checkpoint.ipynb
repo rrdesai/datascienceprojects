{
 "cells": [
  {
   "cell_type": "code",
   "execution_count": 1,
   "metadata": {
    "collapsed": true
   },
   "outputs": [],
   "source": [
    " def extract(dictionary,key):\n",
    "    try:\n",
    "        return dictionary[key]\n",
    "    except:\n",
    "        return 'none'"
   ]
  },
  {
   "cell_type": "code",
   "execution_count": 2,
   "metadata": {
    "collapsed": false
   },
   "outputs": [],
   "source": [
    "def trypull(list):\n",
    "    if list == 'none':\n",
    "        return list\n",
    "    else:\n",
    "        return list[0]"
   ]
  },
  {
   "cell_type": "code",
   "execution_count": 3,
   "metadata": {
    "collapsed": true
   },
   "outputs": [],
   "source": [
    "def bigactors(actors):\n",
    "    actor_list = [i[0] for i in prolific]   \n",
    "    count = 0\n",
    "    for i in actors:\n",
    "        if i in actor_list:\n",
    "            count+=1\n",
    "    return count"
   ]
  },
  {
   "cell_type": "code",
   "execution_count": 4,
   "metadata": {
    "collapsed": true
   },
   "outputs": [],
   "source": [
    "def convert_ytdate(dstring):\n",
    "    if dstring == 'none':\n",
    "        return 0\n",
    "    elif dstring.find('days') > -1:\n",
    "        return round(int(dstring.split(' ')[0]))\n",
    "    elif dstring.find('months') > -1:\n",
    "        d = int(dstring.split(' ')[0])\n",
    "        return round(int(d*4.333*7))\n",
    "    elif dstring.find('weeks') > -1:\n",
    "        d = int(dstring.split(' ')[0])\n",
    "        return round(int(d*7))\n",
    "    elif dstring.find('years') > -1:\n",
    "        d = int(dstring.split(' ')[0])\n",
    "        return round(int(d*52*7))\n",
    "    else: return 0"
   ]
  },
  {
   "cell_type": "code",
   "execution_count": 5,
   "metadata": {
    "collapsed": true
   },
   "outputs": [],
   "source": [
    "def append_crew(cast):\n",
    "    for i in cast:\n",
    "        try: castlist[i] += 1\n",
    "        except: castlist[i] = 1\n"
   ]
  },
  {
   "cell_type": "code",
   "execution_count": 6,
   "metadata": {
    "collapsed": true
   },
   "outputs": [],
   "source": [
    "def rating_clean(rating):\n",
    "    if rating[0] in ('n', 'M/PG', 'Open'):\n",
    "        return 'none'\n",
    "    else:\n",
    "        return rating[0]\n",
    "        "
   ]
  },
  {
   "cell_type": "code",
   "execution_count": 7,
   "metadata": {
    "collapsed": true
   },
   "outputs": [],
   "source": [
    "def split_rating(rating):\n",
    "    try:\n",
    "        return int(rating.split('%')[0])\n",
    "    except:\n",
    "        return 60"
   ]
  },
  {
   "cell_type": "code",
   "execution_count": 8,
   "metadata": {
    "collapsed": true
   },
   "outputs": [],
   "source": [
    "def ytviews(views):\n",
    "    try:\n",
    "        return int(views.split(' ')[0].replace(',',''))\n",
    "    except:\n",
    "        return 0"
   ]
  },
  {
   "cell_type": "code",
   "execution_count": 26,
   "metadata": {
    "collapsed": false
   },
   "outputs": [],
   "source": [
    "import pandas as pd\n",
    "import numpy as np\n",
    "with open('movies.json') as f:\n",
    "    df = pd.read_json(f)\n",
    "\n",
    "df = df.drop(['runtime','prodCountries','prodCompanies','keywords','comps','domesticReleases'], axis = 1)\n",
    "cleaned = df.fillna('none')\n",
    "\n",
    "cleaned['critics'] = cleaned['critics'].apply(lambda x: split_rating(x))\n",
    "cleaned['audience'] = cleaned['audience'].apply(lambda x: split_rating(x))\n",
    "cleaned['creative'] = cleaned['creative'].apply(lambda x: x[0])\n",
    "cleaned['firstviews'] = cleaned['firstviews'].apply(lambda x: ytviews(x))\n",
    "cleaned['firstdate'] = cleaned['firstdate'].apply(lambda x: convert_ytdate(x))\n",
    "cleaned['genre'] = cleaned['genre'].apply(lambda x: x[0])\n",
    "cleaned['budget'] = cleaned['budget'].apply(lambda x: int(x.replace(',','').replace('$','')))\n",
    "cleaned['source'] = cleaned['source'].apply(lambda x: trypull(x))\n",
    "\n",
    "\n",
    "cleaned['director'] = cleaned['crew'].apply(lambda x: extract(x, 'Director'))\n",
    "cleaned['producer'] = cleaned['crew'].apply(lambda x: extract(x, 'Producer'))\n",
    "cleaned['execprod'] = cleaned['crew'].apply(lambda x: extract(x,'Executive Producer'))\n",
    "cleaned['scrwriter'] = cleaned['crew'].apply(lambda x: extract(x, 'Screenwriter'))\n",
    "\n",
    "cleaned['released']  = pd.to_datetime(cleaned['released'], format='%m/%d/%Y')\n",
    "cleaned['released'] = cleaned['released'].dt.quarter\n",
    "cleaned['cast'] = cleaned['cast'].apply(lambda x: x.values())\n",
    "cleaned['rating'] = cleaned['mpaaRating'].apply(lambda x: x[0])\n",
    "cleaned['domestic'] = cleaned['domestic'].apply(lambda x: int(x.replace('$','').replace(',','')))\n",
    "cleaned['worldwide'] = cleaned['worldwide'].apply(lambda x: int(x.replace('$','').replace(',','')))\n",
    "cleaned['results'] = cleaned['results'].apply(lambda x: int(x.replace(',','')))\n",
    "cleaned['franchise'] = cleaned['franchise'].apply(lambda x: trypull(x))\n",
    "cleaned['mpaaRating'] = cleaned['mpaaRating'].apply(lambda x: rating_clean(x))\n",
    "cleaned['internationalReleases'] = cleaned['internationalReleases'].apply(lambda x: len(x))\n"
   ]
  },
  {
   "cell_type": "code",
   "execution_count": 31,
   "metadata": {
    "collapsed": false
   },
   "outputs": [
    {
     "data": {
      "text/plain": [
       "none                    2864\n",
       "Jerry Bruckheimer         17\n",
       "Albert R. Broccoli        15\n",
       "Eric Fellner              12\n",
       "Neal H. Moritz            12\n",
       "Kevin Feige               12\n",
       "Scott Rudin               12\n",
       "Jack Giarraputo           12\n",
       "Ryan Kavanaugh            10\n",
       "Lauren Shuler Donner      10\n",
       "Brian Grazer               9\n",
       "Colin Wilson               9\n",
       "Joel Silver                8\n",
       "Ethan Coen                 8\n",
       "Oren Peli                  8\n",
       "Ian Bryce                  7\n",
       "Sam Mercer                 7\n",
       "Kathleen Kennedy           7\n",
       "Barbara Broccoli           7\n",
       "Lawrence Bender            7\n",
       "Joe Roth                   7\n",
       "Jack Rapke                 7\n",
       "Anthony Katagas            6\n",
       "Robert Lorenz              6\n",
       "Jonathan Glickman          6\n",
       "Scott Mosier               6\n",
       "Frank Marshall             6\n",
       "Mark Johnson               6\n",
       "David Heyman               6\n",
       "Michael Fottrell           6\n",
       "                        ... \n",
       "Zack Snyder                1\n",
       "Jennifer Schwalbach        1\n",
       "Joe Hardesty               1\n",
       "Ghislain Barrois           1\n",
       "Robert F. Colesberry       1\n",
       "Natalie Bible              1\n",
       "Gregory Levasseur          1\n",
       "Erik Feig                  1\n",
       "Jim Morris                 1\n",
       "John Suits                 1\n",
       "Jon Weinbach               1\n",
       "Asghar Farhadi             1\n",
       "David O. Sacks             1\n",
       "Ginger Sledge              1\n",
       "Doris Tse                  1\n",
       "Ferrell Barron             1\n",
       "Harold Cronk               1\n",
       "Thomas Tull                1\n",
       "Karen Baldwin              1\n",
       "Armyan Bernstein           1\n",
       "Debra Hill                 1\n",
       "Maggie Renzi               1\n",
       "Julie Lockhart             1\n",
       "Caldecot Chubb             1\n",
       "Jason Statham              1\n",
       "Dave Sheridan              1\n",
       "Terry Gilliam              1\n",
       "James O'Brien              1\n",
       "David Thwaites             1\n",
       "Paul Young                 1\n",
       "Name: producer, dtype: int64"
      ]
     },
     "execution_count": 31,
     "metadata": {},
     "output_type": "execute_result"
    }
   ],
   "source": [
    "cleaned.producer.value_counts()"
   ]
  },
  {
   "cell_type": "code",
   "execution_count": 11,
   "metadata": {
    "collapsed": false
   },
   "outputs": [
    {
     "name": "stdout",
     "output_type": "stream",
     "text": [
      "<class 'pandas.core.frame.DataFrame'> <class 'pandas.core.frame.DataFrame'> <class 'pandas.core.frame.DataFrame'> <class 'pandas.core.frame.DataFrame'>\n"
     ]
    }
   ],
   "source": [
    "gendummies = pd.get_dummies(cleaned['genre'], drop_first=True)\n",
    "ratdummies = pd.get_dummies(cleaned['mpaaRating'],drop_first=True)\n",
    "creatdummies = pd.get_dummies(cleaned['creative'], drop_first=True)\n",
    "datdummies = pd.get_dummies(cleaned['released'], drop_first = True)\n",
    "print type(gendummies), type(ratdummies), type(creatdummies),type(cleaned)\n",
    "cleaned = pd.concat([cleaned, gendummies, ratdummies, creatdummies, datdummies], axis = 1)\n",
    "\n"
   ]
  },
  {
   "cell_type": "code",
   "execution_count": 12,
   "metadata": {
    "collapsed": false
   },
   "outputs": [],
   "source": [
    "castlist = {}\n",
    "castbymov = []\n",
    "cleaned['cast'].apply(lambda x: append_crew(x));\n",
    "for k,v in castlist.iteritems():\n",
    "    tupe = (k,v)\n",
    "    castbymov.append(tupe)\n",
    "prolific = sorted(castbymov, key=lambda tup: tup[1], reverse=True)[:100]\n",
    "cleaned['cast'] = cleaned['cast'].apply(lambda x:bigactors(x))"
   ]
  },
  {
   "cell_type": "code",
   "execution_count": 13,
   "metadata": {
    "collapsed": false
   },
   "outputs": [],
   "source": [
    "cleaned['origscreen'] = cleaned['source'].apply(lambda x: int(x=='Original Screenplay'))"
   ]
  },
  {
   "cell_type": "code",
   "execution_count": 14,
   "metadata": {
    "collapsed": false
   },
   "outputs": [],
   "source": [
    "to_model = cleaned.drop(['crew','franchise','source','title','mpaaRating','production','released','rank','producer','scrwriter','director','execprod','none','n','genre','Multiple Creative Types','Concert/Performance','creative','rating'], axis = 1)"
   ]
  },
  {
   "cell_type": "code",
   "execution_count": 15,
   "metadata": {
    "collapsed": false
   },
   "outputs": [
    {
     "data": {
      "text/plain": [
       "array([u'audience', u'budget', u'cast', u'critics', u'domestic',\n",
       "       u'firstdate', u'firstviews', u'internationalReleases', u'results',\n",
       "       u'worldwide', u'Adventure', u'Black Comedy', u'Comedy',\n",
       "       u'Documentary', u'Drama', u'Horror', u'Musical', u'Romantic Comedy',\n",
       "       u'Thriller/Suspense', u'Western', u'NC-17', u'Not Rated', u'PG',\n",
       "       u'PG-13', u'R', u'Dramatization', u'Factual', u'Fantasy',\n",
       "       u'Historical Fiction', u'Kids Fiction', u'Science Fiction',\n",
       "       u'Super Hero', 2, 3, 4, 'origscreen'], dtype=object)"
      ]
     },
     "execution_count": 15,
     "metadata": {},
     "output_type": "execute_result"
    }
   ],
   "source": [
    "to_model.columns.values"
   ]
  },
  {
   "cell_type": "markdown",
   "metadata": {},
   "source": [
    "#### need to figure out how to handle producer, screenwriter, director, executiveproducer, & firstdate"
   ]
  },
  {
   "cell_type": "code",
   "execution_count": 16,
   "metadata": {
    "collapsed": false
   },
   "outputs": [
    {
     "name": "stderr",
     "output_type": "stream",
     "text": [
      "/Users/R1/anaconda/lib/python2.7/site-packages/matplotlib/font_manager.py:273: UserWarning: Matplotlib is building the font cache using fc-list. This may take a moment.\n",
      "  warnings.warn('Matplotlib is building the font cache using fc-list. This may take a moment.')\n"
     ]
    }
   ],
   "source": [
    "import pandas as pd\n",
    "import numpy as np\n",
    "import math\n",
    "from sklearn import cross_validation, linear_model, grid_search\n",
    "import matplotlib.pyplot as plt\n",
    "import seaborn as sns\n",
    "%matplotlib inline\n",
    "\n",
    "\n",
    "def scatter_matrix(X):\n",
    "    feature_count = len(X.columns)\n",
    "    fig,ax = plt.subplots(ncols=feature_count,nrows=feature_count,figsize=(10*feature_count, 10*feature_count))\n",
    "\n",
    "    for i,feature_i in enumerate(X):\n",
    "        for j,feature_j in enumerate(X):\n",
    "            ax[i][j].scatter(X[feature_i],X[feature_j])\n",
    "            ax[i][j].set_xlabel('Feature ' + str(feature_i))\n",
    "            ax[i][j].set_ylabel('Feature ' + str(feature_j))\n"
   ]
  },
  {
   "cell_type": "code",
   "execution_count": 17,
   "metadata": {
    "collapsed": true
   },
   "outputs": [],
   "source": [
    "from __future__ import division"
   ]
  },
  {
   "cell_type": "code",
   "execution_count": 18,
   "metadata": {
    "collapsed": false
   },
   "outputs": [],
   "source": [
    "X,y = to_model.drop(['worldwide','domestic','internationalReleases', 'firstdate'], axis=1),to_model['worldwide']\n",
    "\n",
    "X_train,X_test, y_train, y_test = cross_validation.train_test_split(X,y,test_size = 0.3)"
   ]
  },
  {
   "cell_type": "code",
   "execution_count": 19,
   "metadata": {
    "collapsed": false
   },
   "outputs": [],
   "source": [
    "import pandas as pd\n",
    "import numpy as np\n",
    "import matplotlib.pyplot as plt\n",
    "import random\n",
    "import re\n",
    "from sklearn import cross_validation, datasets, linear_model, grid_search, tree, preprocessing\n",
    "from sklearn.tree import export_graphviz, DecisionTreeRegressor\n",
    "from sklearn.ensemble import RandomForestClassifier,  RandomForestRegressor,  ExtraTreesClassifier\n",
    "from sklearn.cross_validation import KFold\n",
    "\n",
    "%matplotlib inline"
   ]
  },
  {
   "cell_type": "code",
   "execution_count": null,
   "metadata": {
    "collapsed": false,
    "scrolled": true
   },
   "outputs": [],
   "source": [
    "kf = KFold(len(X_train), n_folds=20, shuffle=True, random_state=0)\n"
   ]
  },
  {
   "cell_type": "code",
   "execution_count": null,
   "metadata": {
    "collapsed": false
   },
   "outputs": [],
   "source": [
    "lasso = linear_model.Lasso()\n",
    "\n",
    "parameters = {'normalize':(True,False),\n",
    "              'alpha':np.logspace(-2,50,100)}\n",
    "grid_searcher = grid_search.GridSearchCV(lasso, parameters, cv=kf)\n",
    "\n",
    "grid_searcher.fit(X_train, y_train)\n"
   ]
  },
  {
   "cell_type": "code",
   "execution_count": null,
   "metadata": {
    "collapsed": false
   },
   "outputs": [],
   "source": [
    "model = grid_searcher.best_estimator_\n",
    "print(grid_searcher.best_params_)\n",
    "print 'score', grid_searcher.score(X_test, y_test)\n",
    "zip(X_train.columns,model.coef_)\n",
    "\n"
   ]
  },
  {
   "cell_type": "code",
   "execution_count": null,
   "metadata": {
    "collapsed": false
   },
   "outputs": [],
   "source": [
    "linreg = linear_model.LinearRegression()\n",
    "var,targ = to_model.drop(['worldwide','domestic','internationalReleases', 'firstdate','Western','Black Comedy','Musical','Thriller/Suspense','NC-17','Not Rated','R','Factual','Super Hero'], axis=1),to_model['worldwide']\n",
    "var_train,var_test, targ_train, targ_test = cross_validation.train_test_split(X,y,test_size = 0.3)\n",
    "linreg.fit(var_train, targ_train)\n",
    "print 'score', linreg.score(var_test,targ_test)\n",
    "zip(var.columns, linreg.coef_)"
   ]
  },
  {
   "cell_type": "code",
   "execution_count": null,
   "metadata": {
    "collapsed": false
   },
   "outputs": [],
   "source": [
    "enet = linear_model.ElasticNet()\n",
    "\n",
    "parameters = {'normalize':(True,False),\n",
    "              'alpha':np.logspace(-2,30,50)}\n",
    "grid_searcher = grid_search.GridSearchCV(enet, parameters, cv=kf)\n",
    "\n",
    "grid_searcher.fit(X_train, y_train)\n",
    "\n",
    "model = grid_searcher.best_estimator_\n",
    "print(grid_searcher.best_params_)\n",
    "print 'score', grid_searcher.score(X_test, y_test)\n",
    "zip(X.columns,model.coef_)\n"
   ]
  },
  {
   "cell_type": "code",
   "execution_count": 20,
   "metadata": {
    "collapsed": false
   },
   "outputs": [],
   "source": [
    "from sklearn.ensemble import RandomForestRegressor"
   ]
  },
  {
   "cell_type": "code",
   "execution_count": 21,
   "metadata": {
    "collapsed": false,
    "scrolled": false
   },
   "outputs": [
    {
     "name": "stdout",
     "output_type": "stream",
     "text": [
      "Score: 0.63845577223\n",
      "(u'budget', 0.36004288539665441)\n",
      "(u'firstviews', 0.13380071377426975)\n",
      "(u'audience', 0.087569060122586931)\n",
      "(u'results', 0.074286846335061746)\n",
      "(u'critics', 0.066046539498339149)\n",
      "(u'cast', 0.058800594318821862)\n",
      "(u'Adventure', 0.051322924485552396)\n",
      "(u'Kids Fiction', 0.020665753310412757)\n",
      "(u'PG-13', 0.018408680078643644)\n",
      "(2, 0.016623120961614571)\n",
      "(u'Science Fiction', 0.015363011049420955)\n",
      "('origscreen', 0.012172486439953984)\n",
      "(u'R', 0.011788991058389382)\n",
      "(u'Fantasy', 0.010565550095769892)\n",
      "(3, 0.0084856663320196056)\n",
      "(4, 0.008189380800210316)\n",
      "(u'PG', 0.0076102605918892926)\n",
      "(u'Drama', 0.0074441115482380216)\n",
      "(u'Comedy', 0.0055331533841327983)\n",
      "(u'Super Hero', 0.0051517898237445677)\n",
      "(u'Historical Fiction', 0.0037744035181258707)\n",
      "(u'Thriller/Suspense', 0.0036056440299955432)\n",
      "(u'Dramatization', 0.0030201048041299861)\n",
      "(u'Horror', 0.0022316581656789077)\n",
      "(u'Romantic Comedy', 0.0021329878404831599)\n",
      "(u'Not Rated', 0.0018282165068152028)\n",
      "(u'Musical', 0.0017569342914217801)\n",
      "(u'Western', 0.00066166408812232125)\n",
      "(u'Factual', 0.00046315650337789367)\n",
      "(u'Black Comedy', 0.00035236862147069938)\n",
      "(u'Documentary', 0.00028890021215574385)\n",
      "(u'NC-17', 1.2442012496878402e-05)\n"
     ]
    }
   ],
   "source": [
    "rf =RandomForestRegressor(n_estimators = 100, max_features = 7 )\n",
    "rf.fit(X_train,y_train)\n",
    "a  = X.columns.values\n",
    "print \"Score: \" + str(rf.score(X_test,y_test))\n",
    "sorted_features = zip(X.columns, rf.feature_importances_)\n",
    "sorted_features.sort(key=lambda x: x[1], reverse=True)\n",
    "for feature in sorted_features:\n",
    "    print(feature)"
   ]
  },
  {
   "cell_type": "code",
   "execution_count": 22,
   "metadata": {
    "collapsed": false
   },
   "outputs": [
    {
     "data": {
      "text/plain": [
       "751              0\n",
       "533        5892466\n",
       "745        4600000\n",
       "4518     442169052\n",
       "4932     132999811\n",
       "2194      85512300\n",
       "1764      76200721\n",
       "1816       4313644\n",
       "4611     162870525\n",
       "3296      27866213\n",
       "1297             0\n",
       "2160      12516222\n",
       "724         842693\n",
       "412          58163\n",
       "897         593933\n",
       "4040      59551283\n",
       "59               0\n",
       "4673       9103630\n",
       "2591      54294169\n",
       "5068      20600000\n",
       "3795      17378193\n",
       "3331      27257061\n",
       "1603       5010509\n",
       "4357             0\n",
       "1699             0\n",
       "3394     139109346\n",
       "4225     257805243\n",
       "814        2077844\n",
       "1067         19875\n",
       "4253     355612291\n",
       "           ...    \n",
       "3696      54768418\n",
       "1176       3858964\n",
       "2949      79114085\n",
       "1579      44103982\n",
       "1036      19184820\n",
       "1894        109383\n",
       "3584      79915361\n",
       "2273      18733666\n",
       "5107     542742489\n",
       "3768     160000000\n",
       "1998      25697647\n",
       "3235      97030468\n",
       "1674        555335\n",
       "1459         15091\n",
       "878         500296\n",
       "1807         14443\n",
       "4477     101636047\n",
       "4838    1141408667\n",
       "2871      32632668\n",
       "311              0\n",
       "1704        446438\n",
       "1209      57273049\n",
       "2392       1148578\n",
       "4662      43957541\n",
       "1086             0\n",
       "1038      20123742\n",
       "3101       1696765\n",
       "2573      56506120\n",
       "2486      30261293\n",
       "3342      60527873\n",
       "Name: worldwide, dtype: int64"
      ]
     },
     "execution_count": 22,
     "metadata": {},
     "output_type": "execute_result"
    }
   ],
   "source": [
    "y_train"
   ]
  },
  {
   "cell_type": "code",
   "execution_count": null,
   "metadata": {
    "collapsed": false
   },
   "outputs": [],
   "source": [
    "rf.score(X_test,y_test)\n"
   ]
  },
  {
   "cell_type": "code",
   "execution_count": null,
   "metadata": {
    "collapsed": false
   },
   "outputs": [],
   "source": [
    "X_train.columns"
   ]
  },
  {
   "cell_type": "code",
   "execution_count": null,
   "metadata": {
    "collapsed": true
   },
   "outputs": [],
   "source": [
    "import statsmodels.api as sm"
   ]
  },
  {
   "cell_type": "code",
   "execution_count": null,
   "metadata": {
    "collapsed": false
   },
   "outputs": [],
   "source": [
    "olsm = sm.OLS(y_train, X_train)\n",
    "results = olsm.fit()\n",
    "results.rsquared"
   ]
  },
  {
   "cell_type": "code",
   "execution_count": 23,
   "metadata": {
    "collapsed": false
   },
   "outputs": [
    {
     "data": {
      "text/plain": [
       "Index([u'audience', u'budget', u'cast', u'creative', u'crew', u'critics',\n",
       "       u'domestic', u'firstdate', u'firstviews', u'franchise', u'genre',\n",
       "       u'internationalReleases', u'mpaaRating', u'production', u'rank',\n",
       "       u'released', u'results', u'source', u'title', u'worldwide'],\n",
       "      dtype='object')"
      ]
     },
     "execution_count": 23,
     "metadata": {},
     "output_type": "execute_result"
    }
   ],
   "source": [
    "df.columns"
   ]
  },
  {
   "cell_type": "code",
   "execution_count": 25,
   "metadata": {
    "collapsed": false
   },
   "outputs": [
    {
     "data": {
      "text/plain": [
       "0       {u'Casting (Australia)': u'Ann Robinson', u'Re...\n",
       "1       {u'Stunt Coordinator': u'Damon Caro', u'Superv...\n",
       "2       {u'Stunt Coordinator': u'Spiro Razatos', u'Re-...\n",
       "3       {u'Second Assistant Director-Second Unit': u'T...\n",
       "4       {u'Stunt Coordinator': u'Scott Rogers', u'Cost...\n",
       "5       {u'Animation Supervisor': u'Clay Kaytis', u'As...\n",
       "6       {u'Stunt Coordinator': u'Tom Struthers', u'Bas...\n",
       "7       {u'ILM Visual Effects Executive Producer': u'J...\n",
       "8       {u'Stunt Coordinator': u'Tom Struthers', u'Re-...\n",
       "9       {u'Stunt Coordinator': u'Gary Powell', u'Re-re...\n",
       "10      {u'Stunt Coordinator': u'George Marshall Ruge'...\n",
       "11      {u'Re-recording Mixer': u'Christopher Scarabos...\n",
       "12      {u'Based on Characters Created By': u'Michael ...\n",
       "13      {u'Stunt Coordinator': u'James Armstrong', u'R...\n",
       "14      {u'Producer': u'Philip Steuer', u'Visual Effec...\n",
       "15      {u'Producer': u'Peter Safran', u'Sound Designe...\n",
       "16                                                     {}\n",
       "17                         {u'Director': u'Jordan Reyes'}\n",
       "18                      {u'Director': u'Fredrick Alanzo'}\n",
       "19                                                     {}\n",
       "20                    {u'Director': u'Christopher Nolan'}\n",
       "21                                                     {}\n",
       "22                                                     {}\n",
       "23                                                     {}\n",
       "24                     {u'Director': u'Robert Rodriguez'}\n",
       "25      {u'Associate Producer': u'Zachary Tucker', u'P...\n",
       "26                         {u'Director': u'Gary Roberts'}\n",
       "27                                                     {}\n",
       "28             {u'Director': u'Jeff \"King Jeff\" Hollins'}\n",
       "29                                                     {}\n",
       "                              ...                        \n",
       "5132    {u'Costume Designer': u'Shay Cunliffe', u'Edit...\n",
       "5133    {u'Production Designer': u'Darren Gilford', u'...\n",
       "5134    {u'Story Supervisor': u'Nathan Stanton', u'Edi...\n",
       "5135    {u'Stunt Coordinator': u'James Armstrong', u'R...\n",
       "5136    {u'Stunt Coordinator': u'Paul Leonard', u'Re-r...\n",
       "5137    {u'Film Editor': u'Bob Murawski', u'Stunt Coor...\n",
       "5138    {u'Rendering Supervisor': u'Alexander Kollopou...\n",
       "5139    {u'Stunt Coordinator': u'Gary Powell', u'Re-re...\n",
       "5140    {u'Stunt Coordinator': u'Scott Rogers', u'Re-r...\n",
       "5141    {u'Stunt Coordinator': u'Markos Rounthwaite', ...\n",
       "5142    {u'Story Supervisor': u'Jason Katz', u'Music c...\n",
       "5143    {u'Associate Producer': u'Bob Roath', u'Story ...\n",
       "5144    {u'Stunt Coordinator': u'Simon Crane', u'Costu...\n",
       "5145    {u'Director': u'Chris Weitz', u'First Assistan...\n",
       "5146    {u'Producer': u'Bennet Schneir', u'Executive M...\n",
       "5147    {u'Second Assistant Director-Second Unit': u'W...\n",
       "5148    {u'Stunt Coordinator': u'Mike Mitchell', u'Re-...\n",
       "5149    {u'Stunt Coordinator': u'Mike Gunther', u'Co-V...\n",
       "5150    {u'Stunt Coordinator': u'Bob Brown', u'Re-reco...\n",
       "5151    {u'Production Designer': u'Bo Welch', u'Screen...\n",
       "5152    {u'Stunt Coordinator': u'Damon Caro', u'Re-rec...\n",
       "5153    {u'Costume Designer': u'Penny Rose', u'Editor'...\n",
       "5154    {u'Director': u'Marc Forster', u'Producer': u'...\n",
       "5155    {u'Stunt Coordinator': u'R.A. Rondell', u'Re-r...\n",
       "5156    {u'Stunt Coordinator': u'George Marshall Ruge'...\n",
       "5157    {u'Casting Director-Australian Casting': u'Ann...\n",
       "5158    {u'Stunt Coordinator': u'Glenn Boswell', u'Re-...\n",
       "5159    {u'Supervising Art Director': u'Neil Lamont', ...\n",
       "5160    {u'Director': u'Richard Montoya', u'Screenwrit...\n",
       "5161                                                   {}\n",
       "Name: crew, dtype: object"
      ]
     },
     "execution_count": 25,
     "metadata": {},
     "output_type": "execute_result"
    }
   ],
   "source": [
    "df.crew"
   ]
  },
  {
   "cell_type": "code",
   "execution_count": null,
   "metadata": {
    "collapsed": true
   },
   "outputs": [],
   "source": []
  }
 ],
 "metadata": {
  "anaconda-cloud": {},
  "kernelspec": {
   "display_name": "Python [Root]",
   "language": "python",
   "name": "Python [Root]"
  },
  "language_info": {
   "codemirror_mode": {
    "name": "ipython",
    "version": 2
   },
   "file_extension": ".py",
   "mimetype": "text/x-python",
   "name": "python",
   "nbconvert_exporter": "python",
   "pygments_lexer": "ipython2",
   "version": "2.7.12"
  }
 },
 "nbformat": 4,
 "nbformat_minor": 0
}
