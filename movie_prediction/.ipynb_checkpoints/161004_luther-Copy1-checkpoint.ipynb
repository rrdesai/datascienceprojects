{
 "cells": [
  {
   "cell_type": "code",
   "execution_count": 1,
   "metadata": {
    "collapsed": true
   },
   "outputs": [],
   "source": [
    " def extract(dictionary,key):\n",
    "    try:\n",
    "        return dictionary[key]\n",
    "    except:\n",
    "        return np.nan"
   ]
  },
  {
   "cell_type": "code",
   "execution_count": 2,
   "metadata": {
    "collapsed": false
   },
   "outputs": [],
   "source": [
    "def trypull(list):\n",
    "    try:\n",
    "        return list[0]\n",
    "    except:\n",
    "        return np.nan"
   ]
  },
  {
   "cell_type": "code",
   "execution_count": 3,
   "metadata": {
    "collapsed": true
   },
   "outputs": [],
   "source": [
    "def bigactors(actors):\n",
    "    actor_list = [i[0] for i in prolific]   \n",
    "    count = 0\n",
    "    for i in actors:\n",
    "        if i in actor_list:\n",
    "            count+=1\n",
    "    return count"
   ]
  },
  {
   "cell_type": "code",
   "execution_count": 4,
   "metadata": {
    "collapsed": true
   },
   "outputs": [],
   "source": [
    "def bigdirectors(director):\n",
    "    dir_list = [i[0] for i in prolific]\n",
    "    count = 0\n",
    "    if director in dir_list:\n",
    "        count+=1\n",
    "    return count"
   ]
  },
  {
   "cell_type": "code",
   "execution_count": 5,
   "metadata": {
    "collapsed": true
   },
   "outputs": [],
   "source": [
    "def convert_ytdate(dstring):\n",
    "    try:\n",
    "        if dstring.find('days') > -1:\n",
    "            return round(int(dstring.split(' ')[0]))\n",
    "        elif dstring.find('months') > -1:\n",
    "            d = int(dstring.split(' ')[0])\n",
    "            return round(int(d*4.333*7))\n",
    "        elif dstring.find('weeks') > -1:\n",
    "            d = int(dstring.split(' ')[0])\n",
    "            return round(int(d*7))\n",
    "        elif dstring.find('years') > -1:\n",
    "            d = int(dstring.split(' ')[0])\n",
    "            return round(int(d*52*7))\n",
    "        else: return np.nan\n",
    "    except:\n",
    "        return np.nan"
   ]
  },
  {
   "cell_type": "code",
   "execution_count": 6,
   "metadata": {
    "collapsed": true
   },
   "outputs": [],
   "source": [
    "def append_crew(cast):\n",
    "    for i in cast:\n",
    "        try: castlist[i] += 1\n",
    "        except: castlist[i] = 1\n"
   ]
  },
  {
   "cell_type": "code",
   "execution_count": 7,
   "metadata": {
    "collapsed": true
   },
   "outputs": [],
   "source": [
    "def append_dir(director):\n",
    "    try: dirlist[director]+=1\n",
    "    except: dirlist[director] = 1"
   ]
  },
  {
   "cell_type": "code",
   "execution_count": 8,
   "metadata": {
    "collapsed": true
   },
   "outputs": [],
   "source": [
    "def rating_clean(rating):\n",
    "    try:\n",
    "        \n",
    "        if rating[0] in ('n', 'M/PG', 'Open'):\n",
    "            return np.nan\n",
    "        else:\n",
    "            return rating[0]\n",
    "    except:\n",
    "        return np.nan"
   ]
  },
  {
   "cell_type": "code",
   "execution_count": 9,
   "metadata": {
    "collapsed": true
   },
   "outputs": [],
   "source": [
    "def split_rating(rating):\n",
    "    try:\n",
    "        return int(rating.split('%')[0])\n",
    "    except:\n",
    "        return np.nan"
   ]
  },
  {
   "cell_type": "code",
   "execution_count": 10,
   "metadata": {
    "collapsed": true
   },
   "outputs": [],
   "source": [
    "def ytviews(views):\n",
    "    try:\n",
    "        return int(views.split(' ')[0].replace(',',''))\n",
    "    except:\n",
    "        return np.nan"
   ]
  },
  {
   "cell_type": "code",
   "execution_count": 11,
   "metadata": {
    "collapsed": false
   },
   "outputs": [],
   "source": [
    "def internationalcount(x):\n",
    "    try: return len(x)\n",
    "    except: return np.nan"
   ]
  },
  {
   "cell_type": "code",
   "execution_count": 12,
   "metadata": {
    "collapsed": false
   },
   "outputs": [],
   "source": [
    "import pandas as pd\n",
    "import numpy as np\n",
    "with open('movies.json') as f:\n",
    "    df = pd.read_json(f)\n",
    "\n",
    "cleaned = df.drop(['runtime','prodCountries','prodCompanies','keywords','comps','domesticReleases'], axis = 1)\n",
    "\n",
    "\n",
    "cleaned['critics'] = cleaned['critics'].apply(lambda x: split_rating(x))\n",
    "cleaned['audience'] = cleaned['audience'].apply(lambda x: split_rating(x))\n",
    "cleaned['creative'] = cleaned['creative'].apply(lambda x: trypull(x))\n",
    "cleaned['firstviews'] = cleaned['firstviews'].apply(lambda x: ytviews(x))\n",
    "cleaned['firstdate'] = cleaned['firstdate'].apply(lambda x: convert_ytdate(x))\n",
    "cleaned['genre'] = cleaned['genre'].apply(lambda x: trypull(x))\n",
    "cleaned['budget'] = cleaned['budget'].apply(lambda x: int(x.replace(',','').replace('$','')))\n",
    "cleaned['source'] = cleaned['source'].apply(lambda x: trypull(x))\n",
    "\n",
    "\n",
    "cleaned['director'] = cleaned['crew'].apply(lambda x: extract(x, 'Director'))\n",
    "cleaned['producer'] = cleaned['crew'].apply(lambda x: extract(x, 'Producer'))\n",
    "cleaned['execprod'] = cleaned['crew'].apply(lambda x: extract(x,'Executive Producer'))\n",
    "cleaned['scrwriter'] = cleaned['crew'].apply(lambda x: extract(x, 'Screenwriter'))\n",
    "\n",
    "cleaned['released']  = pd.to_datetime(cleaned['released'], format='%m/%d/%Y')\n",
    "cleaned = cleaned[(cleaned['released'].dt.year >= 2010)]\n",
    "cleaned['released'] = cleaned['released'].dt.quarter\n",
    "cleaned['cast'] = cleaned['cast'].apply(lambda x: x.values())\n",
    "cleaned['rating'] = cleaned['mpaaRating'].apply(lambda x: trypull(x))\n",
    "cleaned['domestic'] = cleaned['domestic'].apply(lambda x: int(x.replace('$','').replace(',','')))\n",
    "cleaned['worldwide'] = cleaned['worldwide'].apply(lambda x: int(x.replace('$','').replace(',','')))\n",
    "cleaned['results'] = cleaned['results'].apply(lambda x: int(x.replace(',','')))\n",
    "cleaned['franchise'] = cleaned['franchise'].apply(lambda x: internationalcount(x))\n",
    "cleaned['mpaaRating'] = cleaned['mpaaRating'].apply(lambda x: rating_clean(x))\n",
    "cleaned['internationalReleases'] = cleaned['internationalReleases'].apply(lambda x: internationalcount(x))\n"
   ]
  },
  {
   "cell_type": "code",
   "execution_count": 13,
   "metadata": {
    "collapsed": false
   },
   "outputs": [
    {
     "name": "stdout",
     "output_type": "stream",
     "text": [
      "<class 'pandas.core.frame.DataFrame'> <class 'pandas.core.frame.DataFrame'> <class 'pandas.core.frame.DataFrame'> <class 'pandas.core.frame.DataFrame'>\n"
     ]
    }
   ],
   "source": [
    "gendummies = pd.get_dummies(cleaned['genre'], drop_first=True)\n",
    "ratdummies = pd.get_dummies(cleaned['mpaaRating'],drop_first=True)\n",
    "creatdummies = pd.get_dummies(cleaned['creative'], drop_first=True)\n",
    "datdummies = pd.get_dummies(cleaned['released'], drop_first = True)\n",
    "print type(gendummies), type(ratdummies), type(creatdummies),type(cleaned)\n",
    "cleaned = pd.concat([cleaned, gendummies, ratdummies, creatdummies, datdummies], axis = 1)\n",
    "\n"
   ]
  },
  {
   "cell_type": "code",
   "execution_count": 14,
   "metadata": {
    "collapsed": false
   },
   "outputs": [],
   "source": [
    "castlist = {}\n",
    "castbymov = []\n",
    "cleaned['cast'].apply(lambda x: append_crew(x));\n",
    "for k,v in castlist.iteritems():\n",
    "    tupe = (k,v)\n",
    "    castbymov.append(tupe)\n",
    "prolific = sorted(castbymov, key=lambda tup: tup[1], reverse=True)[:100]\n",
    "cleaned['cast'] = cleaned['cast'].apply(lambda x:bigactors(x))"
   ]
  },
  {
   "cell_type": "code",
   "execution_count": 15,
   "metadata": {
    "collapsed": true
   },
   "outputs": [],
   "source": [
    "dirlist = {}\n",
    "dirbymov = []\n",
    "cleaned['director'].apply(lambda x: append_dir(x))\n",
    "for k,v in dirlist.iteritems():\n",
    "    tupe = (k,v)\n",
    "    dirbymov.append(tupe)\n",
    "prolific = sorted(dirbymov, key = lambda tup: tup[1], reverse = True)[:50]\n",
    "cleaned['director'] = cleaned['director'].apply(lambda x:bigdirectors(x))\n"
   ]
  },
  {
   "cell_type": "code",
   "execution_count": 16,
   "metadata": {
    "collapsed": false,
    "scrolled": false
   },
   "outputs": [],
   "source": [
    "dirlist = {}\n",
    "execbymov = []\n",
    "cleaned['execprod'].apply(lambda x: append_dir(x))\n",
    "for k,v in dirlist.iteritems():\n",
    "    tupe = (k,v)\n",
    "    execbymov.append(tupe)\n",
    "prolific = sorted(execbymov, key = lambda tup: tup[1], reverse = True)[:25]\n",
    "cleaned['execprod'] = cleaned['execprod'].apply(lambda x:bigdirectors(x))\n"
   ]
  },
  {
   "cell_type": "code",
   "execution_count": 17,
   "metadata": {
    "collapsed": true
   },
   "outputs": [],
   "source": [
    "dirlist = {}\n",
    "producer = []\n",
    "cleaned['producer'].apply(lambda x: append_dir(x))\n",
    "for k,v in dirlist.iteritems():\n",
    "    tupe = (k,v)\n",
    "    producer.append(tupe)\n",
    "prolific = sorted(producer, key = lambda tup: tup[1], reverse = True)[:25]\n",
    "cleaned['producer'] = cleaned['producer'].apply(lambda x:bigdirectors(x))"
   ]
  },
  {
   "cell_type": "code",
   "execution_count": 18,
   "metadata": {
    "collapsed": true
   },
   "outputs": [],
   "source": [
    "dirlist = {}\n",
    "screen = []\n",
    "cleaned['scrwriter'].apply(lambda x: append_dir(x))\n",
    "for k,v in dirlist.iteritems():\n",
    "    tupe = (k,v)\n",
    "    producer.append(tupe)\n",
    "prolific = sorted(producer, key = lambda tup: tup[1], reverse = True)[:25]\n",
    "cleaned['scrwriter'] = cleaned['scrwriter'].apply(lambda x:bigdirectors(x))"
   ]
  },
  {
   "cell_type": "code",
   "execution_count": 19,
   "metadata": {
    "collapsed": false
   },
   "outputs": [],
   "source": [
    "cleaned['origscreen'] = cleaned['source'].apply(lambda x: int(x=='Original Screenplay'))\n",
    "to_model = cleaned.drop(['crew','source','mpaaRating','production','released','rank','genre','critics','audience','Multiple Creative Types','title','franchise','Concert/Performance','creative','rating','crew','internationalReleases'], axis = 1)"
   ]
  },
  {
   "cell_type": "code",
   "execution_count": 33,
   "metadata": {
    "collapsed": false
   },
   "outputs": [],
   "source": [
    "to_model = to_model.fillna(to_model.mean())"
   ]
  },
  {
   "cell_type": "code",
   "execution_count": 34,
   "metadata": {
    "collapsed": false
   },
   "outputs": [
    {
     "data": {
      "text/html": [
       "<div>\n",
       "<table border=\"1\" class=\"dataframe\">\n",
       "  <thead>\n",
       "    <tr style=\"text-align: right;\">\n",
       "      <th></th>\n",
       "      <th>title</th>\n",
       "      <th>cast</th>\n",
       "      <th>budget</th>\n",
       "      <th>worldwide</th>\n",
       "    </tr>\n",
       "  </thead>\n",
       "  <tbody>\n",
       "    <tr>\n",
       "      <th>11</th>\n",
       "      <td>Star Wars Ep. VII: The Force Awakens</td>\n",
       "      <td>4</td>\n",
       "      <td>306000000</td>\n",
       "      <td>2058662225</td>\n",
       "    </tr>\n",
       "    <tr>\n",
       "      <th>4971</th>\n",
       "      <td>Harry Potter and the Deathly Hallows: Part II</td>\n",
       "      <td>4</td>\n",
       "      <td>125000000</td>\n",
       "      <td>1341511219</td>\n",
       "    </tr>\n",
       "    <tr>\n",
       "      <th>5062</th>\n",
       "      <td>Frozen</td>\n",
       "      <td>2</td>\n",
       "      <td>150000000</td>\n",
       "      <td>1274234980</td>\n",
       "    </tr>\n",
       "    <tr>\n",
       "      <th>5142</th>\n",
       "      <td>Toy Story 3</td>\n",
       "      <td>0</td>\n",
       "      <td>200000000</td>\n",
       "      <td>1069818229</td>\n",
       "    </tr>\n",
       "    <tr>\n",
       "      <th>5156</th>\n",
       "      <td>Pirates of the Caribbean: On Stranger Tides</td>\n",
       "      <td>1</td>\n",
       "      <td>250000000</td>\n",
       "      <td>1045663875</td>\n",
       "    </tr>\n",
       "    <tr>\n",
       "      <th>5061</th>\n",
       "      <td>Zootopia</td>\n",
       "      <td>4</td>\n",
       "      <td>150000000</td>\n",
       "      <td>1021768248</td>\n",
       "    </tr>\n",
       "    <tr>\n",
       "      <th>0</th>\n",
       "      <td>The Hobbit: An Unexpected Journey</td>\n",
       "      <td>1</td>\n",
       "      <td>250000000</td>\n",
       "      <td>1017003568</td>\n",
       "    </tr>\n",
       "    <tr>\n",
       "      <th>5143</th>\n",
       "      <td>Finding Dory</td>\n",
       "      <td>4</td>\n",
       "      <td>200000000</td>\n",
       "      <td>985205113</td>\n",
       "    </tr>\n",
       "    <tr>\n",
       "      <th>5158</th>\n",
       "      <td>The Hobbit: The Desolation of Smaug</td>\n",
       "      <td>1</td>\n",
       "      <td>250000000</td>\n",
       "      <td>960366855</td>\n",
       "    </tr>\n",
       "    <tr>\n",
       "      <th>4967</th>\n",
       "      <td>Harry Potter and the Deathly Hallows: Part I</td>\n",
       "      <td>3</td>\n",
       "      <td>125000000</td>\n",
       "      <td>960283305</td>\n",
       "    </tr>\n",
       "    <tr>\n",
       "      <th>5157</th>\n",
       "      <td>The Hobbit: The Battle of the Five Armies</td>\n",
       "      <td>1</td>\n",
       "      <td>250000000</td>\n",
       "      <td>955119788</td>\n",
       "    </tr>\n",
       "    <tr>\n",
       "      <th>4849</th>\n",
       "      <td>Ice Age: Continental Drift</td>\n",
       "      <td>0</td>\n",
       "      <td>95000000</td>\n",
       "      <td>879765137</td>\n",
       "    </tr>\n",
       "    <tr>\n",
       "      <th>4989</th>\n",
       "      <td>The Hunger Games: Catching Fire</td>\n",
       "      <td>6</td>\n",
       "      <td>130000000</td>\n",
       "      <td>864868047</td>\n",
       "    </tr>\n",
       "    <tr>\n",
       "      <th>5105</th>\n",
       "      <td>Inside Out</td>\n",
       "      <td>1</td>\n",
       "      <td>175000000</td>\n",
       "      <td>853923085</td>\n",
       "    </tr>\n",
       "    <tr>\n",
       "      <th>4655</th>\n",
       "      <td>The Secret Life of Pets</td>\n",
       "      <td>1</td>\n",
       "      <td>75000000</td>\n",
       "      <td>833731360</td>\n",
       "    </tr>\n",
       "    <tr>\n",
       "      <th>5094</th>\n",
       "      <td>Guardians of the Galaxy</td>\n",
       "      <td>3</td>\n",
       "      <td>170000000</td>\n",
       "      <td>771172112</td>\n",
       "    </tr>\n",
       "    <tr>\n",
       "      <th>5114</th>\n",
       "      <td>Maleficent</td>\n",
       "      <td>0</td>\n",
       "      <td>180000000</td>\n",
       "      <td>758536735</td>\n",
       "    </tr>\n",
       "    <tr>\n",
       "      <th>13</th>\n",
       "      <td>The Amazing Spider-Man</td>\n",
       "      <td>2</td>\n",
       "      <td>220000000</td>\n",
       "      <td>757890267</td>\n",
       "    </tr>\n",
       "    <tr>\n",
       "      <th>5084</th>\n",
       "      <td>Shrek Forever After</td>\n",
       "      <td>0</td>\n",
       "      <td>165000000</td>\n",
       "      <td>756244673</td>\n",
       "    </tr>\n",
       "    <tr>\n",
       "      <th>5027</th>\n",
       "      <td>Madagascar 3: Europe's Most Wanted</td>\n",
       "      <td>2</td>\n",
       "      <td>145000000</td>\n",
       "      <td>746921271</td>\n",
       "    </tr>\n",
       "    <tr>\n",
       "      <th>5138</th>\n",
       "      <td>Monsters University</td>\n",
       "      <td>3</td>\n",
       "      <td>200000000</td>\n",
       "      <td>743588329</td>\n",
       "    </tr>\n",
       "    <tr>\n",
       "      <th>5091</th>\n",
       "      <td>Dawn of the Planet of the Apes</td>\n",
       "      <td>2</td>\n",
       "      <td>170000000</td>\n",
       "      <td>703545589</td>\n",
       "    </tr>\n",
       "    <tr>\n",
       "      <th>5080</th>\n",
       "      <td>Interstellar</td>\n",
       "      <td>5</td>\n",
       "      <td>165000000</td>\n",
       "      <td>665417894</td>\n",
       "    </tr>\n",
       "    <tr>\n",
       "      <th>5046</th>\n",
       "      <td>Kung Fu Panda 2</td>\n",
       "      <td>2</td>\n",
       "      <td>150000000</td>\n",
       "      <td>664837547</td>\n",
       "    </tr>\n",
       "    <tr>\n",
       "      <th>5151</th>\n",
       "      <td>Men in Black 3</td>\n",
       "      <td>2</td>\n",
       "      <td>215000000</td>\n",
       "      <td>654213485</td>\n",
       "    </tr>\n",
       "    <tr>\n",
       "      <th>5083</th>\n",
       "      <td>Big Hero 6</td>\n",
       "      <td>2</td>\n",
       "      <td>165000000</td>\n",
       "      <td>652127828</td>\n",
       "    </tr>\n",
       "    <tr>\n",
       "      <th>5053</th>\n",
       "      <td>Thor: The Dark World</td>\n",
       "      <td>3</td>\n",
       "      <td>150000000</td>\n",
       "      <td>644602516</td>\n",
       "    </tr>\n",
       "    <tr>\n",
       "      <th>5093</th>\n",
       "      <td>Iron Man 2</td>\n",
       "      <td>2</td>\n",
       "      <td>170000000</td>\n",
       "      <td>623561331</td>\n",
       "    </tr>\n",
       "    <tr>\n",
       "      <th>5025</th>\n",
       "      <td>How to Train Your Dragon 2</td>\n",
       "      <td>4</td>\n",
       "      <td>145000000</td>\n",
       "      <td>616102924</td>\n",
       "    </tr>\n",
       "    <tr>\n",
       "      <th>5</th>\n",
       "      <td>Tangled</td>\n",
       "      <td>0</td>\n",
       "      <td>260000000</td>\n",
       "      <td>586581936</td>\n",
       "    </tr>\n",
       "    <tr>\n",
       "      <th>...</th>\n",
       "      <td>...</td>\n",
       "      <td>...</td>\n",
       "      <td>...</td>\n",
       "      <td>...</td>\n",
       "    </tr>\n",
       "    <tr>\n",
       "      <th>2811</th>\n",
       "      <td>The Oogieloves in the BIG Balloon Adventure</td>\n",
       "      <td>0</td>\n",
       "      <td>20000000</td>\n",
       "      <td>1065907</td>\n",
       "    </tr>\n",
       "    <tr>\n",
       "      <th>900</th>\n",
       "      <td>The Lost Medallion: The Adventures of Billy Stone</td>\n",
       "      <td>0</td>\n",
       "      <td>2500000</td>\n",
       "      <td>549632</td>\n",
       "    </tr>\n",
       "    <tr>\n",
       "      <th>1145</th>\n",
       "      <td>A Lonely Place to Die</td>\n",
       "      <td>0</td>\n",
       "      <td>4000000</td>\n",
       "      <td>442550</td>\n",
       "    </tr>\n",
       "    <tr>\n",
       "      <th>3615</th>\n",
       "      <td>The Young and Prodigious T.S. Spivet</td>\n",
       "      <td>0</td>\n",
       "      <td>33000000</td>\n",
       "      <td>357687</td>\n",
       "    </tr>\n",
       "    <tr>\n",
       "      <th>1875</th>\n",
       "      <td>Jungle Shuffle</td>\n",
       "      <td>0</td>\n",
       "      <td>10000000</td>\n",
       "      <td>314073</td>\n",
       "    </tr>\n",
       "    <tr>\n",
       "      <th>3417</th>\n",
       "      <td>Savva. Serdtse voyna</td>\n",
       "      <td>0</td>\n",
       "      <td>30000000</td>\n",
       "      <td>172242</td>\n",
       "    </tr>\n",
       "    <tr>\n",
       "      <th>3824</th>\n",
       "      <td>Dragon Nest Warriors' Dawn</td>\n",
       "      <td>0</td>\n",
       "      <td>40000000</td>\n",
       "      <td>155403</td>\n",
       "    </tr>\n",
       "    <tr>\n",
       "      <th>1900</th>\n",
       "      <td>Kicks</td>\n",
       "      <td>0</td>\n",
       "      <td>10000000</td>\n",
       "      <td>150191</td>\n",
       "    </tr>\n",
       "    <tr>\n",
       "      <th>3416</th>\n",
       "      <td>Space Pirate Captain Harlock</td>\n",
       "      <td>0</td>\n",
       "      <td>30000000</td>\n",
       "      <td>143490</td>\n",
       "    </tr>\n",
       "    <tr>\n",
       "      <th>1237</th>\n",
       "      <td>Falcon Rising</td>\n",
       "      <td>0</td>\n",
       "      <td>4500000</td>\n",
       "      <td>11774</td>\n",
       "    </tr>\n",
       "    <tr>\n",
       "      <th>3639</th>\n",
       "      <td>The Lovers</td>\n",
       "      <td>0</td>\n",
       "      <td>35000000</td>\n",
       "      <td>11106</td>\n",
       "    </tr>\n",
       "    <tr>\n",
       "      <th>1301</th>\n",
       "      <td>Yoga Hosers</td>\n",
       "      <td>1</td>\n",
       "      <td>5000000</td>\n",
       "      <td>2199</td>\n",
       "    </tr>\n",
       "    <tr>\n",
       "      <th>1297</th>\n",
       "      <td>Henry &amp; Me</td>\n",
       "      <td>0</td>\n",
       "      <td>5000000</td>\n",
       "      <td>0</td>\n",
       "    </tr>\n",
       "    <tr>\n",
       "      <th>648</th>\n",
       "      <td>The Lion of Judah</td>\n",
       "      <td>0</td>\n",
       "      <td>1500000</td>\n",
       "      <td>0</td>\n",
       "    </tr>\n",
       "    <tr>\n",
       "      <th>957</th>\n",
       "      <td>Iguana</td>\n",
       "      <td>0</td>\n",
       "      <td>3000000</td>\n",
       "      <td>0</td>\n",
       "    </tr>\n",
       "    <tr>\n",
       "      <th>757</th>\n",
       "      <td>Lucky Dog</td>\n",
       "      <td>0</td>\n",
       "      <td>2000000</td>\n",
       "      <td>0</td>\n",
       "    </tr>\n",
       "    <tr>\n",
       "      <th>716</th>\n",
       "      <td>Against the Wild</td>\n",
       "      <td>0</td>\n",
       "      <td>1800000</td>\n",
       "      <td>0</td>\n",
       "    </tr>\n",
       "    <tr>\n",
       "      <th>96</th>\n",
       "      <td>Lunchtime Heroes</td>\n",
       "      <td>0</td>\n",
       "      <td>100000</td>\n",
       "      <td>0</td>\n",
       "    </tr>\n",
       "    <tr>\n",
       "      <th>5109</th>\n",
       "      <td>Valerian and the City of a Thousand Planets</td>\n",
       "      <td>0</td>\n",
       "      <td>180000000</td>\n",
       "      <td>0</td>\n",
       "    </tr>\n",
       "    <tr>\n",
       "      <th>1581</th>\n",
       "      <td>Alpha &amp; Omega: The Legend of the Saw Tooth Cave</td>\n",
       "      <td>0</td>\n",
       "      <td>7000000</td>\n",
       "      <td>0</td>\n",
       "    </tr>\n",
       "    <tr>\n",
       "      <th>4942</th>\n",
       "      <td>Trolls</td>\n",
       "      <td>1</td>\n",
       "      <td>120000000</td>\n",
       "      <td>0</td>\n",
       "    </tr>\n",
       "    <tr>\n",
       "      <th>3132</th>\n",
       "      <td>The Adventurer: The Curse of the Midas Box</td>\n",
       "      <td>0</td>\n",
       "      <td>25000000</td>\n",
       "      <td>0</td>\n",
       "    </tr>\n",
       "    <tr>\n",
       "      <th>2116</th>\n",
       "      <td>Supesu Batorushippu Yamato</td>\n",
       "      <td>0</td>\n",
       "      <td>12000000</td>\n",
       "      <td>0</td>\n",
       "    </tr>\n",
       "    <tr>\n",
       "      <th>251</th>\n",
       "      <td>Rotor DR1</td>\n",
       "      <td>0</td>\n",
       "      <td>350000</td>\n",
       "      <td>0</td>\n",
       "    </tr>\n",
       "    <tr>\n",
       "      <th>4122</th>\n",
       "      <td>Hannibal the Conqueror</td>\n",
       "      <td>0</td>\n",
       "      <td>50000000</td>\n",
       "      <td>0</td>\n",
       "    </tr>\n",
       "    <tr>\n",
       "      <th>2787</th>\n",
       "      <td>The Thousand Miles</td>\n",
       "      <td>0</td>\n",
       "      <td>20000000</td>\n",
       "      <td>0</td>\n",
       "    </tr>\n",
       "    <tr>\n",
       "      <th>2790</th>\n",
       "      <td>Dwegons and Leprechauns</td>\n",
       "      <td>1</td>\n",
       "      <td>20000000</td>\n",
       "      <td>0</td>\n",
       "    </tr>\n",
       "    <tr>\n",
       "      <th>99</th>\n",
       "      <td>Dude, Where's My Dog</td>\n",
       "      <td>0</td>\n",
       "      <td>100000</td>\n",
       "      <td>0</td>\n",
       "    </tr>\n",
       "    <tr>\n",
       "      <th>188</th>\n",
       "      <td>Horse Camp</td>\n",
       "      <td>0</td>\n",
       "      <td>250000</td>\n",
       "      <td>0</td>\n",
       "    </tr>\n",
       "    <tr>\n",
       "      <th>294</th>\n",
       "      <td>The Little Ponderosa Zoo</td>\n",
       "      <td>0</td>\n",
       "      <td>500000</td>\n",
       "      <td>0</td>\n",
       "    </tr>\n",
       "  </tbody>\n",
       "</table>\n",
       "<p>171 rows × 4 columns</p>\n",
       "</div>"
      ],
      "text/plain": [
       "                                                  title  cast     budget  \\\n",
       "11                 Star Wars Ep. VII: The Force Awakens     4  306000000   \n",
       "4971      Harry Potter and the Deathly Hallows: Part II     4  125000000   \n",
       "5062                                             Frozen     2  150000000   \n",
       "5142                                        Toy Story 3     0  200000000   \n",
       "5156        Pirates of the Caribbean: On Stranger Tides     1  250000000   \n",
       "5061                                           Zootopia     4  150000000   \n",
       "0                     The Hobbit: An Unexpected Journey     1  250000000   \n",
       "5143                                       Finding Dory     4  200000000   \n",
       "5158                The Hobbit: The Desolation of Smaug     1  250000000   \n",
       "4967       Harry Potter and the Deathly Hallows: Part I     3  125000000   \n",
       "5157          The Hobbit: The Battle of the Five Armies     1  250000000   \n",
       "4849                         Ice Age: Continental Drift     0   95000000   \n",
       "4989                    The Hunger Games: Catching Fire     6  130000000   \n",
       "5105                                         Inside Out     1  175000000   \n",
       "4655                            The Secret Life of Pets     1   75000000   \n",
       "5094                            Guardians of the Galaxy     3  170000000   \n",
       "5114                                         Maleficent     0  180000000   \n",
       "13                               The Amazing Spider-Man     2  220000000   \n",
       "5084                                Shrek Forever After     0  165000000   \n",
       "5027                 Madagascar 3: Europe's Most Wanted     2  145000000   \n",
       "5138                                Monsters University     3  200000000   \n",
       "5091                     Dawn of the Planet of the Apes     2  170000000   \n",
       "5080                                       Interstellar     5  165000000   \n",
       "5046                                    Kung Fu Panda 2     2  150000000   \n",
       "5151                                     Men in Black 3     2  215000000   \n",
       "5083                                         Big Hero 6     2  165000000   \n",
       "5053                               Thor: The Dark World     3  150000000   \n",
       "5093                                         Iron Man 2     2  170000000   \n",
       "5025                         How to Train Your Dragon 2     4  145000000   \n",
       "5                                               Tangled     0  260000000   \n",
       "...                                                 ...   ...        ...   \n",
       "2811        The Oogieloves in the BIG Balloon Adventure     0   20000000   \n",
       "900   The Lost Medallion: The Adventures of Billy Stone     0    2500000   \n",
       "1145                              A Lonely Place to Die     0    4000000   \n",
       "3615               The Young and Prodigious T.S. Spivet     0   33000000   \n",
       "1875                                     Jungle Shuffle     0   10000000   \n",
       "3417                               Savva. Serdtse voyna     0   30000000   \n",
       "3824                         Dragon Nest Warriors' Dawn     0   40000000   \n",
       "1900                                              Kicks     0   10000000   \n",
       "3416                       Space Pirate Captain Harlock     0   30000000   \n",
       "1237                                      Falcon Rising     0    4500000   \n",
       "3639                                         The Lovers     0   35000000   \n",
       "1301                                        Yoga Hosers     1    5000000   \n",
       "1297                                         Henry & Me     0    5000000   \n",
       "648                                   The Lion of Judah     0    1500000   \n",
       "957                                              Iguana     0    3000000   \n",
       "757                                           Lucky Dog     0    2000000   \n",
       "716                                    Against the Wild     0    1800000   \n",
       "96                                     Lunchtime Heroes     0     100000   \n",
       "5109        Valerian and the City of a Thousand Planets     0  180000000   \n",
       "1581    Alpha & Omega: The Legend of the Saw Tooth Cave     0    7000000   \n",
       "4942                                             Trolls     1  120000000   \n",
       "3132         The Adventurer: The Curse of the Midas Box     0   25000000   \n",
       "2116                         Supesu Batorushippu Yamato     0   12000000   \n",
       "251                                           Rotor DR1     0     350000   \n",
       "4122                             Hannibal the Conqueror     0   50000000   \n",
       "2787                                 The Thousand Miles     0   20000000   \n",
       "2790                            Dwegons and Leprechauns     1   20000000   \n",
       "99                                 Dude, Where's My Dog     0     100000   \n",
       "188                                          Horse Camp     0     250000   \n",
       "294                            The Little Ponderosa Zoo     0     500000   \n",
       "\n",
       "       worldwide  \n",
       "11    2058662225  \n",
       "4971  1341511219  \n",
       "5062  1274234980  \n",
       "5142  1069818229  \n",
       "5156  1045663875  \n",
       "5061  1021768248  \n",
       "0     1017003568  \n",
       "5143   985205113  \n",
       "5158   960366855  \n",
       "4967   960283305  \n",
       "5157   955119788  \n",
       "4849   879765137  \n",
       "4989   864868047  \n",
       "5105   853923085  \n",
       "4655   833731360  \n",
       "5094   771172112  \n",
       "5114   758536735  \n",
       "13     757890267  \n",
       "5084   756244673  \n",
       "5027   746921271  \n",
       "5138   743588329  \n",
       "5091   703545589  \n",
       "5080   665417894  \n",
       "5046   664837547  \n",
       "5151   654213485  \n",
       "5083   652127828  \n",
       "5053   644602516  \n",
       "5093   623561331  \n",
       "5025   616102924  \n",
       "5      586581936  \n",
       "...          ...  \n",
       "2811     1065907  \n",
       "900       549632  \n",
       "1145      442550  \n",
       "3615      357687  \n",
       "1875      314073  \n",
       "3417      172242  \n",
       "3824      155403  \n",
       "1900      150191  \n",
       "3416      143490  \n",
       "1237       11774  \n",
       "3639       11106  \n",
       "1301        2199  \n",
       "1297           0  \n",
       "648            0  \n",
       "957            0  \n",
       "757            0  \n",
       "716            0  \n",
       "96             0  \n",
       "5109           0  \n",
       "1581           0  \n",
       "4942           0  \n",
       "3132           0  \n",
       "2116           0  \n",
       "251            0  \n",
       "4122           0  \n",
       "2787           0  \n",
       "2790           0  \n",
       "99             0  \n",
       "188            0  \n",
       "294            0  \n",
       "\n",
       "[171 rows x 4 columns]"
      ]
     },
     "execution_count": 34,
     "metadata": {},
     "output_type": "execute_result"
    }
   ],
   "source": [
    "cleaned[cleaned['genre'] == 'Adventure'][['title','cast','budget','worldwide']].sort_values('worldwide', ascending = False)"
   ]
  },
  {
   "cell_type": "markdown",
   "metadata": {},
   "source": [
    "#### need to figure out how to handle producer, screenwriter, director, executiveproducer, & firstdate"
   ]
  },
  {
   "cell_type": "code",
   "execution_count": 22,
   "metadata": {
    "collapsed": false
   },
   "outputs": [
    {
     "name": "stderr",
     "output_type": "stream",
     "text": [
      "/Users/R1/anaconda/lib/python2.7/site-packages/matplotlib/font_manager.py:273: UserWarning: Matplotlib is building the font cache using fc-list. This may take a moment.\n",
      "  warnings.warn('Matplotlib is building the font cache using fc-list. This may take a moment.')\n"
     ]
    }
   ],
   "source": [
    "import pandas as pd\n",
    "import numpy as np\n",
    "import math\n",
    "from sklearn import cross_validation, linear_model, grid_search\n",
    "import matplotlib.pyplot as plt\n",
    "import seaborn as sns\n",
    "%matplotlib inline\n",
    "\n",
    "\n",
    "def scatter_matrix(X):\n",
    "    feature_count = len(X.columns)\n",
    "    fig,ax = plt.subplots(ncols=feature_count,nrows=feature_count,figsize=(10*feature_count, 10*feature_count))\n",
    "\n",
    "    for i,feature_i in enumerate(X):\n",
    "        for j,feature_j in enumerate(X):\n",
    "            ax[i][j].scatter(X[feature_i],X[feature_j])\n",
    "            ax[i][j].set_xlabel('Feature ' + str(feature_i))\n",
    "            ax[i][j].set_ylabel('Feature ' + str(feature_j))\n"
   ]
  },
  {
   "cell_type": "code",
   "execution_count": 28,
   "metadata": {
    "collapsed": false
   },
   "outputs": [],
   "source": [
    "X,y = to_model.drop(['domestic','worldwide'], axis=1),to_model['worldwide']\n",
    "\n",
    "X_train,X_test, y_train, y_test = cross_validation.train_test_split(X,y,test_size = 0.3)\n",
    "\n"
   ]
  },
  {
   "cell_type": "code",
   "execution_count": 29,
   "metadata": {
    "collapsed": false
   },
   "outputs": [],
   "source": [
    "import pandas as pd\n",
    "import numpy as np\n",
    "import matplotlib.pyplot as plt\n",
    "import random\n",
    "import re\n",
    "from sklearn import cross_validation, datasets, linear_model, grid_search, tree, preprocessing\n",
    "from sklearn.tree import export_graphviz, DecisionTreeRegressor\n",
    "from sklearn.ensemble import RandomForestClassifier,  RandomForestRegressor,  ExtraTreesClassifier\n",
    "from sklearn.cross_validation import KFold\n",
    "\n",
    "%matplotlib inline"
   ]
  },
  {
   "cell_type": "code",
   "execution_count": 30,
   "metadata": {
    "collapsed": true
   },
   "outputs": [],
   "source": [
    "kf = KFold(len(X_train), n_folds=20, shuffle=True, random_state=0)\n"
   ]
  },
  {
   "cell_type": "code",
   "execution_count": 31,
   "metadata": {
    "collapsed": false,
    "scrolled": false
   },
   "outputs": [
    {
     "name": "stdout",
     "output_type": "stream",
     "text": [
      "{'normalize': True, 'alpha': 910298.17799152271}\n",
      "coefficients [ 2.10466276  0.          0.          4.13712609 -0.         -0.         -0.\n",
      " -0.         -0.          0.         -0.          0.         -0.         -0.\n",
      " -0.          0.         -0.         -0.         -0.         -0.         -0.\n",
      "  0.          0.         -0.         -0.         -0.          0.         -0.\n",
      "  0.          0.          0.          0.          0.         -0.         -0.        ]\n",
      "score 0.626792835795\n"
     ]
    },
    {
     "data": {
      "text/plain": [
       "[(u'budget', 2.1046627608940294),\n",
       " (u'cast', 0.0),\n",
       " (u'firstdate', 0.0),\n",
       " (u'firstviews', 4.137126090371015),\n",
       " (u'results', -0.0),\n",
       " ('director', -0.0),\n",
       " ('producer', -0.0),\n",
       " ('execprod', -0.0),\n",
       " ('scrwriter', -0.0),\n",
       " (u'Adventure', 0.0),\n",
       " (u'Black Comedy', -0.0),\n",
       " (u'Comedy', 0.0),\n",
       " (u'Documentary', -0.0),\n",
       " (u'Drama', -0.0),\n",
       " (u'Horror', -0.0),\n",
       " (u'Musical', 0.0),\n",
       " (u'Romantic Comedy', -0.0),\n",
       " (u'Thriller/Suspense', -0.0),\n",
       " (u'Western', -0.0),\n",
       " (u'NC-17', -0.0),\n",
       " (u'Not Rated', -0.0),\n",
       " (u'PG', 0.0),\n",
       " (u'PG-13', 0.0),\n",
       " (u'R', -0.0),\n",
       " (u'Dramatization', -0.0),\n",
       " (u'Factual', -0.0),\n",
       " (u'Fantasy', 0.0),\n",
       " (u'Historical Fiction', -0.0),\n",
       " (u'Kids Fiction', 0.0),\n",
       " (u'Science Fiction', 0.0),\n",
       " (u'Super Hero', 0.0),\n",
       " (2, 0.0),\n",
       " (3, 0.0),\n",
       " (4, -0.0),\n",
       " ('origscreen', -0.0)]"
      ]
     },
     "execution_count": 31,
     "metadata": {},
     "output_type": "execute_result"
    }
   ],
   "source": [
    "lasso = linear_model.Lasso()\n",
    "\n",
    "parameters = {'normalize':(True,False),\n",
    "              'alpha':np.logspace(-1,30,50)}\n",
    "grid_searcher = grid_search.GridSearchCV(lasso, parameters, cv=kf)\n",
    "\n",
    "X_train,X_test, y_train, y_test = cross_validation.train_test_split(X,y,test_size = 0.3)\n",
    "\n",
    "grid_searcher.fit(X_train, y_train)\n",
    "\n",
    "\n",
    "model = grid_searcher.best_estimator_\n",
    "print(grid_searcher.best_params_)\n",
    "print 'coefficients', model.coef_\n",
    "print 'score', grid_searcher.score(X_test, y_test)\n",
    "zip(X_train.columns, model.coef_)\n",
    "\n"
   ]
  },
  {
   "cell_type": "code",
   "execution_count": 32,
   "metadata": {
    "collapsed": false
   },
   "outputs": [
    {
     "name": "stdout",
     "output_type": "stream",
     "text": [
      "{'normalize': False, 'alpha': 0.9102981779915218}\n",
      "coefficients [(u'budget', 2.4408967194379616), (u'cast', 8987308.6411378961), (u'firstdate', 8715.4441567535778), (u'firstviews', 7.2155503278623785), (u'results', -0.74177606941962959), ('director', -2506090.4153155726), ('producer', 2610545.8156832545), ('execprod', -486684.64220547344), ('scrwriter', -886889.60543119826), (u'Adventure', 5194839.5626153955), (u'Black Comedy', -305658.09798885504), (u'Comedy', 1180091.8622444635), (u'Documentary', 948294.28894121514), (u'Drama', -1756473.9703299778), (u'Horror', 1608579.3946485831), (u'Musical', 379688.165294362), (u'Romantic Comedy', -600733.67694232729), (u'Thriller/Suspense', -1328454.8125531969), (u'Western', -1392328.1956159209), (u'NC-17', 66793.053956985343), (u'Not Rated', 1763418.9640036258), (u'PG', 4085907.484854572), (u'PG-13', -193774.18336580537), (u'R', -3353306.2281255135), (u'Dramatization', -1343170.432390841), (u'Factual', 1480213.4469683906), (u'Fantasy', 1649953.5477249874), (u'Historical Fiction', -3529552.77910345), (u'Kids Fiction', 4486831.1052648686), (u'Science Fiction', -165842.52014330906), (u'Super Hero', 1788028.8333290191), (2, 3274699.0605978067), (3, 269813.74084271502), (4, 862618.95455615048), ('origscreen', 977866.88481548335)]\n",
      "score 0.689157010157\n"
     ]
    }
   ],
   "source": [
    "enet = linear_model.ElasticNet()\n",
    "\n",
    "parameters = {'normalize':(True,False),\n",
    "              'alpha':np.logspace(-2,30,50)}\n",
    "grid_searcher = grid_search.GridSearchCV(enet, parameters, cv=kf)\n",
    "\n",
    "grid_searcher.fit(X_train, y_train)\n",
    "\n",
    "model = grid_searcher.best_estimator_\n",
    "print(grid_searcher.best_params_)\n",
    "print 'coefficients', zip(X.columns,model.coef_)\n",
    "print 'score', grid_searcher.score(X_test, y_test)\n",
    "\n"
   ]
  },
  {
   "cell_type": "code",
   "execution_count": null,
   "metadata": {
    "collapsed": false
   },
   "outputs": [],
   "source": [
    "from sklearn.ensemble import RandomForestRegressor\n",
    "import random\n",
    "wrand = to_model.copy()\n",
    "rng = [x for x in range(1, 6)]\n",
    "\n",
    "for i in rng:\n",
    "    col_name = 'RAND_' + str(i)\n",
    "    wrand[col_name] = 1\n",
    "    wrand[col_name] = wrand[col_name].map(lambda x: x * random.randint(0, 100))\n",
    "    \n",
    "wrand.columns\n",
    "X,y = wrand.drop(['domestic','execprod','producer','worldwide'], axis=1),wrand['worldwide']\n",
    "\n",
    "X_train,X_test, y_train, y_test = cross_validation.train_test_split(X,y,test_size = 0.3)\n"
   ]
  },
  {
   "cell_type": "code",
   "execution_count": null,
   "metadata": {
    "collapsed": false,
    "scrolled": true
   },
   "outputs": [],
   "source": [
    "rf =RandomForestRegressor(n_estimators = 150, max_features = 8 )\n",
    "rf.fit(X_train,y_train)\n",
    "print(sum(rf.feature_importances_))\n",
    "a  = X.columns.values"
   ]
  },
  {
   "cell_type": "code",
   "execution_count": null,
   "metadata": {
    "collapsed": false,
    "scrolled": true
   },
   "outputs": [],
   "source": [
    "sorted_features = zip(X.columns, rf.feature_importances_)\n",
    "sorted_features.sort(key=lambda x: x[1], reverse=True)\n",
    "for feature in sorted_features:\n",
    "    print(feature)"
   ]
  },
  {
   "cell_type": "code",
   "execution_count": null,
   "metadata": {
    "collapsed": false
   },
   "outputs": [],
   "source": [
    "rf.score(X_test,y_test)\n"
   ]
  },
  {
   "cell_type": "code",
   "execution_count": null,
   "metadata": {
    "collapsed": true
   },
   "outputs": [],
   "source": []
  },
  {
   "cell_type": "code",
   "execution_count": null,
   "metadata": {
    "collapsed": true
   },
   "outputs": [],
   "source": []
  },
  {
   "cell_type": "code",
   "execution_count": null,
   "metadata": {
    "collapsed": true
   },
   "outputs": [],
   "source": [
    "import statsmodels.api as sm\n"
   ]
  },
  {
   "cell_type": "code",
   "execution_count": null,
   "metadata": {
    "collapsed": false
   },
   "outputs": [],
   "source": [
    "X,y = noouts.drop(['worldwide','domestic','Black Comedy','Not Rated','Factual','Fantasy','Science Fiction',3], axis=1),noouts['worldwide']\n",
    "\n",
    "\n",
    "\n",
    "X_train,X_test, y_train, y_test = cross_validation.train_test_split(X,y,test_size = 0.3)\n",
    "\n",
    "X_train = sm.add_constant(X_train)\n"
   ]
  },
  {
   "cell_type": "code",
   "execution_count": null,
   "metadata": {
    "collapsed": true
   },
   "outputs": [],
   "source": [
    "model = sm.OLS(y_train, X_train)\n",
    "results = model.fit()"
   ]
  },
  {
   "cell_type": "code",
   "execution_count": null,
   "metadata": {
    "collapsed": false
   },
   "outputs": [],
   "source": [
    "results.params"
   ]
  },
  {
   "cell_type": "code",
   "execution_count": null,
   "metadata": {
    "collapsed": false
   },
   "outputs": [],
   "source": []
  },
  {
   "cell_type": "code",
   "execution_count": null,
   "metadata": {
    "collapsed": false
   },
   "outputs": [],
   "source": [
    "results.summary()"
   ]
  },
  {
   "cell_type": "code",
   "execution_count": null,
   "metadata": {
    "collapsed": false
   },
   "outputs": [],
   "source": [
    "import seaborn as sns"
   ]
  },
  {
   "cell_type": "code",
   "execution_count": null,
   "metadata": {
    "collapsed": false
   },
   "outputs": [],
   "source": [
    "sns.jointplot(x='firstviews', y='worldwide', data=noouts, kind = 'reg')"
   ]
  },
  {
   "cell_type": "code",
   "execution_count": null,
   "metadata": {
    "collapsed": false
   },
   "outputs": [],
   "source": [
    "sns.jointplot(x='firstviews', y='domestic', data=noouts, kind = 'reg');"
   ]
  },
  {
   "cell_type": "code",
   "execution_count": null,
   "metadata": {
    "collapsed": false
   },
   "outputs": [],
   "source": [
    "np.corrcoef(to_model['execprod'],to_model['producer'])"
   ]
  },
  {
   "cell_type": "code",
   "execution_count": null,
   "metadata": {
    "collapsed": true
   },
   "outputs": [],
   "source": []
  }
 ],
 "metadata": {
  "anaconda-cloud": {},
  "kernelspec": {
   "display_name": "Python [Root]",
   "language": "python",
   "name": "Python [Root]"
  },
  "language_info": {
   "codemirror_mode": {
    "name": "ipython",
    "version": 2
   },
   "file_extension": ".py",
   "mimetype": "text/x-python",
   "name": "python",
   "nbconvert_exporter": "python",
   "pygments_lexer": "ipython2",
   "version": "2.7.12"
  }
 },
 "nbformat": 4,
 "nbformat_minor": 0
}
