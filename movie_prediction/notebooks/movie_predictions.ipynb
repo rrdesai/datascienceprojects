{
 "cells": [
  {
   "cell_type": "code",
   "execution_count": 3,
   "metadata": {
    "collapsed": true
   },
   "outputs": [],
   "source": [
    " def extract(dictionary,key):\n",
    "    try:\n",
    "        return dictionary[key]\n",
    "    except:\n",
    "        return np.nan"
   ]
  },
  {
   "cell_type": "code",
   "execution_count": 4,
   "metadata": {
    "collapsed": false
   },
   "outputs": [],
   "source": [
    "def trypull(list):\n",
    "    try:\n",
    "        return list[0]\n",
    "    except:\n",
    "        return np.nan"
   ]
  },
  {
   "cell_type": "code",
   "execution_count": 5,
   "metadata": {
    "collapsed": true
   },
   "outputs": [],
   "source": [
    "def bigactors(actors):\n",
    "    actor_list = [i[0] for i in prolific]   \n",
    "    count = 0\n",
    "    for i in actors:\n",
    "        if i in actor_list:\n",
    "            count+=1\n",
    "    return count"
   ]
  },
  {
   "cell_type": "code",
   "execution_count": 6,
   "metadata": {
    "collapsed": true
   },
   "outputs": [],
   "source": [
    "def bigdirectors(director):\n",
    "    dir_list = [i[0] for i in prolific]\n",
    "    count = 0\n",
    "    if director in dir_list:\n",
    "        count+=1\n",
    "    return count"
   ]
  },
  {
   "cell_type": "code",
   "execution_count": 7,
   "metadata": {
    "collapsed": true
   },
   "outputs": [],
   "source": [
    "def convert_ytdate(dstring):\n",
    "    try:\n",
    "        if dstring.find('days') > -1:\n",
    "            return round(int(dstring.split(' ')[0]))\n",
    "        elif dstring.find('months') > -1:\n",
    "            d = int(dstring.split(' ')[0])\n",
    "            return round(int(d*4.333*7))\n",
    "        elif dstring.find('weeks') > -1:\n",
    "            d = int(dstring.split(' ')[0])\n",
    "            return round(int(d*7))\n",
    "        elif dstring.find('years') > -1:\n",
    "            d = int(dstring.split(' ')[0])\n",
    "            return round(int(d*52*7))\n",
    "        else: return np.nan\n",
    "    except:\n",
    "        return np.nan"
   ]
  },
  {
   "cell_type": "code",
   "execution_count": 8,
   "metadata": {
    "collapsed": true
   },
   "outputs": [],
   "source": [
    "def append_crew(cast):\n",
    "    for i in cast:\n",
    "        try: castlist[i] += 1\n",
    "        except: castlist[i] = 1\n"
   ]
  },
  {
   "cell_type": "code",
   "execution_count": 9,
   "metadata": {
    "collapsed": true
   },
   "outputs": [],
   "source": [
    "def append_dir(director):\n",
    "    try: dirlist[director]+=1\n",
    "    except: dirlist[director] = 1"
   ]
  },
  {
   "cell_type": "code",
   "execution_count": 10,
   "metadata": {
    "collapsed": true
   },
   "outputs": [],
   "source": [
    "def rating_clean(rating):\n",
    "    try:\n",
    "        \n",
    "        if rating[0] in ('n', 'M/PG', 'Open'):\n",
    "            return np.nan\n",
    "        else:\n",
    "            return rating[0]\n",
    "    except:\n",
    "        return np.nan"
   ]
  },
  {
   "cell_type": "code",
   "execution_count": 11,
   "metadata": {
    "collapsed": true
   },
   "outputs": [],
   "source": [
    "def split_rating(rating):\n",
    "    try:\n",
    "        return int(rating.split('%')[0])\n",
    "    except:\n",
    "        return np.nan"
   ]
  },
  {
   "cell_type": "code",
   "execution_count": 12,
   "metadata": {
    "collapsed": true
   },
   "outputs": [],
   "source": [
    "def ytviews(views):\n",
    "    try:\n",
    "        return int(views.split(' ')[0].replace(',',''))\n",
    "    except:\n",
    "        return np.nan"
   ]
  },
  {
   "cell_type": "code",
   "execution_count": 13,
   "metadata": {
    "collapsed": false
   },
   "outputs": [],
   "source": [
    "def internationalcount(x):\n",
    "    try: return len(x)\n",
    "    except: return np.nan"
   ]
  },
  {
   "cell_type": "code",
   "execution_count": 34,
   "metadata": {
    "collapsed": false
   },
   "outputs": [],
   "source": [
    "import pandas as pd\n",
    "import numpy as np\n",
    "with open('movies.json') as f:\n",
    "    df = pd.read_json(f)\n",
    "\n",
    "cleaned = df.drop(['runtime','prodCountries','prodCompanies','keywords','comps','domesticReleases'], axis = 1)\n",
    "\n",
    "\n",
    "cleaned['critics'] = cleaned['critics'].apply(lambda x: split_rating(x))\n",
    "cleaned['audience'] = cleaned['audience'].apply(lambda x: split_rating(x))\n",
    "cleaned['creative'] = cleaned['creative'].apply(lambda x: trypull(x))\n",
    "cleaned['firstviews'] = cleaned['firstviews'].apply(lambda x: ytviews(x))\n",
    "cleaned['firstdate'] = cleaned['firstdate'].apply(lambda x: convert_ytdate(x))\n",
    "cleaned['genre'] = cleaned['genre'].apply(lambda x: trypull(x))\n",
    "cleaned['budget'] = cleaned['budget'].apply(lambda x: int(x.replace(',','').replace('$','')))\n",
    "cleaned['source'] = cleaned['source'].apply(lambda x: trypull(x))\n",
    "\n",
    "\n",
    "cleaned['director'] = cleaned['crew'].apply(lambda x: extract(x, 'Director'))\n",
    "cleaned['producer'] = cleaned['crew'].apply(lambda x: extract(x, 'Producer'))\n",
    "cleaned['execprod'] = cleaned['crew'].apply(lambda x: extract(x,'Executive Producer'))\n",
    "cleaned['scrwriter'] = cleaned['crew'].apply(lambda x: extract(x, 'Screenwriter'))\n",
    "\n",
    "cleaned['released']  = pd.to_datetime(cleaned['released'], format='%m/%d/%Y')\n",
    "cleaned = cleaned[(cleaned['released'].dt.year >= 2013)]\n",
    "cleaned['released'] = cleaned['released'].dt.quarter\n",
    "cleaned['cast'] = cleaned['cast'].apply(lambda x: x.values())\n",
    "cleaned['rating'] = cleaned['mpaaRating'].apply(lambda x: trypull(x))\n",
    "cleaned['domestic'] = cleaned['domestic'].apply(lambda x: int(x.replace('$','').replace(',','')))\n",
    "cleaned['worldwide'] = cleaned['worldwide'].apply(lambda x: int(x.replace('$','').replace(',','')))\n",
    "cleaned['results'] = cleaned['results'].apply(lambda x: int(x.replace(',','')))\n",
    "cleaned['franchise'] = cleaned['franchise'].apply(lambda x: internationalcount(x))\n",
    "cleaned['mpaaRating'] = cleaned['mpaaRating'].apply(lambda x: rating_clean(x))\n",
    "cleaned['internationalReleases'] = cleaned['internationalReleases'].apply(lambda x: internationalcount(x))\n"
   ]
  },
  {
   "cell_type": "code",
   "execution_count": 35,
   "metadata": {
    "collapsed": false
   },
   "outputs": [
    {
     "name": "stdout",
     "output_type": "stream",
     "text": [
      "<class 'pandas.core.frame.DataFrame'> <class 'pandas.core.frame.DataFrame'> <class 'pandas.core.frame.DataFrame'> <class 'pandas.core.frame.DataFrame'>\n"
     ]
    }
   ],
   "source": [
    "gendummies = pd.get_dummies(cleaned['genre'], drop_first=True)\n",
    "ratdummies = pd.get_dummies(cleaned['mpaaRating'],drop_first=True)\n",
    "creatdummies = pd.get_dummies(cleaned['creative'], drop_first=True)\n",
    "datdummies = pd.get_dummies(cleaned['released'], drop_first = True)\n",
    "print type(gendummies), type(ratdummies), type(creatdummies),type(cleaned)\n",
    "cleaned = pd.concat([cleaned, gendummies, ratdummies, creatdummies, datdummies], axis = 1)\n",
    "\n"
   ]
  },
  {
   "cell_type": "code",
   "execution_count": 36,
   "metadata": {
    "collapsed": false
   },
   "outputs": [],
   "source": [
    "castlist = {}\n",
    "castbymov = []\n",
    "cleaned['cast'].apply(lambda x: append_crew(x));\n",
    "for k,v in castlist.iteritems():\n",
    "    tupe = (k,v)\n",
    "    castbymov.append(tupe)\n",
    "prolific = sorted(castbymov, key=lambda tup: tup[1], reverse=True)[:100]\n",
    "cleaned['cast'] = cleaned['cast'].apply(lambda x:bigactors(x))"
   ]
  },
  {
   "cell_type": "code",
   "execution_count": 37,
   "metadata": {
    "collapsed": true
   },
   "outputs": [],
   "source": [
    "dirlist = {}\n",
    "dirbymov = []\n",
    "cleaned['director'].apply(lambda x: append_dir(x))\n",
    "for k,v in dirlist.iteritems():\n",
    "    tupe = (k,v)\n",
    "    dirbymov.append(tupe)\n",
    "prolific = sorted(dirbymov, key = lambda tup: tup[1], reverse = True)[:50]\n",
    "cleaned['director'] = cleaned['director'].apply(lambda x:bigdirectors(x))\n"
   ]
  },
  {
   "cell_type": "code",
   "execution_count": 38,
   "metadata": {
    "collapsed": false,
    "scrolled": false
   },
   "outputs": [],
   "source": [
    "dirlist = {}\n",
    "execbymov = []\n",
    "cleaned['execprod'].apply(lambda x: append_dir(x))\n",
    "for k,v in dirlist.iteritems():\n",
    "    tupe = (k,v)\n",
    "    execbymov.append(tupe)\n",
    "prolific = sorted(execbymov, key = lambda tup: tup[1], reverse = True)[:25]\n",
    "cleaned['execprod'] = cleaned['execprod'].apply(lambda x:bigdirectors(x))\n"
   ]
  },
  {
   "cell_type": "code",
   "execution_count": 39,
   "metadata": {
    "collapsed": true
   },
   "outputs": [],
   "source": [
    "dirlist = {}\n",
    "producer = []\n",
    "cleaned['producer'].apply(lambda x: append_dir(x))\n",
    "for k,v in dirlist.iteritems():\n",
    "    tupe = (k,v)\n",
    "    producer.append(tupe)\n",
    "prolific = sorted(producer, key = lambda tup: tup[1], reverse = True)[:25]\n",
    "cleaned['producer'] = cleaned['producer'].apply(lambda x:bigdirectors(x))"
   ]
  },
  {
   "cell_type": "code",
   "execution_count": 40,
   "metadata": {
    "collapsed": true
   },
   "outputs": [],
   "source": [
    "dirlist = {}\n",
    "screen = []\n",
    "cleaned['scrwriter'].apply(lambda x: append_dir(x))\n",
    "for k,v in dirlist.iteritems():\n",
    "    tupe = (k,v)\n",
    "    producer.append(tupe)\n",
    "prolific = sorted(producer, key = lambda tup: tup[1], reverse = True)[:25]\n",
    "cleaned['scrwriter'] = cleaned['scrwriter'].apply(lambda x:bigdirectors(x))"
   ]
  },
  {
   "cell_type": "code",
   "execution_count": 41,
   "metadata": {
    "collapsed": false
   },
   "outputs": [],
   "source": [
    "cleaned['origscreen'] = cleaned['source'].apply(lambda x: int(x=='Original Screenplay'))\n",
    "to_model = cleaned.drop(['crew','source','mpaaRating','production','released','rank','genre','critics','audience','Multiple Creative Types','title','franchise','Concert/Performance','creative','rating','crew','internationalReleases'], axis = 1)"
   ]
  },
  {
   "cell_type": "code",
   "execution_count": 42,
   "metadata": {
    "collapsed": false
   },
   "outputs": [],
   "source": [
    "to_model = to_model.fillna(to_model.mean())"
   ]
  },
  {
   "cell_type": "code",
   "execution_count": 43,
   "metadata": {
    "collapsed": false
   },
   "outputs": [
    {
     "data": {
      "text/html": [
       "<div>\n",
       "<table border=\"1\" class=\"dataframe\">\n",
       "  <thead>\n",
       "    <tr style=\"text-align: right;\">\n",
       "      <th></th>\n",
       "      <th>title</th>\n",
       "      <th>cast</th>\n",
       "      <th>budget</th>\n",
       "      <th>worldwide</th>\n",
       "    </tr>\n",
       "  </thead>\n",
       "  <tbody>\n",
       "    <tr>\n",
       "      <th>11</th>\n",
       "      <td>Star Wars Ep. VII: The Force Awakens</td>\n",
       "      <td>3</td>\n",
       "      <td>306000000</td>\n",
       "      <td>2058662225</td>\n",
       "    </tr>\n",
       "    <tr>\n",
       "      <th>5062</th>\n",
       "      <td>Frozen</td>\n",
       "      <td>0</td>\n",
       "      <td>150000000</td>\n",
       "      <td>1274234980</td>\n",
       "    </tr>\n",
       "    <tr>\n",
       "      <th>5061</th>\n",
       "      <td>Zootopia</td>\n",
       "      <td>4</td>\n",
       "      <td>150000000</td>\n",
       "      <td>1021768248</td>\n",
       "    </tr>\n",
       "    <tr>\n",
       "      <th>5143</th>\n",
       "      <td>Finding Dory</td>\n",
       "      <td>3</td>\n",
       "      <td>200000000</td>\n",
       "      <td>985205113</td>\n",
       "    </tr>\n",
       "    <tr>\n",
       "      <th>5158</th>\n",
       "      <td>The Hobbit: The Desolation of Smaug</td>\n",
       "      <td>1</td>\n",
       "      <td>250000000</td>\n",
       "      <td>960366855</td>\n",
       "    </tr>\n",
       "    <tr>\n",
       "      <th>5157</th>\n",
       "      <td>The Hobbit: The Battle of the Five Armies</td>\n",
       "      <td>1</td>\n",
       "      <td>250000000</td>\n",
       "      <td>955119788</td>\n",
       "    </tr>\n",
       "    <tr>\n",
       "      <th>4989</th>\n",
       "      <td>The Hunger Games: Catching Fire</td>\n",
       "      <td>5</td>\n",
       "      <td>130000000</td>\n",
       "      <td>864868047</td>\n",
       "    </tr>\n",
       "    <tr>\n",
       "      <th>5105</th>\n",
       "      <td>Inside Out</td>\n",
       "      <td>2</td>\n",
       "      <td>175000000</td>\n",
       "      <td>853923085</td>\n",
       "    </tr>\n",
       "    <tr>\n",
       "      <th>4655</th>\n",
       "      <td>The Secret Life of Pets</td>\n",
       "      <td>3</td>\n",
       "      <td>75000000</td>\n",
       "      <td>833731360</td>\n",
       "    </tr>\n",
       "    <tr>\n",
       "      <th>5094</th>\n",
       "      <td>Guardians of the Galaxy</td>\n",
       "      <td>4</td>\n",
       "      <td>170000000</td>\n",
       "      <td>771172112</td>\n",
       "    </tr>\n",
       "    <tr>\n",
       "      <th>5114</th>\n",
       "      <td>Maleficent</td>\n",
       "      <td>0</td>\n",
       "      <td>180000000</td>\n",
       "      <td>758536735</td>\n",
       "    </tr>\n",
       "    <tr>\n",
       "      <th>5138</th>\n",
       "      <td>Monsters University</td>\n",
       "      <td>3</td>\n",
       "      <td>200000000</td>\n",
       "      <td>743588329</td>\n",
       "    </tr>\n",
       "    <tr>\n",
       "      <th>5091</th>\n",
       "      <td>Dawn of the Planet of the Apes</td>\n",
       "      <td>1</td>\n",
       "      <td>170000000</td>\n",
       "      <td>703545589</td>\n",
       "    </tr>\n",
       "    <tr>\n",
       "      <th>5080</th>\n",
       "      <td>Interstellar</td>\n",
       "      <td>2</td>\n",
       "      <td>165000000</td>\n",
       "      <td>665417894</td>\n",
       "    </tr>\n",
       "    <tr>\n",
       "      <th>5083</th>\n",
       "      <td>Big Hero 6</td>\n",
       "      <td>1</td>\n",
       "      <td>165000000</td>\n",
       "      <td>652127828</td>\n",
       "    </tr>\n",
       "    <tr>\n",
       "      <th>5053</th>\n",
       "      <td>Thor: The Dark World</td>\n",
       "      <td>4</td>\n",
       "      <td>150000000</td>\n",
       "      <td>644602516</td>\n",
       "    </tr>\n",
       "    <tr>\n",
       "      <th>5025</th>\n",
       "      <td>How to Train Your Dragon 2</td>\n",
       "      <td>4</td>\n",
       "      <td>145000000</td>\n",
       "      <td>616102924</td>\n",
       "    </tr>\n",
       "    <tr>\n",
       "      <th>4999</th>\n",
       "      <td>The Revenant</td>\n",
       "      <td>1</td>\n",
       "      <td>135000000</td>\n",
       "      <td>532950503</td>\n",
       "    </tr>\n",
       "    <tr>\n",
       "      <th>5015</th>\n",
       "      <td>Kung Fu Panda 3</td>\n",
       "      <td>2</td>\n",
       "      <td>140000000</td>\n",
       "      <td>518628619</td>\n",
       "    </tr>\n",
       "    <tr>\n",
       "      <th>4981</th>\n",
       "      <td>Rio 2</td>\n",
       "      <td>0</td>\n",
       "      <td>130000000</td>\n",
       "      <td>493738435</td>\n",
       "    </tr>\n",
       "    <tr>\n",
       "      <th>5137</th>\n",
       "      <td>Oz the Great and Powerful</td>\n",
       "      <td>1</td>\n",
       "      <td>200000000</td>\n",
       "      <td>490359051</td>\n",
       "    </tr>\n",
       "    <tr>\n",
       "      <th>4927</th>\n",
       "      <td>San Andreas</td>\n",
       "      <td>1</td>\n",
       "      <td>110000000</td>\n",
       "      <td>469590832</td>\n",
       "    </tr>\n",
       "    <tr>\n",
       "      <th>5125</th>\n",
       "      <td>Star Trek Into Darkness</td>\n",
       "      <td>2</td>\n",
       "      <td>190000000</td>\n",
       "      <td>467381584</td>\n",
       "    </tr>\n",
       "    <tr>\n",
       "      <th>4458</th>\n",
       "      <td>The Lego Movie</td>\n",
       "      <td>8</td>\n",
       "      <td>60000000</td>\n",
       "      <td>457729388</td>\n",
       "    </tr>\n",
       "    <tr>\n",
       "      <th>4899</th>\n",
       "      <td>Ice Age: Collision Course</td>\n",
       "      <td>1</td>\n",
       "      <td>105000000</td>\n",
       "      <td>403725304</td>\n",
       "    </tr>\n",
       "    <tr>\n",
       "      <th>4333</th>\n",
       "      <td>Monster Hunt</td>\n",
       "      <td>0</td>\n",
       "      <td>56000000</td>\n",
       "      <td>386096060</td>\n",
       "    </tr>\n",
       "    <tr>\n",
       "      <th>4972</th>\n",
       "      <td>Night at the Museum: Secret of the Tomb</td>\n",
       "      <td>2</td>\n",
       "      <td>127000000</td>\n",
       "      <td>356546621</td>\n",
       "    </tr>\n",
       "    <tr>\n",
       "      <th>5111</th>\n",
       "      <td>The Legend of Tarzan</td>\n",
       "      <td>3</td>\n",
       "      <td>180000000</td>\n",
       "      <td>349143061</td>\n",
       "    </tr>\n",
       "    <tr>\n",
       "      <th>4915</th>\n",
       "      <td>The Smurfs 2</td>\n",
       "      <td>0</td>\n",
       "      <td>110000000</td>\n",
       "      <td>348547523</td>\n",
       "    </tr>\n",
       "    <tr>\n",
       "      <th>4610</th>\n",
       "      <td>The Angry Birds Movie</td>\n",
       "      <td>5</td>\n",
       "      <td>73000000</td>\n",
       "      <td>347118767</td>\n",
       "    </tr>\n",
       "    <tr>\n",
       "      <th>...</th>\n",
       "      <td>...</td>\n",
       "      <td>...</td>\n",
       "      <td>...</td>\n",
       "      <td>...</td>\n",
       "    </tr>\n",
       "    <tr>\n",
       "      <th>2121</th>\n",
       "      <td>Trash</td>\n",
       "      <td>0</td>\n",
       "      <td>12000000</td>\n",
       "      <td>6553186</td>\n",
       "    </tr>\n",
       "    <tr>\n",
       "      <th>4671</th>\n",
       "      <td>Don Gato, el inicio de la pandilla</td>\n",
       "      <td>0</td>\n",
       "      <td>80000000</td>\n",
       "      <td>4534791</td>\n",
       "    </tr>\n",
       "    <tr>\n",
       "      <th>1606</th>\n",
       "      <td>The Christmas Candle</td>\n",
       "      <td>0</td>\n",
       "      <td>7000000</td>\n",
       "      <td>1933829</td>\n",
       "    </tr>\n",
       "    <tr>\n",
       "      <th>900</th>\n",
       "      <td>The Lost Medallion: The Adventures of Billy Stone</td>\n",
       "      <td>0</td>\n",
       "      <td>2500000</td>\n",
       "      <td>549632</td>\n",
       "    </tr>\n",
       "    <tr>\n",
       "      <th>3615</th>\n",
       "      <td>The Young and Prodigious T.S. Spivet</td>\n",
       "      <td>0</td>\n",
       "      <td>33000000</td>\n",
       "      <td>357687</td>\n",
       "    </tr>\n",
       "    <tr>\n",
       "      <th>1875</th>\n",
       "      <td>Jungle Shuffle</td>\n",
       "      <td>0</td>\n",
       "      <td>10000000</td>\n",
       "      <td>314073</td>\n",
       "    </tr>\n",
       "    <tr>\n",
       "      <th>3417</th>\n",
       "      <td>Savva. Serdtse voyna</td>\n",
       "      <td>0</td>\n",
       "      <td>30000000</td>\n",
       "      <td>172242</td>\n",
       "    </tr>\n",
       "    <tr>\n",
       "      <th>3824</th>\n",
       "      <td>Dragon Nest Warriors' Dawn</td>\n",
       "      <td>0</td>\n",
       "      <td>40000000</td>\n",
       "      <td>155403</td>\n",
       "    </tr>\n",
       "    <tr>\n",
       "      <th>1900</th>\n",
       "      <td>Kicks</td>\n",
       "      <td>0</td>\n",
       "      <td>10000000</td>\n",
       "      <td>150191</td>\n",
       "    </tr>\n",
       "    <tr>\n",
       "      <th>3416</th>\n",
       "      <td>Space Pirate Captain Harlock</td>\n",
       "      <td>0</td>\n",
       "      <td>30000000</td>\n",
       "      <td>143490</td>\n",
       "    </tr>\n",
       "    <tr>\n",
       "      <th>1237</th>\n",
       "      <td>Falcon Rising</td>\n",
       "      <td>0</td>\n",
       "      <td>4500000</td>\n",
       "      <td>11774</td>\n",
       "    </tr>\n",
       "    <tr>\n",
       "      <th>3639</th>\n",
       "      <td>The Lovers</td>\n",
       "      <td>0</td>\n",
       "      <td>35000000</td>\n",
       "      <td>11106</td>\n",
       "    </tr>\n",
       "    <tr>\n",
       "      <th>1301</th>\n",
       "      <td>Yoga Hosers</td>\n",
       "      <td>1</td>\n",
       "      <td>5000000</td>\n",
       "      <td>2199</td>\n",
       "    </tr>\n",
       "    <tr>\n",
       "      <th>1297</th>\n",
       "      <td>Henry &amp; Me</td>\n",
       "      <td>0</td>\n",
       "      <td>5000000</td>\n",
       "      <td>0</td>\n",
       "    </tr>\n",
       "    <tr>\n",
       "      <th>957</th>\n",
       "      <td>Iguana</td>\n",
       "      <td>0</td>\n",
       "      <td>3000000</td>\n",
       "      <td>0</td>\n",
       "    </tr>\n",
       "    <tr>\n",
       "      <th>99</th>\n",
       "      <td>Dude, Where's My Dog</td>\n",
       "      <td>0</td>\n",
       "      <td>100000</td>\n",
       "      <td>0</td>\n",
       "    </tr>\n",
       "    <tr>\n",
       "      <th>757</th>\n",
       "      <td>Lucky Dog</td>\n",
       "      <td>0</td>\n",
       "      <td>2000000</td>\n",
       "      <td>0</td>\n",
       "    </tr>\n",
       "    <tr>\n",
       "      <th>1581</th>\n",
       "      <td>Alpha &amp; Omega: The Legend of the Saw Tooth Cave</td>\n",
       "      <td>0</td>\n",
       "      <td>7000000</td>\n",
       "      <td>0</td>\n",
       "    </tr>\n",
       "    <tr>\n",
       "      <th>96</th>\n",
       "      <td>Lunchtime Heroes</td>\n",
       "      <td>0</td>\n",
       "      <td>100000</td>\n",
       "      <td>0</td>\n",
       "    </tr>\n",
       "    <tr>\n",
       "      <th>3132</th>\n",
       "      <td>The Adventurer: The Curse of the Midas Box</td>\n",
       "      <td>1</td>\n",
       "      <td>25000000</td>\n",
       "      <td>0</td>\n",
       "    </tr>\n",
       "    <tr>\n",
       "      <th>5109</th>\n",
       "      <td>Valerian and the City of a Thousand Planets</td>\n",
       "      <td>0</td>\n",
       "      <td>180000000</td>\n",
       "      <td>0</td>\n",
       "    </tr>\n",
       "    <tr>\n",
       "      <th>4122</th>\n",
       "      <td>Hannibal the Conqueror</td>\n",
       "      <td>0</td>\n",
       "      <td>50000000</td>\n",
       "      <td>0</td>\n",
       "    </tr>\n",
       "    <tr>\n",
       "      <th>2116</th>\n",
       "      <td>Supesu Batorushippu Yamato</td>\n",
       "      <td>0</td>\n",
       "      <td>12000000</td>\n",
       "      <td>0</td>\n",
       "    </tr>\n",
       "    <tr>\n",
       "      <th>4942</th>\n",
       "      <td>Trolls</td>\n",
       "      <td>1</td>\n",
       "      <td>120000000</td>\n",
       "      <td>0</td>\n",
       "    </tr>\n",
       "    <tr>\n",
       "      <th>188</th>\n",
       "      <td>Horse Camp</td>\n",
       "      <td>0</td>\n",
       "      <td>250000</td>\n",
       "      <td>0</td>\n",
       "    </tr>\n",
       "    <tr>\n",
       "      <th>251</th>\n",
       "      <td>Rotor DR1</td>\n",
       "      <td>0</td>\n",
       "      <td>350000</td>\n",
       "      <td>0</td>\n",
       "    </tr>\n",
       "    <tr>\n",
       "      <th>716</th>\n",
       "      <td>Against the Wild</td>\n",
       "      <td>0</td>\n",
       "      <td>1800000</td>\n",
       "      <td>0</td>\n",
       "    </tr>\n",
       "    <tr>\n",
       "      <th>2787</th>\n",
       "      <td>The Thousand Miles</td>\n",
       "      <td>0</td>\n",
       "      <td>20000000</td>\n",
       "      <td>0</td>\n",
       "    </tr>\n",
       "    <tr>\n",
       "      <th>2790</th>\n",
       "      <td>Dwegons and Leprechauns</td>\n",
       "      <td>1</td>\n",
       "      <td>20000000</td>\n",
       "      <td>0</td>\n",
       "    </tr>\n",
       "    <tr>\n",
       "      <th>294</th>\n",
       "      <td>The Little Ponderosa Zoo</td>\n",
       "      <td>0</td>\n",
       "      <td>500000</td>\n",
       "      <td>0</td>\n",
       "    </tr>\n",
       "  </tbody>\n",
       "</table>\n",
       "<p>106 rows × 4 columns</p>\n",
       "</div>"
      ],
      "text/plain": [
       "                                                  title  cast     budget  \\\n",
       "11                 Star Wars Ep. VII: The Force Awakens     3  306000000   \n",
       "5062                                             Frozen     0  150000000   \n",
       "5061                                           Zootopia     4  150000000   \n",
       "5143                                       Finding Dory     3  200000000   \n",
       "5158                The Hobbit: The Desolation of Smaug     1  250000000   \n",
       "5157          The Hobbit: The Battle of the Five Armies     1  250000000   \n",
       "4989                    The Hunger Games: Catching Fire     5  130000000   \n",
       "5105                                         Inside Out     2  175000000   \n",
       "4655                            The Secret Life of Pets     3   75000000   \n",
       "5094                            Guardians of the Galaxy     4  170000000   \n",
       "5114                                         Maleficent     0  180000000   \n",
       "5138                                Monsters University     3  200000000   \n",
       "5091                     Dawn of the Planet of the Apes     1  170000000   \n",
       "5080                                       Interstellar     2  165000000   \n",
       "5083                                         Big Hero 6     1  165000000   \n",
       "5053                               Thor: The Dark World     4  150000000   \n",
       "5025                         How to Train Your Dragon 2     4  145000000   \n",
       "4999                                       The Revenant     1  135000000   \n",
       "5015                                    Kung Fu Panda 3     2  140000000   \n",
       "4981                                              Rio 2     0  130000000   \n",
       "5137                          Oz the Great and Powerful     1  200000000   \n",
       "4927                                        San Andreas     1  110000000   \n",
       "5125                            Star Trek Into Darkness     2  190000000   \n",
       "4458                                     The Lego Movie     8   60000000   \n",
       "4899                          Ice Age: Collision Course     1  105000000   \n",
       "4333                                       Monster Hunt     0   56000000   \n",
       "4972            Night at the Museum: Secret of the Tomb     2  127000000   \n",
       "5111                               The Legend of Tarzan     3  180000000   \n",
       "4915                                       The Smurfs 2     0  110000000   \n",
       "4610                              The Angry Birds Movie     5   73000000   \n",
       "...                                                 ...   ...        ...   \n",
       "2121                                              Trash     0   12000000   \n",
       "4671                 Don Gato, el inicio de la pandilla     0   80000000   \n",
       "1606                               The Christmas Candle     0    7000000   \n",
       "900   The Lost Medallion: The Adventures of Billy Stone     0    2500000   \n",
       "3615               The Young and Prodigious T.S. Spivet     0   33000000   \n",
       "1875                                     Jungle Shuffle     0   10000000   \n",
       "3417                               Savva. Serdtse voyna     0   30000000   \n",
       "3824                         Dragon Nest Warriors' Dawn     0   40000000   \n",
       "1900                                              Kicks     0   10000000   \n",
       "3416                       Space Pirate Captain Harlock     0   30000000   \n",
       "1237                                      Falcon Rising     0    4500000   \n",
       "3639                                         The Lovers     0   35000000   \n",
       "1301                                        Yoga Hosers     1    5000000   \n",
       "1297                                         Henry & Me     0    5000000   \n",
       "957                                              Iguana     0    3000000   \n",
       "99                                 Dude, Where's My Dog     0     100000   \n",
       "757                                           Lucky Dog     0    2000000   \n",
       "1581    Alpha & Omega: The Legend of the Saw Tooth Cave     0    7000000   \n",
       "96                                     Lunchtime Heroes     0     100000   \n",
       "3132         The Adventurer: The Curse of the Midas Box     1   25000000   \n",
       "5109        Valerian and the City of a Thousand Planets     0  180000000   \n",
       "4122                             Hannibal the Conqueror     0   50000000   \n",
       "2116                         Supesu Batorushippu Yamato     0   12000000   \n",
       "4942                                             Trolls     1  120000000   \n",
       "188                                          Horse Camp     0     250000   \n",
       "251                                           Rotor DR1     0     350000   \n",
       "716                                    Against the Wild     0    1800000   \n",
       "2787                                 The Thousand Miles     0   20000000   \n",
       "2790                            Dwegons and Leprechauns     1   20000000   \n",
       "294                            The Little Ponderosa Zoo     0     500000   \n",
       "\n",
       "       worldwide  \n",
       "11    2058662225  \n",
       "5062  1274234980  \n",
       "5061  1021768248  \n",
       "5143   985205113  \n",
       "5158   960366855  \n",
       "5157   955119788  \n",
       "4989   864868047  \n",
       "5105   853923085  \n",
       "4655   833731360  \n",
       "5094   771172112  \n",
       "5114   758536735  \n",
       "5138   743588329  \n",
       "5091   703545589  \n",
       "5080   665417894  \n",
       "5083   652127828  \n",
       "5053   644602516  \n",
       "5025   616102924  \n",
       "4999   532950503  \n",
       "5015   518628619  \n",
       "4981   493738435  \n",
       "5137   490359051  \n",
       "4927   469590832  \n",
       "5125   467381584  \n",
       "4458   457729388  \n",
       "4899   403725304  \n",
       "4333   386096060  \n",
       "4972   356546621  \n",
       "5111   349143061  \n",
       "4915   348547523  \n",
       "4610   347118767  \n",
       "...          ...  \n",
       "2121     6553186  \n",
       "4671     4534791  \n",
       "1606     1933829  \n",
       "900       549632  \n",
       "3615      357687  \n",
       "1875      314073  \n",
       "3417      172242  \n",
       "3824      155403  \n",
       "1900      150191  \n",
       "3416      143490  \n",
       "1237       11774  \n",
       "3639       11106  \n",
       "1301        2199  \n",
       "1297           0  \n",
       "957            0  \n",
       "99             0  \n",
       "757            0  \n",
       "1581           0  \n",
       "96             0  \n",
       "3132           0  \n",
       "5109           0  \n",
       "4122           0  \n",
       "2116           0  \n",
       "4942           0  \n",
       "188            0  \n",
       "251            0  \n",
       "716            0  \n",
       "2787           0  \n",
       "2790           0  \n",
       "294            0  \n",
       "\n",
       "[106 rows x 4 columns]"
      ]
     },
     "execution_count": 43,
     "metadata": {},
     "output_type": "execute_result"
    }
   ],
   "source": [
    "cleaned[cleaned['genre'] == 'Adventure'][['title','cast','budget','worldwide']].sort_values('worldwide', ascending = False)"
   ]
  },
  {
   "cell_type": "markdown",
   "metadata": {},
   "source": [
    "#### need to figure out how to handle producer, screenwriter, director, executiveproducer, & firstdate"
   ]
  },
  {
   "cell_type": "code",
   "execution_count": 44,
   "metadata": {
    "collapsed": false
   },
   "outputs": [],
   "source": [
    "import pandas as pd\n",
    "import numpy as np\n",
    "import math\n",
    "from sklearn import cross_validation, linear_model, grid_search\n",
    "import matplotlib.pyplot as plt\n",
    "import seaborn as sns\n",
    "%matplotlib inline\n",
    "\n",
    "\n",
    "def scatter_matrix(X):\n",
    "    feature_count = len(X.columns)\n",
    "    fig,ax = plt.subplots(ncols=feature_count,nrows=feature_count,figsize=(10*feature_count, 10*feature_count))\n",
    "\n",
    "    for i,feature_i in enumerate(X):\n",
    "        for j,feature_j in enumerate(X):\n",
    "            ax[i][j].scatter(X[feature_i],X[feature_j])\n",
    "            ax[i][j].set_xlabel('Feature ' + str(feature_i))\n",
    "            ax[i][j].set_ylabel('Feature ' + str(feature_j))\n"
   ]
  },
  {
   "cell_type": "code",
   "execution_count": 55,
   "metadata": {
    "collapsed": false
   },
   "outputs": [],
   "source": [
    "X,y = to_model[['budget','cast','firstviews']],to_model['worldwide']\n",
    "\n",
    "X_train,X_test, y_train, y_test = cross_validation.train_test_split(X,y,test_size = 0.3)\n",
    "\n"
   ]
  },
  {
   "cell_type": "code",
   "execution_count": 56,
   "metadata": {
    "collapsed": false
   },
   "outputs": [],
   "source": [
    "import pandas as pd\n",
    "import numpy as np\n",
    "import matplotlib.pyplot as plt\n",
    "import random\n",
    "import re\n",
    "from sklearn import cross_validation, datasets, linear_model, grid_search, tree, preprocessing\n",
    "from sklearn.tree import export_graphviz, DecisionTreeRegressor\n",
    "from sklearn.ensemble import RandomForestClassifier,  RandomForestRegressor,  ExtraTreesClassifier\n",
    "from sklearn.cross_validation import KFold\n",
    "\n",
    "%matplotlib inline"
   ]
  },
  {
   "cell_type": "code",
   "execution_count": 57,
   "metadata": {
    "collapsed": true
   },
   "outputs": [],
   "source": [
    "kf = KFold(len(X_train), n_folds=20, shuffle=True, random_state=0)\n"
   ]
  },
  {
   "cell_type": "code",
   "execution_count": 58,
   "metadata": {
    "collapsed": false,
    "scrolled": false
   },
   "outputs": [
    {
     "name": "stdout",
     "output_type": "stream",
     "text": [
      "{'normalize': True, 'alpha': 910298.17799152271}\n",
      "coefficients [  2.33640595e+00   2.69838393e+06   5.75849719e+00]\n",
      "score 0.724118061932\n"
     ]
    },
    {
     "data": {
      "text/plain": [
       "[(u'budget', 2.3364059509079844),\n",
       " (u'cast', 2698383.9259054405),\n",
       " (u'firstviews', 5.7584971866717911)]"
      ]
     },
     "execution_count": 58,
     "metadata": {},
     "output_type": "execute_result"
    }
   ],
   "source": [
    "lasso = linear_model.Lasso()\n",
    "\n",
    "parameters = {'normalize':(True,False),\n",
    "              'alpha':np.logspace(-1,30,50)}\n",
    "grid_searcher = grid_search.GridSearchCV(lasso, parameters, cv=kf)\n",
    "\n",
    "X_train,X_test, y_train, y_test = cross_validation.train_test_split(X,y,test_size = 0.3)\n",
    "\n",
    "grid_searcher.fit(X_train, y_train)\n",
    "\n",
    "\n",
    "model = grid_searcher.best_estimator_\n",
    "print(grid_searcher.best_params_)\n",
    "print 'coefficients', model.coef_\n",
    "print 'score', grid_searcher.score(X_test, y_test)\n",
    "zip(X_train.columns, model.coef_)\n",
    "\n"
   ]
  },
  {
   "cell_type": "code",
   "execution_count": 59,
   "metadata": {
    "collapsed": false
   },
   "outputs": [
    {
     "name": "stdout",
     "output_type": "stream",
     "text": [
      "{'normalize': False, 'alpha': 4.0949150623804229}\n",
      "coefficients [(u'budget', 2.6102065676771744), (u'cast', 5705341.6323448597), (u'firstviews', 7.2729828310826621)]\n",
      "score 0.733423317011\n"
     ]
    }
   ],
   "source": [
    "enet = linear_model.ElasticNet()\n",
    "\n",
    "parameters = {'normalize':(True,False),\n",
    "              'alpha':np.logspace(-2,30,50)}\n",
    "grid_searcher = grid_search.GridSearchCV(enet, parameters, cv=kf)\n",
    "\n",
    "grid_searcher.fit(X_train, y_train)\n",
    "\n",
    "model = grid_searcher.best_estimator_\n",
    "print(grid_searcher.best_params_)\n",
    "print 'coefficients', zip(X.columns,model.coef_)\n",
    "print 'score', grid_searcher.score(X_test, y_test)\n",
    "\n"
   ]
  },
  {
   "cell_type": "code",
   "execution_count": 60,
   "metadata": {
    "collapsed": false
   },
   "outputs": [],
   "source": [
    "from sklearn.ensemble import RandomForestRegressor\n",
    "import random\n",
    "wrand = to_model.copy()\n",
    "rng = [x for x in range(1, 6)]\n",
    "\n",
    "for i in rng:\n",
    "    col_name = 'RAND_' + str(i)\n",
    "    wrand[col_name] = 1\n",
    "    wrand[col_name] = wrand[col_name].map(lambda x: x * random.randint(0, 100))\n",
    "    \n",
    "wrand.columns\n",
    "X,y = wrand[['budget','cast','firstviews']],wrand['worldwide']\n",
    "\n",
    "X_train,X_test, y_train, y_test = cross_validation.train_test_split(X,y,test_size = 0.3)\n"
   ]
  },
  {
   "cell_type": "code",
   "execution_count": 62,
   "metadata": {
    "collapsed": false,
    "scrolled": true
   },
   "outputs": [
    {
     "name": "stdout",
     "output_type": "stream",
     "text": [
      "1.0\n"
     ]
    }
   ],
   "source": [
    "rf =RandomForestRegressor(n_estimators = 150, max_features = 3 )\n",
    "rf.fit(X_train,y_train)\n",
    "print(sum(rf.feature_importances_))\n",
    "a  = X.columns.values"
   ]
  },
  {
   "cell_type": "code",
   "execution_count": 63,
   "metadata": {
    "collapsed": false,
    "scrolled": true
   },
   "outputs": [
    {
     "name": "stdout",
     "output_type": "stream",
     "text": [
      "(u'budget', 0.73317073458218929)\n",
      "(u'firstviews', 0.22742048897728248)\n",
      "(u'cast', 0.039408776440528051)\n"
     ]
    }
   ],
   "source": [
    "sorted_features = zip(X.columns, rf.feature_importances_)\n",
    "sorted_features.sort(key=lambda x: x[1], reverse=True)\n",
    "for feature in sorted_features:\n",
    "    print(feature)"
   ]
  },
  {
   "cell_type": "code",
   "execution_count": 64,
   "metadata": {
    "collapsed": false
   },
   "outputs": [
    {
     "data": {
      "text/plain": [
       "0.63751577559235595"
      ]
     },
     "execution_count": 64,
     "metadata": {},
     "output_type": "execute_result"
    }
   ],
   "source": [
    "rf.score(X_test,y_test)\n"
   ]
  },
  {
   "cell_type": "code",
   "execution_count": null,
   "metadata": {
    "collapsed": true
   },
   "outputs": [],
   "source": []
  },
  {
   "cell_type": "code",
   "execution_count": null,
   "metadata": {
    "collapsed": true
   },
   "outputs": [],
   "source": []
  },
  {
   "cell_type": "code",
   "execution_count": 82,
   "metadata": {
    "collapsed": true
   },
   "outputs": [],
   "source": [
    "import statsmodels.api as sm\n"
   ]
  },
  {
   "cell_type": "code",
   "execution_count": 83,
   "metadata": {
    "collapsed": false
   },
   "outputs": [],
   "source": [
    "X,y = to_model[['budget','firstviews','cast']],to_model['worldwide']\n",
    "\n",
    "\n",
    "\n",
    "X_train,X_test, y_train, y_test = cross_validation.train_test_split(X,y,test_size = 0.3)\n",
    "\n",
    "X_train = sm.add_constant(X_train)\n"
   ]
  },
  {
   "cell_type": "code",
   "execution_count": 84,
   "metadata": {
    "collapsed": true
   },
   "outputs": [],
   "source": [
    "model = sm.OLS(y_train, X_train)\n",
    "results = model.fit()"
   ]
  },
  {
   "cell_type": "code",
   "execution_count": 85,
   "metadata": {
    "collapsed": false
   },
   "outputs": [
    {
     "data": {
      "text/plain": [
       "const        -3.298371e+07\n",
       "budget        2.722022e+00\n",
       "firstviews    6.612505e+00\n",
       "cast          9.689067e+06\n",
       "dtype: float64"
      ]
     },
     "execution_count": 85,
     "metadata": {},
     "output_type": "execute_result"
    }
   ],
   "source": [
    "results.params"
   ]
  },
  {
   "cell_type": "code",
   "execution_count": 86,
   "metadata": {
    "collapsed": false
   },
   "outputs": [
    {
     "data": {
      "text/html": [
       "<table class=\"simpletable\">\n",
       "<caption>OLS Regression Results</caption>\n",
       "<tr>\n",
       "  <th>Dep. Variable:</th>        <td>worldwide</td>    <th>  R-squared:         </th> <td>   0.696</td> \n",
       "</tr>\n",
       "<tr>\n",
       "  <th>Model:</th>                   <td>OLS</td>       <th>  Adj. R-squared:    </th> <td>   0.694</td> \n",
       "</tr>\n",
       "<tr>\n",
       "  <th>Method:</th>             <td>Least Squares</td>  <th>  F-statistic:       </th> <td>   492.5</td> \n",
       "</tr>\n",
       "<tr>\n",
       "  <th>Date:</th>             <td>Fri, 07 Oct 2016</td> <th>  Prob (F-statistic):</th> <td>1.96e-166</td>\n",
       "</tr>\n",
       "<tr>\n",
       "  <th>Time:</th>                 <td>09:49:38</td>     <th>  Log-Likelihood:    </th> <td> -13021.</td> \n",
       "</tr>\n",
       "<tr>\n",
       "  <th>No. Observations:</th>      <td>   650</td>      <th>  AIC:               </th> <td>2.605e+04</td>\n",
       "</tr>\n",
       "<tr>\n",
       "  <th>Df Residuals:</th>          <td>   646</td>      <th>  BIC:               </th> <td>2.607e+04</td>\n",
       "</tr>\n",
       "<tr>\n",
       "  <th>Df Model:</th>              <td>     3</td>      <th>                     </th>     <td> </td>    \n",
       "</tr>\n",
       "<tr>\n",
       "  <th>Covariance Type:</th>      <td>nonrobust</td>    <th>                     </th>     <td> </td>    \n",
       "</tr>\n",
       "</table>\n",
       "<table class=\"simpletable\">\n",
       "<tr>\n",
       "       <td></td>         <th>coef</th>     <th>std err</th>      <th>t</th>      <th>P>|t|</th> <th>[95.0% Conf. Int.]</th> \n",
       "</tr>\n",
       "<tr>\n",
       "  <th>const</th>      <td>-3.298e+07</td> <td> 6.16e+06</td> <td>   -5.350</td> <td> 0.000</td> <td>-4.51e+07 -2.09e+07</td>\n",
       "</tr>\n",
       "<tr>\n",
       "  <th>budget</th>     <td>    2.7220</td> <td>    0.116</td> <td>   23.452</td> <td> 0.000</td> <td>    2.494     2.950</td>\n",
       "</tr>\n",
       "<tr>\n",
       "  <th>firstviews</th> <td>    6.6125</td> <td>    0.621</td> <td>   10.641</td> <td> 0.000</td> <td>    5.392     7.833</td>\n",
       "</tr>\n",
       "<tr>\n",
       "  <th>cast</th>       <td> 9.689e+06</td> <td> 3.91e+06</td> <td>    2.477</td> <td> 0.013</td> <td> 2.01e+06  1.74e+07</td>\n",
       "</tr>\n",
       "</table>\n",
       "<table class=\"simpletable\">\n",
       "<tr>\n",
       "  <th>Omnibus:</th>       <td>486.977</td> <th>  Durbin-Watson:     </th> <td>   1.998</td> \n",
       "</tr>\n",
       "<tr>\n",
       "  <th>Prob(Omnibus):</th> <td> 0.000</td>  <th>  Jarque-Bera (JB):  </th> <td>18265.896</td>\n",
       "</tr>\n",
       "<tr>\n",
       "  <th>Skew:</th>          <td> 2.894</td>  <th>  Prob(JB):          </th> <td>    0.00</td> \n",
       "</tr>\n",
       "<tr>\n",
       "  <th>Kurtosis:</th>      <td>28.317</td>  <th>  Cond. No.          </th> <td>8.10e+07</td> \n",
       "</tr>\n",
       "</table>"
      ],
      "text/plain": [
       "<class 'statsmodels.iolib.summary.Summary'>\n",
       "\"\"\"\n",
       "                            OLS Regression Results                            \n",
       "==============================================================================\n",
       "Dep. Variable:              worldwide   R-squared:                       0.696\n",
       "Model:                            OLS   Adj. R-squared:                  0.694\n",
       "Method:                 Least Squares   F-statistic:                     492.5\n",
       "Date:                Fri, 07 Oct 2016   Prob (F-statistic):          1.96e-166\n",
       "Time:                        09:49:38   Log-Likelihood:                -13021.\n",
       "No. Observations:                 650   AIC:                         2.605e+04\n",
       "Df Residuals:                     646   BIC:                         2.607e+04\n",
       "Df Model:                           3                                         \n",
       "Covariance Type:            nonrobust                                         \n",
       "==============================================================================\n",
       "                 coef    std err          t      P>|t|      [95.0% Conf. Int.]\n",
       "------------------------------------------------------------------------------\n",
       "const      -3.298e+07   6.16e+06     -5.350      0.000     -4.51e+07 -2.09e+07\n",
       "budget         2.7220      0.116     23.452      0.000         2.494     2.950\n",
       "firstviews     6.6125      0.621     10.641      0.000         5.392     7.833\n",
       "cast        9.689e+06   3.91e+06      2.477      0.013      2.01e+06  1.74e+07\n",
       "==============================================================================\n",
       "Omnibus:                      486.977   Durbin-Watson:                   1.998\n",
       "Prob(Omnibus):                  0.000   Jarque-Bera (JB):            18265.896\n",
       "Skew:                           2.894   Prob(JB):                         0.00\n",
       "Kurtosis:                      28.317   Cond. No.                     8.10e+07\n",
       "==============================================================================\n",
       "\n",
       "Warnings:\n",
       "[1] Standard Errors assume that the covariance matrix of the errors is correctly specified.\n",
       "[2] The condition number is large, 8.1e+07. This might indicate that there are\n",
       "strong multicollinearity or other numerical problems.\n",
       "\"\"\""
      ]
     },
     "execution_count": 86,
     "metadata": {},
     "output_type": "execute_result"
    }
   ],
   "source": [
    "results.summary()"
   ]
  },
  {
   "cell_type": "code",
   "execution_count": null,
   "metadata": {
    "collapsed": false
   },
   "outputs": [],
   "source": [
    "import seaborn as sns"
   ]
  },
  {
   "cell_type": "code",
   "execution_count": 81,
   "metadata": {
    "collapsed": false
   },
   "outputs": [
    {
     "data": {
      "text/plain": [
       "<seaborn.axisgrid.JointGrid at 0x11bcbd750>"
      ]
     },
     "execution_count": 81,
     "metadata": {},
     "output_type": "execute_result"
    },
    {
     "data": {
      "image/png": "[encoded data removed]",
      "text/plain": [
       "<matplotlib.figure.Figure at 0x11bfd4990>"
      ]
     },
     "metadata": {},
     "output_type": "display_data"
    }
   ],
   "source": [
    "sns.jointplot(x='firstviews', y='worldwide', data=to_model)"
   ]
  },
  {
   "cell_type": "code",
   "execution_count": 80,
   "metadata": {
    "collapsed": false
   },
   "outputs": [
    {
     "ename": "ValueError",
     "evalue": "Using arbitrary long args with data is not supported due to ambiguity of arguments.\nUse multiple plotting calls instead.",
     "output_type": "error",
     "traceback": [
      "\u001b[0;31m---------------------------------------------------------------------------\u001b[0m",
      "\u001b[0;31mValueError\u001b[0m                                Traceback (most recent call last)",
      "\u001b[0;32m<ipython-input-80-3255ed3c1245>\u001b[0m in \u001b[0;36m<module>\u001b[0;34m()\u001b[0m\n\u001b[0;32m----> 1\u001b[0;31m \u001b[0mplt\u001b[0m\u001b[0;34m.\u001b[0m\u001b[0mplot\u001b[0m\u001b[0;34m(\u001b[0m\u001b[0mx\u001b[0m\u001b[0;34m=\u001b[0m\u001b[0;34m'firstviews'\u001b[0m\u001b[0;34m,\u001b[0m \u001b[0my\u001b[0m\u001b[0;34m=\u001b[0m\u001b[0;34m'domestic'\u001b[0m\u001b[0;34m,\u001b[0m \u001b[0mdata\u001b[0m\u001b[0;34m=\u001b[0m\u001b[0mto_model\u001b[0m\u001b[0;34m,\u001b[0m \u001b[0mkind\u001b[0m \u001b[0;34m=\u001b[0m \u001b[0;34m'reg'\u001b[0m\u001b[0;34m)\u001b[0m\u001b[0;34m;\u001b[0m\u001b[0;34m\u001b[0m\u001b[0m\n\u001b[0m\u001b[1;32m      2\u001b[0m \u001b[0mplt\u001b[0m\u001b[0;34m.\u001b[0m\u001b[0mtitle\u001b[0m\u001b[0;34m(\u001b[0m\u001b[0;34m'Youtube views vs global'\u001b[0m\u001b[0;34m)\u001b[0m\u001b[0;34m\u001b[0m\u001b[0m\n",
      "\u001b[0;32m/Users/R1/anaconda/lib/python2.7/site-packages/matplotlib/pyplot.pyc\u001b[0m in \u001b[0;36mplot\u001b[0;34m(*args, **kwargs)\u001b[0m\n\u001b[1;32m   3152\u001b[0m         \u001b[0max\u001b[0m\u001b[0;34m.\u001b[0m\u001b[0mhold\u001b[0m\u001b[0;34m(\u001b[0m\u001b[0mhold\u001b[0m\u001b[0;34m)\u001b[0m\u001b[0;34m\u001b[0m\u001b[0m\n\u001b[1;32m   3153\u001b[0m     \u001b[0;32mtry\u001b[0m\u001b[0;34m:\u001b[0m\u001b[0;34m\u001b[0m\u001b[0m\n\u001b[0;32m-> 3154\u001b[0;31m         \u001b[0mret\u001b[0m \u001b[0;34m=\u001b[0m \u001b[0max\u001b[0m\u001b[0;34m.\u001b[0m\u001b[0mplot\u001b[0m\u001b[0;34m(\u001b[0m\u001b[0;34m*\u001b[0m\u001b[0margs\u001b[0m\u001b[0;34m,\u001b[0m \u001b[0;34m**\u001b[0m\u001b[0mkwargs\u001b[0m\u001b[0;34m)\u001b[0m\u001b[0;34m\u001b[0m\u001b[0m\n\u001b[0m\u001b[1;32m   3155\u001b[0m     \u001b[0;32mfinally\u001b[0m\u001b[0;34m:\u001b[0m\u001b[0;34m\u001b[0m\u001b[0m\n\u001b[1;32m   3156\u001b[0m         \u001b[0max\u001b[0m\u001b[0;34m.\u001b[0m\u001b[0mhold\u001b[0m\u001b[0;34m(\u001b[0m\u001b[0mwashold\u001b[0m\u001b[0;34m)\u001b[0m\u001b[0;34m\u001b[0m\u001b[0m\n",
      "\u001b[0;32m/Users/R1/anaconda/lib/python2.7/site-packages/matplotlib/__init__.pyc\u001b[0m in \u001b[0;36minner\u001b[0;34m(ax, *args, **kwargs)\u001b[0m\n\u001b[1;32m   1748\u001b[0m                     \u001b[0;31m# update the information about replace names and\u001b[0m\u001b[0;34m\u001b[0m\u001b[0;34m\u001b[0m\u001b[0m\n\u001b[1;32m   1749\u001b[0m                     \u001b[0;31m# label position\u001b[0m\u001b[0;34m\u001b[0m\u001b[0;34m\u001b[0m\u001b[0m\n\u001b[0;32m-> 1750\u001b[0;31m                     \u001b[0m_arg_names\u001b[0m \u001b[0;34m=\u001b[0m \u001b[0mpositional_parameter_names\u001b[0m\u001b[0;34m(\u001b[0m\u001b[0margs\u001b[0m\u001b[0;34m,\u001b[0m \u001b[0mdata\u001b[0m\u001b[0;34m)\u001b[0m\u001b[0;34m\u001b[0m\u001b[0m\n\u001b[0m\u001b[1;32m   1751\u001b[0m                     if (label_namer and  # we actually want a label here ...\n\u001b[1;32m   1752\u001b[0m                             \u001b[0m_arg_names\u001b[0m \u001b[0;32mand\u001b[0m  \u001b[0;31m# and we can find a label in *args\u001b[0m\u001b[0;34m\u001b[0m\u001b[0m\n",
      "\u001b[0;32m/Users/R1/anaconda/lib/python2.7/site-packages/matplotlib/axes/_axes.pyc\u001b[0m in \u001b[0;36m_plot_args_replacer\u001b[0;34m(args, data)\u001b[0m\n\u001b[1;32m     70\u001b[0m         \u001b[0;32mreturn\u001b[0m \u001b[0;34m[\u001b[0m\u001b[0;34m\"x\"\u001b[0m\u001b[0;34m,\u001b[0m \u001b[0;34m\"y\"\u001b[0m\u001b[0;34m,\u001b[0m \u001b[0;34m\"c\"\u001b[0m\u001b[0;34m]\u001b[0m\u001b[0;34m\u001b[0m\u001b[0m\n\u001b[1;32m     71\u001b[0m     \u001b[0;32melse\u001b[0m\u001b[0;34m:\u001b[0m\u001b[0;34m\u001b[0m\u001b[0m\n\u001b[0;32m---> 72\u001b[0;31m         raise ValueError(\"Using arbitrary long args with data is not \"\n\u001b[0m\u001b[1;32m     73\u001b[0m                          \u001b[0;34m\"supported due to ambiguity of arguments.\\nUse \"\u001b[0m\u001b[0;34m\u001b[0m\u001b[0m\n\u001b[1;32m     74\u001b[0m                          \"multiple plotting calls instead.\")\n",
      "\u001b[0;31mValueError\u001b[0m: Using arbitrary long args with data is not supported due to ambiguity of arguments.\nUse multiple plotting calls instead."
     ]
    },
    {
     "data": {
      "image/png": "[encoded data removed]",
      "text/plain": [
       "<matplotlib.figure.Figure at 0x11a6e8b90>"
      ]
     },
     "metadata": {},
     "output_type": "display_data"
    }
   ],
   "source": [
    "plt.plot(x='firstviews', y='domestic', data=to_model, kind = 'reg');\n",
    "plt.title('Youtube views vs global')"
   ]
  },
  {
   "cell_type": "code",
   "execution_count": null,
   "metadata": {
    "collapsed": false
   },
   "outputs": [],
   "source": [
    "np.corrcoef(to_model['execprod'],to_model['producer'])"
   ]
  },
  {
   "cell_type": "code",
   "execution_count": null,
   "metadata": {
    "collapsed": true
   },
   "outputs": [],
   "source": []
  }
 ],
 "metadata": {
  "anaconda-cloud": {},
  "kernelspec": {
   "display_name": "Python [Root]",
   "language": "python",
   "name": "Python [Root]"
  },
  "language_info": {
   "codemirror_mode": {
    "name": "ipython",
    "version": 2
   },
   "file_extension": ".py",
   "mimetype": "text/x-python",
   "name": "python",
   "nbconvert_exporter": "python",
   "pygments_lexer": "ipython2",
   "version": "2.7.12"
  }
 },
 "nbformat": 4,
 "nbformat_minor": 0
}
