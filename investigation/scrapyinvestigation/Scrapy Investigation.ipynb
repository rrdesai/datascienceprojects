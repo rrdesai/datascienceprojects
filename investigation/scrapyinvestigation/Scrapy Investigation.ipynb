{
 "cells": [
  {
   "cell_type": "code",
   "execution_count": 1,
   "metadata": {
    "collapsed": true
   },
   "outputs": [],
   "source": [
    "import pandas as pd\n",
    "import numpy as np"
   ]
  },
  {
   "cell_type": "markdown",
   "metadata": {},
   "source": [
    "### Run  nytimes frontpage scraper"
   ]
  },
  {
   "cell_type": "code",
   "execution_count": 2,
   "metadata": {
    "collapsed": false
   },
   "outputs": [
    {
     "name": "stdout",
     "output_type": "stream",
     "text": [
      "2016-10-24 13:56:36 [scrapy] INFO: Scrapy 1.1.2 started (bot: scrapyinvestigation)\n",
      "2016-10-24 13:56:36 [scrapy] INFO: Overridden settings: {'NEWSPIDER_MODULE': 'scrapyinvestigation.spiders', 'FEED_URI': 'nytimes.json', 'SPIDER_MODULES': ['scrapyinvestigation.spiders'], 'BOT_NAME': 'scrapyinvestigation', 'ROBOTSTXT_OBEY': True, 'FEED_FORMAT': 'json'}\n",
      "2016-10-24 13:56:36 [scrapy] INFO: Enabled extensions:\n",
      "['scrapy.extensions.feedexport.FeedExporter',\n",
      " 'scrapy.extensions.logstats.LogStats',\n",
      " 'scrapy.extensions.telnet.TelnetConsole',\n",
      " 'scrapy.extensions.corestats.CoreStats']\n",
      "2016-10-24 13:56:37 [scrapy] INFO: Enabled downloader middlewares:\n",
      "['scrapy.downloadermiddlewares.robotstxt.RobotsTxtMiddleware',\n",
      " 'scrapy.downloadermiddlewares.httpauth.HttpAuthMiddleware',\n",
      " 'scrapy.downloadermiddlewares.downloadtimeout.DownloadTimeoutMiddleware',\n",
      " 'scrapy.downloadermiddlewares.useragent.UserAgentMiddleware',\n",
      " 'scrapy.downloadermiddlewares.retry.RetryMiddleware',\n",
      " 'scrapy.downloadermiddlewares.defaultheaders.DefaultHeadersMiddleware',\n",
      " 'scrapy.downloadermiddlewares.redirect.MetaRefreshMiddleware',\n",
      " 'scrapy.downloadermiddlewares.httpcompression.HttpCompressionMiddleware',\n",
      " 'scrapy.downloadermiddlewares.redirect.RedirectMiddleware',\n",
      " 'scrapy.downloadermiddlewares.cookies.CookiesMiddleware',\n",
      " 'scrapy.downloadermiddlewares.chunked.ChunkedTransferMiddleware',\n",
      " 'scrapy.downloadermiddlewares.stats.DownloaderStats']\n",
      "2016-10-24 13:56:37 [scrapy] INFO: Enabled spider middlewares:\n",
      "['scrapy.spidermiddlewares.httperror.HttpErrorMiddleware',\n",
      " 'scrapy.spidermiddlewares.offsite.OffsiteMiddleware',\n",
      " 'scrapy.spidermiddlewares.referer.RefererMiddleware',\n",
      " 'scrapy.spidermiddlewares.urllength.UrlLengthMiddleware',\n",
      " 'scrapy.spidermiddlewares.depth.DepthMiddleware']\n",
      "2016-10-24 13:56:37 [scrapy] INFO: Enabled item pipelines:\n",
      "[]\n",
      "2016-10-24 13:56:37 [scrapy] INFO: Spider opened\n",
      "2016-10-24 13:56:37 [scrapy] INFO: Crawled 0 pages (at 0 pages/min), scraped 0 items (at 0 items/min)\n",
      "2016-10-24 13:56:37 [scrapy] DEBUG: Telnet console listening on 127.0.0.1:6024\n",
      "2016-10-24 13:56:37 [scrapy] DEBUG: Redirecting (301) to <GET http://www.nytimes.com/robots.txt> from <GET https://www.nytimes.com/robots.txt>\n",
      "2016-10-24 13:56:43 [scrapy] DEBUG: Crawled (200) <GET http://www.nytimes.com/robots.txt> (referer: None)\n",
      "2016-10-24 13:56:49 [scrapy] DEBUG: Redirecting (301) to <GET http://www.nytimes.com/> from <GET https://www.nytimes.com>\n",
      "2016-10-24 13:56:56 [scrapy] DEBUG: Crawled (200) <GET http://www.nytimes.com/> (referer: None)\n",
      "2016-10-24 13:56:56 [scrapy] DEBUG: Scraped from <200 http://www.nytimes.com/>\n",
      "{u'France Clears Jungle Camp at Calais, Dispersing Thousands of Migrants': u'http://www.nytimes.com/2016/10/25/world/europe/calais-jungle-camp-migrants.html', u'How to Clean a Dusty Picasso: Use Your Spit': u'http://www.nytimes.com/2016/10/25/arts/design/how-to-clean-a-dusty-picasso-at-moma.html', u'Does Your Doorman Have a Hidden Talent?': u'http://www.nytimes.com/2016/10/23/realestate/does-your-doorman-have-a-hidden-talent.html', u'Books of The Times: Review: In Do Not Say We Have Nothing, a Portrait of Souls Snuffed Out': u'http://www.nytimes.com/2016/10/24/books/review-in-do-not-say-we-have-nothing-a-portrait-of-souls-snuffed-out.html', u'Wives Keeping Their Names? Judges in Japan Balk': u'http://www.nytimes.com/2016/10/25/world/asia/japan-women-married-name.html', u'France Begins to Clear Calais Camp: Jungle Is Finished!': u'http://www.nytimes.com/2016/10/25/world/europe/calais-jungle-camp-migrants.html', u'At Least 13 Killed in Bus Crash on California Highway': u'http://www.nytimes.com/2016/10/24/us/california-bus-crash.html', u'In Praise of Choir': u'http://www.nytimes.com/2016/10/23/magazine/letter-of-recommendation-choir.html', u'California Today: The Bay Areas Best Sandwich and Other Tips': u'http://www.nytimes.com/2016/10/24/us/california-today-kevin-durant-best-of-bay-area.html', u'Why the Justice Dept. Will Have Far Fewer Watchdogs in Polling Places': u'http://www.nytimes.com/2016/10/25/us/politics/why-the-justice-dept-will-have-far-fewer-watchdogs-in-polling-places.html', u'Drop and Give Me 22!': u'http://www.nytimes.com/2016/10/23/insider/drop-and-give-me-22.html', u'Max Landis Is a Hollywood Disrupter With an Attitude': u'http://www.nytimes.com/2016/10/23/movies/max-landis-is-a-hollywood-disrupter-with-an-attitude.html', u'N.F.L. Scores: Nobodys Perfect, but the Patriots Are Close': u'http://www.nytimes.com/2016/10/23/sports/nfl-scores-schedule.html', u'The Walking Dead': u'http://www.nytimes.com/2016/10/23/arts/television/the-walking-dead-season-7-premiere-negan.html', u'What in the World: A Travelers Guide to Customs: When to Shake Hands, Hug or Kiss': u'http://www.nytimes.com/2016/10/22/world/what-in-the-world/travel-greetings.html', u'The Walking Dead: The Walking Dead Season 7 Premiere: Negans Victim Is Revealed': u'http://www.nytimes.com/2016/10/23/arts/television/the-walking-dead-season-7-premiere-negan.html', u'The Malibu Juice Magnate': u'http://www.nytimes.com/2016/10/23/fashion/sunlife-juice-bars-malibu-khalil-rafati.html', u'Homes That Sold for $1 Million and Above': u'http://www.nytimes.com/2016/10/23/realestate/homes-that-sold-for-1-million-an-above.html', u'Notebook: Trump in April: If I Lose, Ill Let It All Out': u'http://www.nytimes.com/2016/10/21/magazine/trump-in-april-if-i-lose-ill-let-it-all-out.html', u'Turkeys Push to Join Battle Stirs Tensions With Iraq': u'http://www.nytimes.com/2016/10/24/world/middleeast/turkeys-push-to-join-battle-for-mosul-inflames-tension-with-iraq.html', u'Tom Hayden, 1960s Activist Turned Lawmaker, Dies at 76': u'http://www.nytimes.com/2016/10/25/us/tom-hayden-dead.html', u'11 Ways to Take Better Photos of Your Food': u'http://www.nytimes.com/interactive/2016/10/18/dining/instagram-food-photography-tips.html', u'She Never Spoke of It to Her Husband. Then She Heard the Trump Tape.': u'http://www.nytimes.com/2016/10/22/us/she-never-spoke-of-it-to-her-husband-then-she-heard-the-trump-tape.html', u'Gordon Hamilton, Climate Scientist, Dies at 50 in Antarctica Accident': u'http://www.nytimes.com/2016/10/25/science/gordon-hamilton-climate-scientist-dies-accident-antarctica.html', u'Feature: Should We See Everything a Cop Sees?': u'http://www.nytimes.com/2016/10/23/magazine/police-body-cameras.html', u'Victory in Sight, Clinton Seeks to Help Other Democrats': u'http://www.nytimes.com/2016/10/24/us/politics/hillary-clinton-campaign-donald-trump.html', u'Tips for Handling a Toxic Co-Worker': u'http://www.nytimes.com/2016/10/21/style/tips-for-handling-a-toxic-coworker.html', u'New York Times Company Buys The Wirecutter': u'http://www.nytimes.com/2016/10/25/business/media/new-york-times-company-buys-the-wirecutter.html', u'Lady Gaga on Her New Album \\u2014 and Everything That Came Before': u'http://www.nytimes.com/2016/10/17/t-magazine/lady-gaga-joanne.html', u'City Kitchen: Potato Samosas, Long a Street Food, Find a Place in Your Kitchen': u'http://www.nytimes.com/2016/10/26/dining/samosa-recipe-potato.html', u'Common Sense: How Much Graduates Earn Drives More College Rankings': u'http://www.nytimes.com/2016/10/21/business/how-much-graduates-earn-drives-more-college-rankings.html', u'Op-Ed: Why Hillary Clinton Needs to Be Two-Faced': u'http://www.nytimes.com/2016/10/23/opinion/campaign-stops/why-hillary-clinton-needs-to-be-two-faced.html', u'My Wifes Killer Was Not an Illegal Immigrant': u'http://www.nytimes.com/2016/10/24/opinion/my-wifes-killer-was-not-an-illegal-immigrant.html', u'Election May Be a Turning Point for Legal Marijuana': u'http://www.nytimes.com/2016/10/25/us/marijuana-legalization-ballot-measures.html', u'Wines of The Times: The Innate, Ageless Appeal of Good Bordeaux': u'http://www.nytimes.com/2016/10/26/dining/wine-review-bordeaux-2011.html', u'Join us on Facebook \\xbb': u'http://www.facebook.com/nytopinion', u'DealBook: Making Sense of AT&Ts Bid for Time Warner': u'http://www.nytimes.com/2016/10/24/business/making-sense-of-atts-bid-for-time-warner.html', u'Search for Homes for Sale or Rent': u'http://www.nytimes.com/real-estate/find-a-home', u'Fantasy Sports Companies Near Settlement With New York State': u'http://www.nytimes.com/2016/10/24/sports/draftkings-fanduel-daily-fantasy-near-settlement-with-new-york-state.html', u'Editorial: The Death Penalty, Nearing Its End': u'http://www.nytimes.com/2016/10/24/opinion/the-death-penalty-nearing-its-end.html', u'Victorian Cocktails and Medical Curiosities in (Where Else?) Brooklyn': u'http://www.nytimes.com/2016/10/24/nyregion/brooklyn-bar-house-of-wax-alamo-drafthouse.html', u'Why Are Americans So Anxious?': u'http://www.nytimes.com/2016/10/30/books/review/america-the-anxious-ruth-whippman.html', u'Struggling to Serve at the Nations Richest University': u'http://www.nytimes.com/2016/10/24/opinion/struggling-to-serve-at-the-nations-richest-university.html', u'2016 Election Forecast: Who Will Be President?': u'http://www.nytimes.com/interactive/2016/upshot/presidential-polls-forecast.html', u'Come On Along With Us': u'http://wordplay.blogs.nytimes.com/2016/07/26/come-on-along-with-us/', u'Lawsuit Filed Over Golden Girls Puppet Parody': u'http://www.nytimes.com/2016/10/24/theater/lawsuit-filed-over-golden-girls-puppet-parody.html', u'Buy a New Ride and Take a Spin With a Pro': u'http://www.nytimes.com/2016/10/21/automobiles/buy-a-new-ride-and-take-a-spin-with-a-pro.html', u'Personal Journeys: Want to Explore Iceland? An Airline Has a Buddy Who Can Help': u'http://www.nytimes.com/2016/10/23/travel/exploring-iceland-airline-buddy-program.html', u'End in Sight for a Subway Delay Measured in Decades': u'http://www.nytimes.com/2016/10/25/nyregion/after-almost-a-century-second-avenue-subway-is-oh-so-close-to-arriving.html', u'Gail Collins: Dont Take Donald Trump to Dinner': u'http://www.nytimes.com/2016/10/22/opinion/dont-take-donald-trump-to-dinner.html', u'The 2016 Race: To Flip the House, How Big Would a Clinton Victory Margin Need to Be?': u'http://www.nytimes.com/2016/10/25/upshot/to-flip-the-house-how-big-would-a-clinton-victory-margin-need-to-be.html', u'Editorial: A WikiLeaks Lesson for Mrs. Clinton': u'http://www.nytimes.com/2016/10/22/opinion/a-wikileaks-lesson-for-mrs-clinton.html', u'Play Todays Puzzle': u'http://www.nytimes.com/crosswords', u'Fantasy Sports Sites Near Settlement With New York': u'http://www.nytimes.com/2016/10/24/sports/draftkings-fanduel-daily-fantasy-near-settlement-with-new-york-state.html', u'Frank Bruni: The Medias Moment of Truth': u'http://www.nytimes.com/2016/10/23/opinion/sunday/the-medias-moment-of-truth.html', u'This Land: Turn Onto Old Dixie. After a Long, Rocky Stretch, It Becomes Obama Highway.': u'http://www.nytimes.com/2016/10/24/us/turn-onto-old-dixie-after-a-long-rocky-stretch-it-becomes-obama-highway.html', u'Why Big Liars Often Start Out as Small Ones': u'http://www.nytimes.com/2016/10/25/science/why-big-liars-often-start-out-as-small-ones.html', u'Room for Debate: Silicon Valley Goes to Washington': u'http://www.nytimes.com/roomfordebate/2016/10/24/silicon-valley-goes-to-washington', u'Obama Helps State Candidates to Ease Grip of Republicans': u'http://www.nytimes.com/2016/10/24/us/obama-assists-150-state-candidates-targeting-gops-grip-on-legislatures.html', u'Krugman: Its Trumps Party': u'http://www.nytimes.com/2016/10/24/opinion/its-trumps-party.html', u'Frugal Traveler: Partying in South Beach Like Its $19.99': u'http://www.nytimes.com/2016/10/23/travel/south-beach-miami-nightlife-clubs-frugal-budget.html', u'Making Sense of AT&Ts $85 Billion Bid for Time Warner': u'http://www.nytimes.com/2016/10/24/business/making-sense-of-atts-bid-for-time-warner.html', u'Arizona Dreaming: A Foreign Correspondent Wakes Up in the Wild Wild West': u'http://www.nytimes.com/2016/10/25/insider/arizona-dreaming-a-foreign-correspondent-wakes-up-in-the-wild-wild-west.html', u'Review: Man With a Plan Dusts Off a Dated Premise': u'http://www.nytimes.com/2016/10/24/arts/television/review-man-with-a-plan-dusts-off-a-dated-premise.html', u'Black Democrats Want Clinton Money for Other Contests': u'http://www.nytimes.com/2016/10/25/us/politics/hillary-clinton-money-congress.html', u'Swift Opposition to Resurrection of AT&T Giant': u'http://www.nytimes.com/2016/10/24/business/dealbook/swift-opposition-to-resurrection-of-att-giant.html', u'Blow: Clintons Specter of Illegitimacy': u'http://www.nytimes.com/2016/10/24/opinion/clintons-specter-of-illegitimacy.html', u'Kevin Meaney, Veteran Stand-Up Comedian, Dies at 60': u'http://www.nytimes.com/2016/10/23/arts/television/kevin-meaney-dead.html', u'Op-Ed: Chinas Digital Soft Power Play': u'http://www.nytimes.com/2016/10/25/opinion/chinas-digital-soft-power-play.html', u'Personal Health: Increasing CPR Training to Save Lives': u'http://www.nytimes.com/2016/10/25/well/live/increasing-cpr-training-to-save-people-in-cardiac-arrest.html', u'Aleshea Harris Wins a Playwriting Prize for Is God Is': u'http://www.nytimes.com/2016/10/24/theater/aleshea-harris-wins-a-playwriting-prize-for-is-god-is.html', u'Driven: Video Review: Hyundai Santa Fes Updates Deserve a Look': u'http://www.nytimes.com/2016/10/21/automobiles/autoreviews/video-review-hyundai-santa-fes-updates-deserve-a-look.html', u'Sell Your Home': u'http://realestateads.nytimes.com/', u'To the First Lady, With Love': u'http://www.nytimes.com/2016/10/17/t-magazine/michelle-obama-chimamanda-ngozi-adichie-gloria-steinem-letter.html', u'Editorial: A Chance to Unseat Marco Rubio': u'http://www.nytimes.com/2016/10/23/opinion/sunday/a-chance-to-unseat-marco-rubio.html', u'On the Runway: Silicon Valley Fashion Week Is No Joke': u'http://www.nytimes.com/2016/10/25/fashion/silicon-valley-fashion-week.html', u'Nonfiction: Why Are Americans So Anxious?': u'http://www.nytimes.com/2016/10/30/books/review/america-the-anxious-ruth-whippman.html', u'A Brownstone and the Bitter Fight to Inherit It': u'http://www.nytimes.com/2016/10/24/nyregion/a-brownstone-and-the-bitter-fight-to-inherit-it.html', u'Clinton Leads Trump as Marathon Nears the Final Sprint': u'http://www.nytimes.com/2016/10/25/us/politics/campaign-polling.html', u\"What's Selling Now: Homes That Sold for $1 Million and Above\": u'http://www.nytimes.com/2016/10/23/realestate/homes-that-sold-for-1-million-an-above.html', u'Cleveland Indians in 1948: A Story of Integration': u'http://www.nytimes.com/2016/10/24/sports/baseball/cleveland-indians-in-1948-a-story-of-integration.html', u'Feature: The Anti-Helicopter Parents Plea: Let Kids Play!': u'http://www.nytimes.com/2016/10/23/magazine/the-anti-helicopter-parents-plea-let-kids-play.html', u'Snapshot: Christopher Guest: No Eccentric Obsession Left Behind': u'http://www.nytimes.com/2016/10/23/movies/snapshot-christopher-guest-mascots.html', u'The Stone: On the Trail of Interdependence': u'http://www.nytimes.com/2016/10/23/opinion/sunday/on-the-trail-of-interdependence.html', u'Westworld: Westworld Season 1, Episode 4: Truth and Consequences': u'http://www.nytimes.com/2016/10/23/arts/television/season-1-episode-4-truth-and-consequences.html', u'Adam Conover Turns a Skeptical Eye to the Presidential Campaign': u'http://www.nytimes.com/2016/10/25/arts/television/adam-conover-turns-a-skeptical-eye-to-the-presidential-campaign.html', u'AT&T and Time Warner Seek to Mollify Critics of Deal': u'http://www.nytimes.com/2016/10/25/business/dealbook/att-and-time-warner-seek-to-mollify-deals-critics.html'}\n",
      "2016-10-24 13:56:56 [scrapy] INFO: Closing spider (finished)\n",
      "2016-10-24 13:56:56 [scrapy] INFO: Stored json feed (1 items) in: nytimes.json\n",
      "2016-10-24 13:56:56 [scrapy] INFO: Dumping Scrapy stats:\n",
      "{'downloader/request_bytes': 989,\n",
      " 'downloader/request_count': 4,\n",
      " 'downloader/request_method_count/GET': 4,\n",
      " 'downloader/response_bytes': 42822,\n",
      " 'downloader/response_count': 4,\n",
      " 'downloader/response_status_count/200': 2,\n",
      " 'downloader/response_status_count/301': 2,\n",
      " 'finish_reason': 'finished',\n",
      " 'finish_time': datetime.datetime(2016, 10, 24, 17, 56, 56, 657287),\n",
      " 'item_scraped_count': 1,\n",
      " 'log_count/DEBUG': 6,\n",
      " 'log_count/INFO': 8,\n",
      " 'response_received_count': 2,\n",
      " 'scheduler/dequeued': 2,\n",
      " 'scheduler/dequeued/memory': 2,\n",
      " 'scheduler/enqueued': 2,\n",
      " 'scheduler/enqueued/memory': 2,\n",
      " 'start_time': datetime.datetime(2016, 10, 24, 17, 56, 37, 423290)}\n",
      "2016-10-24 13:56:56 [scrapy] INFO: Spider closed (finished)\n"
     ]
    }
   ],
   "source": [
    "# remove the existing json file\n",
    "!rm nytimes.json \n",
    "#run the spider, saving output to nytimes.json\n",
    "!scrapy crawl investigation -o nytimes.json\n"
   ]
  },
  {
   "cell_type": "code",
   "execution_count": 3,
   "metadata": {
    "collapsed": false
   },
   "outputs": [],
   "source": [
    "#create dataframe from .json file\n",
    "df = pd.read_json('nytimes.json', orient='values')\n",
    "df = df.transpose()\n"
   ]
  },
  {
   "cell_type": "code",
   "execution_count": 4,
   "metadata": {
    "collapsed": false
   },
   "outputs": [
    {
     "data": {
      "text/html": [
       "<div>\n",
       "<table border=\"1\" class=\"dataframe\">\n",
       "  <thead>\n",
       "    <tr style=\"text-align: right;\">\n",
       "      <th></th>\n",
       "      <th>0</th>\n",
       "    </tr>\n",
       "  </thead>\n",
       "  <tbody>\n",
       "    <tr>\n",
       "      <th>11 Ways to Take Better Photos of Your Food</th>\n",
       "      <td>http://www.nytimes.com/interactive/2016/10/18/...</td>\n",
       "    </tr>\n",
       "    <tr>\n",
       "      <th>2016 Election Forecast: Who Will Be President?</th>\n",
       "      <td>http://www.nytimes.com/interactive/2016/upshot...</td>\n",
       "    </tr>\n",
       "    <tr>\n",
       "      <th>A Brownstone and the Bitter Fight to Inherit It</th>\n",
       "      <td>http://www.nytimes.com/2016/10/24/nyregion/a-b...</td>\n",
       "    </tr>\n",
       "    <tr>\n",
       "      <th>AT&amp;T and Time Warner Seek to Mollify Critics of Deal</th>\n",
       "      <td>http://www.nytimes.com/2016/10/25/business/dea...</td>\n",
       "    </tr>\n",
       "    <tr>\n",
       "      <th>Adam Conover Turns a Skeptical Eye to the Presidential Campaign</th>\n",
       "      <td>http://www.nytimes.com/2016/10/25/arts/televis...</td>\n",
       "    </tr>\n",
       "  </tbody>\n",
       "</table>\n",
       "</div>"
      ],
      "text/plain": [
       "                                                                                                    0\n",
       "11 Ways to Take Better Photos of Your Food          http://www.nytimes.com/interactive/2016/10/18/...\n",
       "2016 Election Forecast: Who Will Be President?      http://www.nytimes.com/interactive/2016/upshot...\n",
       "A Brownstone and the Bitter Fight to Inherit It     http://www.nytimes.com/2016/10/24/nyregion/a-b...\n",
       "AT&T and Time Warner Seek to Mollify Critics of...  http://www.nytimes.com/2016/10/25/business/dea...\n",
       "Adam Conover Turns a Skeptical Eye to the Presi...  http://www.nytimes.com/2016/10/25/arts/televis..."
      ]
     },
     "execution_count": 4,
     "metadata": {},
     "output_type": "execute_result"
    }
   ],
   "source": [
    "df.head()"
   ]
  },
  {
   "cell_type": "markdown",
   "metadata": {},
   "source": [
    "### Selenium primaries example"
   ]
  },
  {
   "cell_type": "code",
   "execution_count": 5,
   "metadata": {
    "collapsed": true
   },
   "outputs": [],
   "source": [
    "# pip install selenium\n",
    "import selenium.selenium\n",
    "import time\n",
    "from selenium import webdriver\n",
    "from selenium.webdriver.support.wait import WebDriverWait\n",
    "from selenium.webdriver.common.keys import Keys\n",
    "import os"
   ]
  },
  {
   "cell_type": "code",
   "execution_count": 6,
   "metadata": {
    "collapsed": true
   },
   "outputs": [],
   "source": [
    "#have to download appropriate chrome driver\n",
    "chromedriver = \"/Users/R1/chromedriver\"\n",
    "os.environ[\"webdriver.chrome.driver\"] = chromedriver\n",
    "driver = webdriver.Chrome(chromedriver)\n",
    "driver.maximize_window()\n",
    "#get rhode island primary data\n",
    "url= \"http://www.politico.com/2016-election/primary/results/map/president/rhode-island/\"\n",
    "driver.get(url)\n",
    "time.sleep(10)\n",
    "driver.execute_script(\"window.scrollTo(0,40000000000);\")"
   ]
  },
  {
   "cell_type": "code",
   "execution_count": 7,
   "metadata": {
    "collapsed": false
   },
   "outputs": [
    {
     "name": "stdout",
     "output_type": "stream",
     "text": [
      "Bristol County\n",
      "Kent County\n",
      "Newport County\n",
      "Providence County\n",
      "Washington County\n"
     ]
    }
   ],
   "source": [
    "counties = {}\n",
    "#uses same xpath syntax to find a set of elements, selenium syntax to use xpath is slightly different\n",
    "for i in driver.find_elements_by_xpath('//article[@class = \"results-group\"]'):\n",
    "    try:\n",
    "        # ./ starts xpath selector from current location\n",
    "        county = i.find_element_by_xpath('./header/div/h4').text\n",
    "        print county\n",
    "    except:\n",
    "        continue\n",
    "    candidates = {}\n",
    "    for j in i.find_elements_by_xpath('./div[@class = \"results-dataset\"]//table[@class =\"results-table\"]//tr'):\n",
    "        try:\n",
    "            candidate = j.find_element_by_xpath('.//span[@class = \"name-combo\"]').text\n",
    "            percent = j.find_element_by_xpath('.//span[@class = \"percentage-combo\"]').text\n",
    "            candidates[candidate] = percent\n",
    "        except:\n",
    "            continue\n",
    "    counties[county] = candidates\n"
   ]
  },
  {
   "cell_type": "code",
   "execution_count": 8,
   "metadata": {
    "collapsed": false
   },
   "outputs": [
    {
     "data": {
      "text/plain": [
       "{u'Bristol County': {u'B. Sanders': u'51.6%',\n",
       "  u'D. Trump': u'52.7%',\n",
       "  u'H. Clinton': u'47.3%',\n",
       "  u'J. Kasich': u'35.8%',\n",
       "  u'M. Rubio': u'0.9%',\n",
       "  u'M. Stewart': u'0.1%',\n",
       "  u'R. De La Fuente': u'0.0%',\n",
       "  u'T. Cruz': u'10.0%',\n",
       "  u'Uncommitted': u'0.7%'},\n",
       " u'Kent County': {u'B. Sanders': u'58.1%',\n",
       "  u'D. Trump': u'67.4%',\n",
       "  u'H. Clinton': u'40.0%',\n",
       "  u'J. Kasich': u'22.4%',\n",
       "  u'M. Rubio': u'0.5%',\n",
       "  u'M. Stewart': u'0.2%',\n",
       "  u'R. De La Fuente': u'0.1%',\n",
       "  u'T. Cruz': u'9.2%',\n",
       "  u'Uncommitted': u'0.6%'},\n",
       " u'Newport County': {u'B. Sanders': u'56.4%',\n",
       "  u'D. Trump': u'57.1%',\n",
       "  u'H. Clinton': u'42.5%',\n",
       "  u'J. Kasich': u'29.8%',\n",
       "  u'M. Rubio': u'0.8%',\n",
       "  u'M. Stewart': u'0.1%',\n",
       "  u'R. De La Fuente': u'0.1%',\n",
       "  u'T. Cruz': u'11.5%',\n",
       "  u'Uncommitted': u'0.8%'},\n",
       " u'Providence County': {u'B. Sanders': u'53.6%',\n",
       "  u'D. Trump': u'68.0%',\n",
       "  u'H. Clinton': u'44.6%',\n",
       "  u'J. Kasich': u'20.4%',\n",
       "  u'M. Rubio': u'0.6%',\n",
       "  u'M. Stewart': u'0.2%',\n",
       "  u'R. De La Fuente': u'0.1%',\n",
       "  u'T. Cruz': u'10.4%',\n",
       "  u'Uncommitted': u'0.6%'},\n",
       " u'Washington County': {u'B. Sanders': u'60.8%',\n",
       "  u'D. Trump': u'58.5%',\n",
       "  u'H. Clinton': u'37.9%',\n",
       "  u'J. Kasich': u'29.6%',\n",
       "  u'M. Rubio': u'0.5%',\n",
       "  u'M. Stewart': u'0.2%',\n",
       "  u'R. De La Fuente': u'0.1%',\n",
       "  u'T. Cruz': u'10.8%',\n",
       "  u'Uncommitted': u'0.6%'}}"
      ]
     },
     "execution_count": 8,
     "metadata": {},
     "output_type": "execute_result"
    }
   ],
   "source": [
    "counties"
   ]
  },
  {
   "cell_type": "code",
   "execution_count": null,
   "metadata": {
    "collapsed": true
   },
   "outputs": [],
   "source": []
  }
 ],
 "metadata": {
  "anaconda-cloud": {},
  "kernelspec": {
   "display_name": "Python [Root]",
   "language": "python",
   "name": "Python [Root]"
  },
  "language_info": {
   "codemirror_mode": {
    "name": "ipython",
    "version": 2
   },
   "file_extension": ".py",
   "mimetype": "text/x-python",
   "name": "python",
   "nbconvert_exporter": "python",
   "pygments_lexer": "ipython2",
   "version": "2.7.12"
  }
 },
 "nbformat": 4,
 "nbformat_minor": 0
}
